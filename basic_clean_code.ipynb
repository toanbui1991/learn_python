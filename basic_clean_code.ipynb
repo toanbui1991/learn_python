{
 "cells": [
  {
   "cell_type": "code",
   "execution_count": null,
   "metadata": {},
   "outputs": [],
   "source": [
    "# This is bad\n",
    "c = 5\n",
    "d = 12\n",
    "# This is good\n",
    "city_counter = 5\n",
    "elapsed_time_in_days = 12\n"
   ]
  },
  {
   "cell_type": "code",
   "execution_count": null,
   "metadata": {},
   "outputs": [],
   "source": [
    "import random\n",
    "\n",
    "# This is bad\n",
    "def roll():\n",
    "    return random.randint(0, 36)  # what is 36 supposed to represent?\n",
    "\n",
    "# This is good\n",
    "ROULETTE_POCKET_COUNT = 36\n",
    "\n",
    "def roll():\n",
    "    return random.randint(0, ROULETTE_POCKET_COUNT)"
   ]
  },
  {
   "cell_type": "code",
   "execution_count": null,
   "metadata": {},
   "outputs": [],
   "source": [
    "# reference type in name\n",
    "score_list = [12, 33, 14, 24]\n",
    "word_dict = {\n",
    "    'a': 'apple',\n",
    "    'b': 'banana',\n",
    "    'c': 'cherry',\n",
    "}\n",
    "\n",
    "names = [\"Nick\", \"Mike\", \"John\"]\n"
   ]
  },
  {
   "cell_type": "code",
   "execution_count": null,
   "metadata": {},
   "outputs": [],
   "source": [
    "#funtion and method name as a verb, and use the same verb for the same methods.\n",
    "# This is bad\n",
    "def get_name(): pass\n",
    "def fetch_age(): pass\n",
    "\n",
    "# This is good\n",
    "def get_name(): pass\n",
    "def get_age(): pass"
   ]
  },
  {
   "cell_type": "code",
   "execution_count": null,
   "metadata": {},
   "outputs": [],
   "source": [
    "#define small function or method. do one job as a time.\n",
    "# This is bad\n",
    "def fetch_and_display_personnel():\n",
    "    data = # ...\n",
    "\n",
    "    for person in data:\n",
    "        print(person)\n",
    "\n",
    "\n",
    "# This is good\n",
    "def fetch_personnel():\n",
    "    return # ...\n",
    "\n",
    "def display_personnel(data):\n",
    "    for person in data:\n",
    "        print(person)"
   ]
  }
 ],
 "metadata": {
  "language_info": {
   "name": "python"
  },
  "orig_nbformat": 4
 },
 "nbformat": 4,
 "nbformat_minor": 2
}
