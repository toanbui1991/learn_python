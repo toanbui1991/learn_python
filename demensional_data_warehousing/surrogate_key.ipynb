{
 "cells": [
  {
   "cell_type": "markdown",
   "metadata": {},
   "source": [
    "**What is dimension surrogate key:**\n",
    "- context: we have dimension table from source and want to copy that source into dimension table in data warehouse using dimension data modeling technique.\n",
    "- analyze: the dimension table from source will have natural key (primary key). when move data into data warehouse we need to claim or generate data ware house own key.\n",
    "- definition: surrogate key is the key generate ky data warehouse system to keep track of unique data. surrogate key is simple integer, assigned in sequence, start with value 1, every time a new key is needed."
   ]
  },
  {
   "cell_type": "markdown",
   "metadata": {},
   "source": [
    "**Review surrogate key:**\n",
    "- why surrogate key? each dimensional tables in data warehouse need auto generated key by the system instead of using natural key from source system. it help use easy to manage data inside data warehouse and protect us from change from source system.\n",
    "- how to define surrogagte key? surrogate key is simple integer number, assigned in sequence, start from value 1 when new data needed."
   ]
  }
 ],
 "metadata": {
  "language_info": {
   "name": "python"
  },
  "orig_nbformat": 4
 },
 "nbformat": 4,
 "nbformat_minor": 2
}
