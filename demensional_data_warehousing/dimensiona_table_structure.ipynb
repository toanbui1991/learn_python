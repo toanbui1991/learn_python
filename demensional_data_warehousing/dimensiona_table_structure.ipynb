{
 "cells": [
  {
   "cell_type": "markdown",
   "metadata": {},
   "source": [
    "**Dimension table structure:**\n",
    "- each dimension table have one primary key (surrogate key)\n",
    "- primary key as foreign key reference to fact table\n",
    "- dimension table usually wide, denomalized with many columns which have low cardinality.\n",
    "- dimension table supply context information for fact table\n",
    "- dimension table attribute can be used as container and group operation\n",
    "- cardinality is the concept to measure the uncommon level of data value  in a column.\n",
    "- column with low cardinality is column with low uncommon data point (data value with many data point)\n",
    "- column with high cardinality is column with high level of uncommon data (data value with little data point). high cardinality cause fragmenation in data\n",
    "- it is easier to join with low cardinality column and difficult with high cardinality column. because you need more compuation to join with many group. "
   ]
  },
  {
   "cell_type": "markdown",
   "metadata": {},
   "source": [
    "**Understand the concept of cardinality of column:**\n",
    "- cardinality is the concept to measure the level of uncommon of a data value in a column. high cardinality column is column with many data value is uncommon. low cardinality column have data value which is low uncomment level or very common data."
   ]
  }
 ],
 "metadata": {
  "kernelspec": {
   "display_name": "Python 3.8.10 ('venv': venv)",
   "language": "python",
   "name": "python3"
  },
  "language_info": {
   "name": "python",
   "version": "3.8.10"
  },
  "orig_nbformat": 4,
  "vscode": {
   "interpreter": {
    "hash": "0acef43dc5f76a2ed31147fd429dfe8c79ee15b3b02be3263c02dc60771e7f23"
   }
  }
 },
 "nbformat": 4,
 "nbformat_minor": 2
}
