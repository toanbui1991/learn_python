{
 "cells": [
  {
   "cell_type": "markdown",
   "metadata": {},
   "source": [
    "**Degenerate Demension:**\n",
    "- degenerate demension is demension but have no context. it only have id.\n",
    "- degenerate dimension is the concept of add that key to fact table and do not have additional dimension table.\n",
    "- example: fact order table have invoice id and invoice line id.\n",
    "- reference link: https://bigbear.ai/blog/degenerate-dimensions-deep-dive/"
   ]
  }
 ],
 "metadata": {
  "language_info": {
   "name": "python"
  },
  "orig_nbformat": 4
 },
 "nbformat": 4,
 "nbformat_minor": 2
}
