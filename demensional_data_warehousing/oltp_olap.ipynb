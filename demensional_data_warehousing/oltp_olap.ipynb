{
 "cells": [
  {
   "cell_type": "markdown",
   "metadata": {},
   "source": [
    "**olap vs oltp:**\n",
    "- olap (on-line analytics processing)\n",
    "- oltp (on-line transactional processing)"
   ]
  },
  {
   "cell_type": "markdown",
   "metadata": {},
   "source": [
    "**oltp:**\n",
    "- use for daily transactional purpose like sale, booking.\n",
    "- quick transactional operation (insert, update, delete) with a lot of request but small in volume\n"
   ]
  },
  {
   "cell_type": "markdown",
   "metadata": {},
   "source": [
    "**oltp:**\n",
    "- use for analytic purpose.\n",
    "- smaller in number of request but each request with a lot of historical data.\n",
    "- "
   ]
  }
 ],
 "metadata": {
  "language_info": {
   "name": "python"
  },
  "orig_nbformat": 4
 },
 "nbformat": 4,
 "nbformat_minor": 2
}
