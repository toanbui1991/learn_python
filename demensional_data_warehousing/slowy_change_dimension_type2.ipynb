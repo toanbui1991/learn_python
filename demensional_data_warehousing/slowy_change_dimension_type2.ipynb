{
 "cells": [
  {
   "cell_type": "markdown",
   "metadata": {},
   "source": [
    "**Handle slowly change dimension data using type 2:**\n",
    "- context: in source system, attribute value of data point is change but id of data point is the same.\n",
    "- why: we want to keep track of old and new version of data point.\n",
    "- how: type 2 will add new row with additional information like active_status, start_effective_date, end_effective_date. type 2 will add new row by etl process."
   ]
  }
 ],
 "metadata": {
  "language_info": {
   "name": "python"
  },
  "orig_nbformat": 4
 },
 "nbformat": 4,
 "nbformat_minor": 2
}
