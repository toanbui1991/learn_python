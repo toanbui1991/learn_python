{
 "cells": [
  {
   "cell_type": "markdown",
   "metadata": {},
   "source": [
    "**Natural key vs durable key vs surrogate key:**\n",
    "- natural key is key generate by the source database\n",
    "- surrogate key is the key generate by data warehouse system. new data into table will generate new surrogate key\n",
    "- durable (super natural) key is the key generate by etl process. durable key is design so that it will not change event the attribute of data change."
   ]
  },
  {
   "cell_type": "markdown",
   "metadata": {},
   "source": [
    "**Why durable keys:**\n",
    "- to keep check of change in dimension table in source database.\n",
    "- example: new credit card created for a stolen card but we want to keep transaction history of the old and new card. we have two different natural_id, the source system have to leave clude for etl system to pick that new_id is replace of old id. and then, etl system will pick up from that to generate durable key in data warehouse system."
   ]
  }
 ],
 "metadata": {
  "kernelspec": {
   "display_name": "Python 3.8.10 ('venv': venv)",
   "language": "python",
   "name": "python3"
  },
  "language_info": {
   "name": "python",
   "version": "3.8.10"
  },
  "orig_nbformat": 4,
  "vscode": {
   "interpreter": {
    "hash": "0acef43dc5f76a2ed31147fd429dfe8c79ee15b3b02be3263c02dc60771e7f23"
   }
  }
 },
 "nbformat": 4,
 "nbformat_minor": 2
}
