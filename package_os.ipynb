{
 "cells": [
  {
   "cell_type": "code",
   "execution_count": 29,
   "metadata": {},
   "outputs": [
    {
     "ename": "FileNotFoundError",
     "evalue": "[WinError 3] The system cannot find the path specified: '../docker_compose/mongodb_sample_data/'",
     "output_type": "error",
     "traceback": [
      "\u001b[1;31m---------------------------------------------------------------------------\u001b[0m",
      "\u001b[1;31mFileNotFoundError\u001b[0m                         Traceback (most recent call last)",
      "\u001b[1;32mc:\\Users\\buixu\\Toan\\python_projects\\learn_python\\package_os.ipynb Cell 1'\u001b[0m in \u001b[0;36m<cell line: 4>\u001b[1;34m()\u001b[0m\n\u001b[0;32m      <a href='vscode-notebook-cell:/c%3A/Users/buixu/Toan/python_projects/learn_python/package_os.ipynb#ch0000000?line=1'>2</a>\u001b[0m \u001b[39m#learn os methods\u001b[39;00m\n\u001b[0;32m      <a href='vscode-notebook-cell:/c%3A/Users/buixu/Toan/python_projects/learn_python/package_os.ipynb#ch0000000?line=2'>3</a>\u001b[0m folder_path \u001b[39m=\u001b[39m \u001b[39m'\u001b[39m\u001b[39m../docker_compose/mongodb_sample_data/\u001b[39m\u001b[39m'\u001b[39m\n\u001b[1;32m----> <a href='vscode-notebook-cell:/c%3A/Users/buixu/Toan/python_projects/learn_python/package_os.ipynb#ch0000000?line=3'>4</a>\u001b[0m data \u001b[39m=\u001b[39m listdir(folder_path)\n\u001b[0;32m      <a href='vscode-notebook-cell:/c%3A/Users/buixu/Toan/python_projects/learn_python/package_os.ipynb#ch0000000?line=4'>5</a>\u001b[0m \u001b[39mprint\u001b[39m(data)\n",
      "\u001b[1;31mFileNotFoundError\u001b[0m: [WinError 3] The system cannot find the path specified: '../docker_compose/mongodb_sample_data/'"
     ]
    }
   ],
   "source": [
    "from os import listdir, path\n",
    "#learn os methods\n",
    "folder_path = '../docker_compose/mongodb_sample_data/'\n",
    "data = listdir(folder_path)\n",
    "print(data)"
   ]
  },
  {
   "cell_type": "code",
   "execution_count": null,
   "metadata": {},
   "outputs": [
    {
     "name": "stdout",
     "output_type": "stream",
     "text": [
      "                                           file_path\n",
      "0  ../docker_compose/mongodb_sample_data\\mongodb-...\n",
      "1  ../docker_compose/mongodb_sample_data\\mongodb-...\n",
      "2  ../docker_compose/mongodb_sample_data\\mongodb-...\n",
      "3  ../docker_compose/mongodb_sample_data\\mongodb-...\n",
      "4  ../docker_compose/mongodb_sample_data\\mongodb-...\n"
     ]
    }
   ],
   "source": [
    "import glob\n",
    "import pandas as pd\n",
    "#when use glob.glob with recursive=True use ** in the file_pattern\n",
    "file_pattern = \"../docker_compose/mongodb_sample_data/**/*.json\"\n",
    "data = glob.glob(file_pattern, recursive=True)\n",
    "data = pd.DataFrame({\"file_path\": data})\n",
    "data = data[data[\"file_path\"].str.contains('.json')]\n",
    "print(data.head(5))"
   ]
  },
  {
   "cell_type": "code",
   "execution_count": null,
   "metadata": {},
   "outputs": [],
   "source": [
    "import os\n",
    "import glob\n",
    "import pandas as pd\n",
    "#the most important thing is how many layer, we want to walk through\n",
    "file_pattern = \"../parse_files/raw-bid-win/**/**/**/**/**/*.gz\"\n",
    "data = glob.glob(file_pattern)\n",
    "# print(data)\n",
    "path_data = glob.glob(file_pattern)\n",
    "path_data = pd.DataFrame({\"file_path\": path_data})\n",
    "path_data = path_data[path_data[\"file_path\"].str.contains('.gz')]\n",
    "file_path = path_data[\"file_path\"][0]\n",
    "content_data = pd.read_json(file_path, lines=True)\n",
    "#clean content_data"
   ]
  },
  {
   "cell_type": "code",
   "execution_count": 1,
   "metadata": {},
   "outputs": [
    {
     "name": "stdout",
     "output_type": "stream",
     "text": [
      "current directory: c:\\Users\\buixu\\Toan\\python_projects\\learn_python\n",
      "new current directory: c:\\Users\\buixu\\Toan\\python_projects\n"
     ]
    }
   ],
   "source": [
    "import os\n",
    "     \n",
    "#learn to use methods from os package: getcwd, chdir, \n",
    "current_directory = os.getcwd()\n",
    "print('current directory: {}'.format(current_directory))\n",
    "os.chdir('../') #method chdir will change to new directory\n",
    "print('new current directory: {}'.format(os.getcwd()))\n"
   ]
  },
  {
   "cell_type": "code",
   "execution_count": 2,
   "metadata": {},
   "outputs": [
    {
     "name": "stdout",
     "output_type": "stream",
     "text": [
      "current directory: c:\\Users\\buixu\\Toan\\python_projects\\learn_python\n"
     ]
    }
   ],
   "source": [
    "#change back to current directory\n",
    "os.chdir('./learn_python/')\n",
    "print('current directory: {}'.format(os.getcwd()))\n",
    "#from current directory make new_directory\n",
    "#os method mkdir vs makedirs. mkdir create direct sub_directory while makedirs will create all intermidate directory\n",
    "os.mkdir('./new_directory/')\n",
    "#os methods like remove(file_path), rmdir(directory_path), removedirs(), rename(src, des), renames(src, dest), replace(src, dst)"
   ]
  },
  {
   "cell_type": "markdown",
   "metadata": {},
   "source": [
    "-  os.listdir(), os.path.join(), os.getcwd()"
   ]
  },
  {
   "cell_type": "code",
   "execution_count": null,
   "metadata": {},
   "outputs": [],
   "source": []
  }
 ],
 "metadata": {
  "interpreter": {
   "hash": "e997c254a1f8079c5997e54e250cb3627d598fa1a1d92bf10438cfce758154e6"
  },
  "kernelspec": {
   "display_name": "Python 3.10.1 ('venv': venv)",
   "language": "python",
   "name": "python3"
  },
  "language_info": {
   "codemirror_mode": {
    "name": "ipython",
    "version": 3
   },
   "file_extension": ".py",
   "mimetype": "text/x-python",
   "name": "python",
   "nbconvert_exporter": "python",
   "pygments_lexer": "ipython3",
   "version": "3.10.1"
  },
  "orig_nbformat": 4
 },
 "nbformat": 4,
 "nbformat_minor": 2
}
