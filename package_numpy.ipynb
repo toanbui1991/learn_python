{
 "cells": [
  {
   "cell_type": "code",
   "execution_count": 1,
   "metadata": {},
   "outputs": [
    {
     "name": "stdout",
     "output_type": "stream",
     "text": [
      "3.0\n",
      "<class 'numpy.float64'>\n",
      "[-2. -2. -0.  0.  2.  2.  2.]\n",
      "<class 'numpy.ndarray'>\n",
      "np.fix\n",
      "[-1. -1. -0.  0.  1.  1.  2.]\n",
      "np.trunc: \n",
      "[-1. -1. -0.  0.  1.  1.  2.]\n",
      "np.floor: \n",
      "[-2. -2. -1.  0.  1.  1.  2.]\n",
      "np.ceil: \n",
      "[-1. -1. -0.  1.  2.  2.  2.]\n"
     ]
    }
   ],
   "source": [
    "#take note about numpy package\n",
    "import numpy as np\n",
    "\n",
    "#use fix, ceil, floor, trunc, rint all return float type\n",
    "#np.rint(), round to nearest int\n",
    "number = 2.6\n",
    "print(np.rint(number))\n",
    "print(type(np.rint(number)))\n",
    "a = np.array([-1.7, -1.5, -0.2, 0.2, 1.5, 1.7, 2.0])\n",
    "print(np.rint(a))\n",
    "print(type(np.rint(a)))\n",
    "\n",
    "#np.fix() round to nearest 0\n",
    "print('np.fix')\n",
    "a = np.array([-1.7, -1.5, -0.2, 0.2, 1.5, 1.7, 2.0])\n",
    "print(np.fix(a))\n",
    "#trunc round to nea\n",
    "print('np.trunc: ')\n",
    "a = np.array([-1.7, -1.5, -0.2, 0.2, 1.5, 1.7, 2.0])\n",
    "print(np.trunc(a))\n",
    "print('np.floor: ')\n",
    "a = np.array([-1.7, -1.5, -0.2, 0.2, 1.5, 1.7, 2.0])\n",
    "print(np.floor(a))\n",
    "print('np.ceil: ')\n",
    "a = np.array([-1.7, -1.5, -0.2, 0.2, 1.5, 1.7, 2.0])\n",
    "print(np.ceil(a))"
   ]
  },
  {
   "cell_type": "code",
   "execution_count": 2,
   "metadata": {},
   "outputs": [
    {
     "name": "stdout",
     "output_type": "stream",
     "text": [
      "14.0\n",
      "14\n"
     ]
    }
   ],
   "source": [
    " total_result = 392\n",
    " number_item_each_page = 30\n",
    " num_page = np.ceil(total_result/number_item_each_page)\n",
    " print(num_page)\n",
    " print(int(num_page))"
   ]
  }
 ],
 "metadata": {
  "interpreter": {
   "hash": "0eb1dc9052a21e9498837ed386e9c252a7a192ae64eed4115f5d5bc62010b23f"
  },
  "kernelspec": {
   "display_name": "Python 3.10.4 ('venv': venv)",
   "language": "python",
   "name": "python3"
  },
  "language_info": {
   "codemirror_mode": {
    "name": "ipython",
    "version": 3
   },
   "file_extension": ".py",
   "mimetype": "text/x-python",
   "name": "python",
   "nbconvert_exporter": "python",
   "pygments_lexer": "ipython3",
   "version": "3.10.4"
  },
  "orig_nbformat": 4
 },
 "nbformat": 4,
 "nbformat_minor": 2
}
