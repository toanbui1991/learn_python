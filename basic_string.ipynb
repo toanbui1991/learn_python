{
 "cells": [
  {
   "cell_type": "code",
   "execution_count": 2,
   "metadata": {},
   "outputs": [
    {
     "name": "stdout",
     "output_type": "stream",
     "text": [
      "type of x: <class 'list'>\n",
      "['welcome', 'to', 'the', 'jungle']\n",
      "['hello', 'my name is Peter', 'I am 26 years old']\n"
     ]
    }
   ],
   "source": [
    "#in this note we review some basic method of string instance\n",
    "txt = \"welcome to the jungle\"\n",
    "#string.split(seperator) by default sperator is space. split method will return list of element\n",
    "x = txt.split()\n",
    "print('type of x: {}'.format(type(x)))\n",
    "print(x)\n",
    "#use split method with different seperator\n",
    "txt = \"hello, my name is Peter, I am 26 years old\"\n",
    "x = txt.split(\", \")\n",
    "print(x)"
   ]
  },
  {
   "cell_type": "code",
   "execution_count": 5,
   "metadata": {},
   "outputs": [
    {
     "name": "stdout",
     "output_type": "stream",
     "text": [
      "John, Peter, Vicky\n"
     ]
    }
   ],
   "source": [
    "#review string.join(iterable) which will jion element with string seperator.\n",
    "myTuple = (\"John\", \"Peter\", \"Vicky\")\n",
    "x = \", \".join(myTuple)\n",
    "print(x)"
   ]
  },
  {
   "cell_type": "code",
   "execution_count": 8,
   "metadata": {},
   "outputs": [
    {
     "name": "stdout",
     "output_type": "stream",
     "text": [
      "hello my friends\n",
      "Hello My Friends\n",
      "HELLO MY FRIENDS\n"
     ]
    }
   ],
   "source": [
    "#review of string.lower(), string.title(), string.upper()\n",
    "txt = \"Hello my FRIENDS\"\n",
    "x = txt.lower()\n",
    "print(x)\n",
    "x = x.title()\n",
    "print(x)\n",
    "x = x.upper()\n",
    "print(x)"
   ]
  },
  {
   "cell_type": "code",
   "execution_count": 11,
   "metadata": {},
   "outputs": [
    {
     "name": "stdout",
     "output_type": "stream",
     "text": [
      "I like apples\n",
      "three three was a race horse, two two was three too.\n",
      "three three was a race horse, two two was one too.\n"
     ]
    }
   ],
   "source": [
    "#review string.replace(old, new, count)\n",
    "txt = \"I like bananas\"\n",
    "x = txt.replace(\"bananas\", \"apples\")\n",
    "print(x)\n",
    "txt = \"one one was a race horse, two two was one too.\"\n",
    "x = txt.replace(\"one\", \"three\")\n",
    "print(x)\n",
    "txt = \"one one was a race horse, two two was one too.\"\n",
    "#count is the number of replacement happent\n",
    "x = txt.replace(\"one\", \"three\", 2)\n",
    "print(x)"
   ]
  },
  {
   "cell_type": "code",
   "execution_count": 13,
   "metadata": {},
   "outputs": [
    {
     "name": "stdout",
     "output_type": "stream",
     "text": [
      "of all fruits banana is my favorite\n",
      "banana\n"
     ]
    }
   ],
   "source": [
    "#review string.strip(character) method\n",
    "#strip will remove any leading and trailing character.\n",
    "txt = \"     banana     \"\n",
    "x = txt.strip() #default character is space\n",
    "print(\"of all fruits\", x, \"is my favorite\")\n",
    "txt = \",,,,,rrttgg.....banana....rrr\"\n",
    "x = txt.strip(\",.grt\") #any chracter like: .,grt leadning and trailing will be removed\n",
    "print(x)"
   ]
  }
 ],
 "metadata": {
  "interpreter": {
   "hash": "916dbcbb3f70747c44a77c7bcd40155683ae19c65e1c03b4aa3499c5328201f1"
  },
  "kernelspec": {
   "display_name": "Python 3.8.10 64-bit",
   "language": "python",
   "name": "python3"
  },
  "language_info": {
   "codemirror_mode": {
    "name": "ipython",
    "version": 3
   },
   "file_extension": ".py",
   "mimetype": "text/x-python",
   "name": "python",
   "nbconvert_exporter": "python",
   "pygments_lexer": "ipython3",
   "version": "3.8.10"
  },
  "orig_nbformat": 4
 },
 "nbformat": 4,
 "nbformat_minor": 2
}
