{
 "cells": [
  {
   "cell_type": "markdown",
   "metadata": {},
   "source": [
    "Python Arithemetic Operators: +, -, *, /, % (modulus), **, // (floor division)\n"
   ]
  },
  {
   "cell_type": "code",
   "execution_count": 1,
   "metadata": {},
   "outputs": [
    {
     "name": "stdout",
     "output_type": "stream",
     "text": [
      "result:  1\n"
     ]
    }
   ],
   "source": [
    "#test modulus (%)\n",
    "x=5\n",
    "y=2\n",
    "result = x % y\n",
    "print('result: ', result)"
   ]
  },
  {
   "cell_type": "code",
   "execution_count": 2,
   "metadata": {},
   "outputs": [
    {
     "name": "stdout",
     "output_type": "stream",
     "text": [
      "result:  2\n"
     ]
    }
   ],
   "source": [
    "#test floor division (//)\n",
    "x=5\n",
    "y=2\n",
    "result = x // y\n",
    "print('result: ', result)"
   ]
  },
  {
   "cell_type": "markdown",
   "metadata": {},
   "source": [
    "python Assignment Operators: =, +=, -=, *=, /=, %=, //=. Bitwise operators is execute on bit so it is not so useful"
   ]
  },
  {
   "cell_type": "markdown",
   "metadata": {},
   "source": [
    "Python Comparison operators: ==, !=, >, <, >=, <=."
   ]
  },
  {
   "cell_type": "code",
   "execution_count": 3,
   "metadata": {},
   "outputs": [
    {
     "name": "stdout",
     "output_type": "stream",
     "text": [
      "True\n"
     ]
    }
   ],
   "source": [
    "#test comparison\n",
    "x = 1\n",
    "y = 1.0\n",
    "#python compare value not type. this return true\n",
    "result = x == y\n",
    "print(result)"
   ]
  },
  {
   "cell_type": "code",
   "execution_count": 4,
   "metadata": {},
   "outputs": [
    {
     "name": "stdout",
     "output_type": "stream",
     "text": [
      "and test:  False\n",
      "or test:  True\n",
      "and test:  False\n",
      "or test:  False\n",
      "not test:  True\n"
     ]
    }
   ],
   "source": [
    "#test logical operators: (and, or, not)\n",
    "x = True\n",
    "y = False\n",
    "result = x and y #return False\n",
    "print('and test: ', result)\n",
    "result = x or y #return True\n",
    "print('or test: ', result)\n",
    "x, y = False, False\n",
    "print('and test: ', x and y)\n",
    "print('or test: ', x or y)\n",
    "print('not test: ', not x)"
   ]
  },
  {
   "cell_type": "code",
   "execution_count": 5,
   "metadata": {},
   "outputs": [
    {
     "name": "stdout",
     "output_type": "stream",
     "text": [
      "is operator test:  True\n",
      "is not operator test:  False\n"
     ]
    }
   ],
   "source": [
    "#python identity operator: (is, is not).\n",
    "x = 'this is x'\n",
    "y = x\n",
    "print('is operator test: ', y is x) #return True\n",
    "print('is not operator test: ', y is not x) #return False\n"
   ]
  },
  {
   "cell_type": "code",
   "execution_count": 6,
   "metadata": {},
   "outputs": [
    {
     "name": "stdout",
     "output_type": "stream",
     "text": [
      "in operator test:  True\n",
      "not in operator test:  True\n"
     ]
    }
   ],
   "source": [
    "#python membership operator: in, not in\n",
    "elements = [1, 2, 3, 4, 5, 6]\n",
    "print('in operator test: ', 1 in elements) #return True\n",
    "print('not in operator test: ', 10 not in elements) #return True"
   ]
  }
 ],
 "metadata": {
  "interpreter": {
   "hash": "e997c254a1f8079c5997e54e250cb3627d598fa1a1d92bf10438cfce758154e6"
  },
  "kernelspec": {
   "display_name": "Python 3.10.1 ('venv': venv)",
   "language": "python",
   "name": "python3"
  },
  "language_info": {
   "codemirror_mode": {
    "name": "ipython",
    "version": 3
   },
   "file_extension": ".py",
   "mimetype": "text/x-python",
   "name": "python",
   "nbconvert_exporter": "python",
   "pygments_lexer": "ipython3",
   "version": "3.10.1"
  },
  "orig_nbformat": 4
 },
 "nbformat": 4,
 "nbformat_minor": 2
}
