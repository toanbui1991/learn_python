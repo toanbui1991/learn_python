{
 "cells": [
  {
   "cell_type": "code",
   "execution_count": 1,
   "metadata": {},
   "outputs": [
    {
     "name": "stdout",
     "output_type": "stream",
     "text": [
      "type of jsonString: <class 'str'>\n",
      "type of otherDict: <class 'dict'>\n",
      "type of secondDict: <class 'dict'>\n"
     ]
    }
   ],
   "source": [
    "import json\n",
    "\n",
    "dictionary = {'one': 1, 'two': 2, 'three': 3}\n",
    "jsonString = json.dumps(dictionary) #return String\n",
    "print(f'type of jsonString: {type(jsonString)}')\n",
    "\n",
    "#use dump method to conver object into stream\n",
    "with open('dictionary.json', 'w') as file:\n",
    "    json.dump(dictionary, file) \n",
    "\n",
    "#json.loads vs json.load\n",
    "otherDict = json.loads(jsonString) #user loads when dezerialize json string into python object\n",
    "print(f'type of otherDict: {type(otherDict)}')\n",
    "\n",
    "with open('dictionary.json', 'r') as file:\n",
    "    secondDict = json.load(file)\n",
    "print(f'type of secondDict: {type(secondDict)}')"
   ]
  },
  {
   "cell_type": "markdown",
   "metadata": {},
   "source": [
    "**Summary on json package:**\n",
    "- json package have important methods: json.loads(), json.load(), json.dumps(), json.dump()\n",
    "- json.loads(json_string) conver json_string into python object like list or dict\n",
    "- json.load(open_file) read data from open file an convert into python object\n",
    "- json.dumps(python_object)  convert python object like list or dict into json string\n",
    "- json.dump(python_object) write python object into json file"
   ]
  }
 ],
 "metadata": {
  "interpreter": {
   "hash": "e997c254a1f8079c5997e54e250cb3627d598fa1a1d92bf10438cfce758154e6"
  },
  "kernelspec": {
   "display_name": "Python 3.10.1 ('venv': venv)",
   "language": "python",
   "name": "python3"
  },
  "language_info": {
   "codemirror_mode": {
    "name": "ipython",
    "version": 3
   },
   "file_extension": ".py",
   "mimetype": "text/x-python",
   "name": "python",
   "nbconvert_exporter": "python",
   "pygments_lexer": "ipython3",
   "version": "3.10.1"
  },
  "orig_nbformat": 4
 },
 "nbformat": 4,
 "nbformat_minor": 2
}
