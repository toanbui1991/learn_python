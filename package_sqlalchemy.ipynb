{
 "cells": [
  {
   "cell_type": "code",
   "execution_count": null,
   "metadata": {},
   "outputs": [],
   "source": [
    "#try to insert pandas scraping data mysql using to_sql() method\n",
    "#sqlalchemy work well with pandas dataframe with the method to_sql so use sqlalchemy\n",
    "from sshtunnel import SSHTunnelForwarder\n",
    "from sqlalchemy import create_engine\n",
    "from config import config\n",
    "\n",
    "server =  SSHTunnelForwarder(\n",
    "     (config['remote_machine']['hostname'], 22),\n",
    "     ssh_password=config['remote_machine']['ssh_password'],\n",
    "     ssh_username=config['remote_machine']['ssh_username'],\n",
    "     remote_bind_address=(config['remote_machine']['msql_hostname'], 3306))\n",
    "\n",
    "server.start()\n",
    "connection_str = 'mysql+mysqldb://{}:{}@127.0.0.1:{}/{}'.format(config['mysql_dev']['user'], config['mysql_dev']['passwd'], server.local_bind_port, config['mysql_dev']['db'])\n",
    "engine = create_engine(connection_str)\n",
    "#insert data from pandas dataframe use to_sql and sqlalchemy to reduce error\n",
    "data.to_sql('youtube_comment', con=engine, if_exists='append', index=False)\n",
    "\n",
    "# DO YOUR THINGS\n",
    "\n",
    "server.stop()\n"
   ]
  }
 ],
 "metadata": {
  "language_info": {
   "name": "python"
  },
  "orig_nbformat": 4
 },
 "nbformat": 4,
 "nbformat_minor": 2
}
