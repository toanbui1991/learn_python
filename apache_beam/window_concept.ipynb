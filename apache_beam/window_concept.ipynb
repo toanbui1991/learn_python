{
 "cells": [
  {
   "cell_type": "markdown",
   "metadata": {},
   "source": [
    "**Window**\n",
    "- Windowing subdivides a PCollection according to the timestamps of its individual elements\n",
    "- Transforms that aggregate multiple elements, such as GroupByKey and Combine, work implicitly on a per-window basis — they process each PCollection as a succession of multiple, finite windows, though the entire collection itself may be of unbounded size.\n",
    "- Trigger concept allow us refine windowing strategy and handle late arrive data"
   ]
  },
  {
   "cell_type": "markdown",
   "metadata": {},
   "source": [
    "**Type of Window Functions**\n",
    "- Fixed Time Windows\n",
    "- Sliding Time Windows\n",
    "- Session Windows\n",
    "- The Single Global Window (default)\n",
    "- when write data pipeline for unbounded data we have "
   ]
  },
  {
   "cell_type": "code",
   "execution_count": null,
   "metadata": {},
   "outputs": [],
   "source": [
    "import apache_beam as beam\n",
    "from apache_beam.transforms import window\n",
    "\n",
    "#apply fixedwindow\n",
    "fixed_windowed_items = (\n",
    "    items | 'window' >> beam.WindowInto(window.FixedWindows(60)))\n",
    "\n",
    "#apply slidingwindows\n",
    "from apache_beam import window\n",
    "sliding_windowed_items = (\n",
    "    items | 'window' >> beam.WindowInto(window.SlidingWindows(30, 5)))\n",
    "\n",
    "#apply session\n",
    "from apache_beam import window\n",
    "session_windowed_items = (\n",
    "    items | 'window' >> beam.WindowInto(window.Sessions(10 * 60)))\n",
    "#apply GobalWindow\n",
    "from apache_beam import window\n",
    "global_windowed_items = (\n",
    "    items | 'window' >> beam.WindowInto(window.GlobalWindows()))"
   ]
  },
  {
   "cell_type": "markdown",
   "metadata": {},
   "source": [
    "**Concept of watermark and late data**\n",
    "- event time is the timestammp of that event in the source systemt\n",
    "- processing time is the time when the event is processed\n",
    "- Beam tracks a **watermark**, which is the system’s notion of when all data in a certain window can be expected to have arrived in the pipeline.\n",
    "- Once the watermark progresses past the end of a window, any further element that arrives with a timestamp in that window is considered **late data**.\n",
    "- So we have know the concept of Watermakr and late data. watermark is a system time which used to decide late data of window."
   ]
  },
  {
   "cell_type": "code",
   "execution_count": null,
   "metadata": {},
   "outputs": [],
   "source": [
    "#example of setting watermark with beam.WindowInto transformation with setting attribute allow_lateness\n",
    "from apache_beam.transforms.window import FixedWindows\n",
    "pc = [Initial PCollection]\n",
    "pc | beam.WindowInto(\n",
    "            FixedWindows(60),\n",
    "            trigger=trigger_fn,\n",
    "            accumulation_mode=accumulation_mode,\n",
    "            timestamp_combiner=timestamp_combiner,\n",
    "            allowed_lateness=Duration(seconds=2*24*60*60)) # 2 days"
   ]
  }
 ],
 "metadata": {
  "language_info": {
   "name": "python"
  },
  "orig_nbformat": 4
 },
 "nbformat": 4,
 "nbformat_minor": 2
}
