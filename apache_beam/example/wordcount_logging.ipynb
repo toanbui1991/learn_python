{
 "cells": [
  {
   "cell_type": "code",
   "execution_count": null,
   "metadata": {},
   "outputs": [],
   "source": [
    "\n",
    "\n",
    "import argparse\n",
    "import logging\n",
    "import re\n",
    "\n",
    "import apache_beam as beam\n",
    "from apache_beam.io import ReadFromText\n",
    "from apache_beam.io import WriteToText\n",
    "from apache_beam.metrics import Metrics\n",
    "from apache_beam.options.pipeline_options import PipelineOptions\n",
    "from apache_beam.options.pipeline_options import SetupOptions\n",
    "from apache_beam.testing.util import assert_that\n",
    "from apache_beam.testing.util import equal_to\n",
    "\n",
    "\n",
    "class FilterTextFn(beam.DoFn):\n",
    "  \"\"\"A DoFn that filters for a specific key based on a regular expression.\"\"\"\n",
    "  def __init__(self, pattern):\n",
    "\n",
    "    beam.DoFn.__init__(self)\n",
    "    self.pattern = pattern\n",
    "    self.matched_words = Metrics.counter(self.__class__, 'matched_words')\n",
    "    self.umatched_words = Metrics.counter(self.__class__, 'umatched_words')\n",
    "\n",
    "  def process(self, element):\n",
    "    word, _ = element\n",
    "    if re.match(self.pattern, word):\n",
    "      logging.info('Matched %s', word) #logging is from global scope\n",
    "      self.matched_words.inc()\n",
    "      yield element\n",
    "    else:\n",
    "      logging.debug('Did not match %s', word)\n",
    "      self.umatched_words.inc()\n",
    "\n",
    "#define a PTransform class\n",
    "class CountWords(beam.PTransform):\n",
    "  \"\"\"A transform to count the occurrences of each word.\n",
    "\n",
    "  A PTransform that converts a PCollection containing lines of text into a\n",
    "  PCollection of (word, count) tuples.\n",
    "  \"\"\"\n",
    "  def expand(self, pcoll):\n",
    "    def count_ones(word_ones):\n",
    "      (word, ones) = word_ones\n",
    "      return (word, sum(ones))\n",
    "\n",
    "    return (\n",
    "        pcoll\n",
    "        | 'split' >> (\n",
    "            beam.FlatMap(\n",
    "                lambda x: re.findall(r'[A-Za-z\\']+', x)).with_output_types(str))\n",
    "        | 'pair_with_one' >> beam.Map(lambda x: (x, 1))\n",
    "        #instead of using beam.CombineByKey use use two step with GroupByKey + MAp\n",
    "        | 'group' >> beam.GroupByKey()\n",
    "        | 'count' >> beam.Map(count_ones))\n",
    "\n",
    "\n",
    "def run(argv=None, save_main_session=True):\n",
    "  \"\"\"Runs the debugging wordcount pipeline.\"\"\"\n",
    "\n",
    "  parser = argparse.ArgumentParser()\n",
    "  parser.add_argument(\n",
    "      '--input',\n",
    "      dest='input',\n",
    "      default='gs://dataflow-samples/shakespeare/kinglear.txt',\n",
    "      help='Input file to process.')\n",
    "  parser.add_argument(\n",
    "      '--output',\n",
    "      dest='output',\n",
    "      required=True,\n",
    "      help='Output file to write results to.')\n",
    "  known_args, pipeline_args = parser.parse_known_args(argv)\n",
    "\n",
    "  pipeline_options = PipelineOptions(pipeline_args)\n",
    "  pipeline_options.view_as(SetupOptions).save_main_session = save_main_session\n",
    "  with beam.Pipeline(options=pipeline_options) as p:\n",
    "\n",
    "    filtered_words = (\n",
    "        p | 'read' >> ReadFromText(known_args.input)\n",
    "        | CountWords()\n",
    "        | 'FilterText' >> beam.ParDo(FilterTextFn('Flourish|stomach')))\n",
    "\n",
    "    assert_that(filtered_words, equal_to([('Flourish', 3), ('stomach', 1)]))\n",
    "\n",
    "    def format_result(word_count):\n",
    "      (word, count) = word_count\n",
    "      return '%s: %s' % (word, count)\n",
    "\n",
    "    output = (\n",
    "        filtered_words\n",
    "        | 'format' >> beam.Map(format_result)\n",
    "        | 'write' >> WriteToText(known_args.output))\n",
    "\n",
    "\n",
    "if __name__ == '__main__':\n",
    "  #reference abount logging with logging.basicConfig() interface: https://docs.python.org/3/howto/logging.html#basic-logging-tutorial\n",
    "  logging.getLogger().setLevel(logging.INFO)\n",
    "  run()"
   ]
  },
  {
   "cell_type": "code",
   "execution_count": 3,
   "metadata": {},
   "outputs": [
    {
     "ename": "UnboundLocalError",
     "evalue": "local variable 'a' referenced before assignment",
     "output_type": "error",
     "traceback": [
      "\u001b[0;31m---------------------------------------------------------------------------\u001b[0m",
      "\u001b[0;31mUnboundLocalError\u001b[0m                         Traceback (most recent call last)",
      "Cell \u001b[0;32mIn [3], line 6\u001b[0m\n\u001b[1;32m      4\u001b[0m     a \u001b[39m=\u001b[39m a \u001b[39m+\u001b[39m \u001b[39m1\u001b[39m\n\u001b[1;32m      5\u001b[0m     \u001b[39mprint\u001b[39m(a)\n\u001b[0;32m----> 6\u001b[0m print_a()\n\u001b[1;32m      7\u001b[0m \u001b[39mprint\u001b[39m(a)\n",
      "Cell \u001b[0;32mIn [3], line 4\u001b[0m, in \u001b[0;36mprint_a\u001b[0;34m()\u001b[0m\n\u001b[1;32m      3\u001b[0m \u001b[39mdef\u001b[39;00m \u001b[39mprint_a\u001b[39m():\n\u001b[0;32m----> 4\u001b[0m     a \u001b[39m=\u001b[39m a \u001b[39m+\u001b[39m \u001b[39m1\u001b[39m\n\u001b[1;32m      5\u001b[0m     \u001b[39mprint\u001b[39m(a)\n",
      "\u001b[0;31mUnboundLocalError\u001b[0m: local variable 'a' referenced before assignment"
     ]
    }
   ],
   "source": [
    "#we can reference to global object as long as we do not assign new value to it\n",
    "a = 1\n",
    "\n",
    "def print_a():\n",
    "    a = a + 1 #you can not assign new value to variable which\n",
    "    print(a)\n",
    "print_a()\n",
    "print(a)"
   ]
  },
  {
   "cell_type": "markdown",
   "metadata": {},
   "source": [
    "**Summary note on wordcount_logging**\n",
    "- we use logging package to log processing data.\n",
    "- logger.setLevel(LOG_LEVEL) to decide which event to log\n",
    "- we can also add our log message with logging.info(message) or logging.warning()"
   ]
  }
 ],
 "metadata": {
  "kernelspec": {
   "display_name": "Python 3.10.6 ('venv': venv)",
   "language": "python",
   "name": "python3"
  },
  "language_info": {
   "codemirror_mode": {
    "name": "ipython",
    "version": 3
   },
   "file_extension": ".py",
   "mimetype": "text/x-python",
   "name": "python",
   "nbconvert_exporter": "python",
   "pygments_lexer": "ipython3",
   "version": "3.10.6"
  },
  "orig_nbformat": 4,
  "vscode": {
   "interpreter": {
    "hash": "a64837e0ff1eebf1c4f61c6be1bef911c548b0d523a16da7fe1c88b4ae3ad6ff"
   }
  }
 },
 "nbformat": 4,
 "nbformat_minor": 2
}
