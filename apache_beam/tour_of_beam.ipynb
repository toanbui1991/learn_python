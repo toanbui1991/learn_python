{
 "cells": [
  {
   "cell_type": "markdown",
   "metadata": {},
   "source": [
    "**Tour of Beam:**\n",
    "- learn some basic concepts of apache beam\n",
    "- reference link: https://beam.apache.org/get-started/tour-of-beam/"
   ]
  },
  {
   "cell_type": "markdown",
   "metadata": {},
   "source": [
    "**Some basic concept of Beam**\n",
    "- PCollections (Parallel Collections): is the concept which store data. PCollections is like a list of element. Order of elements is not guaranty\n",
    "- PTransform (Parallel Transforms):  "
   ]
  },
  {
   "cell_type": "code",
   "execution_count": null,
   "metadata": {},
   "outputs": [],
   "source": []
  }
 ],
 "metadata": {
  "language_info": {
   "name": "python"
  },
  "orig_nbformat": 4
 },
 "nbformat": 4,
 "nbformat_minor": 2
}
