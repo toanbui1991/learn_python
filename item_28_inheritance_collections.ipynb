{
 "cells": [
  {
   "cell_type": "code",
   "execution_count": 1,
   "metadata": {},
   "outputs": [
    {
     "name": "stdout",
     "output_type": "stream",
     "text": [
      "Length is 7\n",
      "After pop: ['a', 'b', 'a', 'c', 'b', 'a']\n",
      "Frequency: {'a': 3, 'b': 2, 'c': 1}\n"
     ]
    }
   ],
   "source": [
    "class FrequencyList(list):\n",
    "    \"\"\"FrequencyList inheritance from list so we can loop through element of list\n",
    "    and use other method like len, pop, \n",
    "\n",
    "    Args:\n",
    "        list (_type_): _description_\n",
    "    \"\"\"\n",
    "    def __init__(self, members):\n",
    "        super().__init__(members)\n",
    "\n",
    "    #add additional method to class\n",
    "    def frequency(self):\n",
    "        counts = {}\n",
    "\n",
    "        for item in self:\n",
    "            counts[item] = counts.get(item, 0) + 1\n",
    "        return counts\n",
    "\n",
    "foo = FrequencyList([\"a\", \"b\", \"a\", \"c\", \"b\", \"a\", \"d\"])\n",
    "print(f\"Length is {len(foo)}\")\n",
    "\n",
    "foo.pop()\n",
    "print(f\"After pop: {repr(foo)}\")\n",
    "print(f\"Frequency: {foo.frequency()}\")\n",
    "\n"
   ]
  },
  {
   "cell_type": "code",
   "execution_count": 2,
   "metadata": {},
   "outputs": [
    {
     "name": "stdout",
     "output_type": "stream",
     "text": [
      "LRR is 7\n",
      "Index 0 is 2\n",
      "Index 1 is 5\n",
      "11 is in tree? True\n",
      "17 is in tree? False\n",
      "Tree is [2, 5, 6, 7, 10, 11, 15]\n",
      "Tree length is 7\n"
     ]
    }
   ],
   "source": [
    "class BinaryNode:\n",
    "    def __init__(self, value, left=None, right=None):\n",
    "        self.value = value\n",
    "        self.left = left\n",
    "        self.right = right\n",
    "\n",
    "class IndexableNode(BinaryNode):\n",
    "    def _traverse(self):\n",
    "        if self.left is not None:\n",
    "            yield from self.left._traverse()\n",
    "        yield self\n",
    "        if self.right is not None:\n",
    "            yield from self.right._traverse()\n",
    "\n",
    "    #__getitem__(self, index) is build in function of instance[index]\n",
    "    def __getitem__(self, index):\n",
    "        for i, item in enumerate(self._traverse()):\n",
    "            if i == index:\n",
    "                return item.value\n",
    "        raise IndexError(f\"Index {index} is out of range\")\n",
    "\n",
    "tree = IndexableNode(10, \n",
    "                    left=IndexableNode(\n",
    "                        5, \n",
    "                        left=IndexableNode(2), \n",
    "                        right=IndexableNode(\n",
    "                            6, \n",
    "                            right=IndexableNode(7))),\n",
    "                    right=IndexableNode(\n",
    "                        15, left=IndexableNode(11)))\n",
    "\n",
    "print(f\"LRR is {tree.left.right.right.value}\")\n",
    "print(f\"Index 0 is {tree[0]}\")\n",
    "print(f\"Index 1 is {tree[1]}\")\n",
    "print(f\"11 is in tree? {11 in tree}\")\n",
    "print(f\"17 is in tree? {17 in tree}\")\n",
    "print(f\"Tree is {list(tree)}\")\n",
    "\n",
    "class SequenceNode(IndexableNode):\n",
    "\n",
    "    # __len__(self) build-in method is method to call when call len(instance)\n",
    "    def __len__(self):\n",
    "        for count, _ in enumerate(self._traverse(), 1):\n",
    "            pass\n",
    "        return count\n",
    "\n",
    "tree = SequenceNode(10, \n",
    "                    left=SequenceNode(\n",
    "                        5, \n",
    "                        left=SequenceNode(2), \n",
    "                        right=SequenceNode(\n",
    "                            6, \n",
    "                            right=SequenceNode(7))),\n",
    "                    right=SequenceNode(\n",
    "                        15, left=SequenceNode(11)))\n",
    "\n",
    "print(f\"Tree length is {len(tree)}\")"
   ]
  },
  {
   "cell_type": "code",
   "execution_count": 4,
   "metadata": {},
   "outputs": [
    {
     "name": "stdout",
     "output_type": "stream",
     "text": [
      "Index of 7 is 3\n",
      "Count of 10 is 1\n"
     ]
    }
   ],
   "source": [
    "from collections.abc import Sequence\n",
    "\n",
    "class BetterNode(SequenceNode, Sequence):\n",
    "    #inheritance form Sequence to have index and count method\n",
    "    pass\n",
    "\n",
    "tree = BetterNode(10, \n",
    "                    left=BetterNode(\n",
    "                        5, \n",
    "                        left=BetterNode(2), \n",
    "                        right=BetterNode(\n",
    "                            6, \n",
    "                            right=BetterNode(7))),\n",
    "                    right=BetterNode(\n",
    "                        15, left=BetterNode(11)))\n",
    "\n",
    "print(f\"Index of 7 is {tree.index(7)}\")\n",
    "print(f\"Count of 10 is {tree.count(10)}\")"
   ]
  }
 ],
 "metadata": {
  "interpreter": {
   "hash": "e997c254a1f8079c5997e54e250cb3627d598fa1a1d92bf10438cfce758154e6"
  },
  "kernelspec": {
   "display_name": "Python 3.10.1 ('venv': venv)",
   "language": "python",
   "name": "python3"
  },
  "language_info": {
   "codemirror_mode": {
    "name": "ipython",
    "version": 3
   },
   "file_extension": ".py",
   "mimetype": "text/x-python",
   "name": "python",
   "nbconvert_exporter": "python",
   "pygments_lexer": "ipython3",
   "version": "3.10.1"
  },
  "orig_nbformat": 4
 },
 "nbformat": 4,
 "nbformat_minor": 2
}
