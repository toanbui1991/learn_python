{
 "cells": [
  {
   "cell_type": "markdown",
   "metadata": {},
   "source": [
    "**Data Flow Security and Permission**"
   ]
  },
  {
   "cell_type": "markdown",
   "metadata": {},
   "source": [
    "**Security and Permission for data pipeline on Google Cloud**\n",
    "- when run your data pipeline on dataflow. Data flow user two service account\n",
    "- two service accounts:\n",
    "    - the dataflow service account, to create job, check project quota, create workder instance and manage job\n",
    "    - the worker service account, to access input, output resource. By default worker use default compute engine service account"
   ]
  },
  {
   "cell_type": "markdown",
   "metadata": {},
   "source": [
    "**Dataflow accessing cloud storage package.**\n",
    "- check your dataflow service account at Iam page.\n",
    "- given that you know the service account name. we can grant access to a specific bucket with gsutil command line interface (cli)\n",
    "- gsutil acl ch -u <project-number>-compute@developer.gserviceaccount.com:OWNER gs://BUCKET_NAME. The command gsutil ch to change the owner grant owner to dataflow service account.\n",
    "- gsutil -m acl ch -r -u <project-number>-compute@developer.gserviceaccount.com:OWNER gs://BUCKET_NAME. the command to change the owner ship of gcp bucket with some object.\n",
    "- some options of gsutil:\n",
    "    - m: multi-processing\n",
    "    - r: recursive\n",
    "    - u: user entity with role\n",
    "    "
   ]
  },
  {
   "cell_type": "markdown",
   "metadata": {},
   "source": [
    "**Some basic gsutils commands.**\n",
    "- acl (access control list). this command to get, set or change acl of bucket\n",
    "- defacl (default access control list). this command to get, set or change default acl of bucket."
   ]
  },
  {
   "cell_type": "markdown",
   "metadata": {},
   "source": [
    "**Dataflow access bigquery**\n",
    "- above we discuss about dataflow access control in cloud storage with acl (access control list)\n",
    "- now we discuss about the use of iam to grant access for dataflow.\n",
    "- reference about access control in bigquery with a list of permmissons, predefined roles: https://cloud.google.com/bigquery/docs/access-control#bigquery\n",
    "- reference about service account using gcloud iam: https://cloud.google.com/sdk/gcloud/reference/iam/service-accounts."
   ]
  },
  {
   "cell_type": "markdown",
   "metadata": {},
   "source": [
    "**Gcloud cli iam service account**:\n",
    "- gcloud cli with iam service account, to create and manipulate service account.\n",
    "- reference link of gcloud iam service account: https://cloud.google.com/sdk/gcloud/reference/iam/service-accounts\n",
    "- important command is add-iam-policy-binding.\n",
    "- reference about add-iam-policy-binding: https://cloud.google.com/sdk/gcloud/reference/iam/service-accounts/add-iam-policy-binding.\n",
    "- given the synopsis (short description of film or book). we note that we have to specify posistion argument SERVICE_ACCOUNT and key word argument --role and --member"
   ]
  }
 ],
 "metadata": {
  "language_info": {
   "name": "python"
  },
  "orig_nbformat": 4
 },
 "nbformat": 4,
 "nbformat_minor": 2
}
