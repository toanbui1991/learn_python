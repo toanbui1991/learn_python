{
 "cells": [
  {
   "cell_type": "code",
<<<<<<< HEAD
   "execution_count": 2,
=======
   "execution_count": 1,
   "metadata": {},
   "outputs": [
    {
     "ename": "CalledProcessError",
     "evalue": "Command '['Write-Host', 'Hello from the child']' returned non-zero exit status 127.",
     "output_type": "error",
     "traceback": [
      "\u001b[0;31m---------------------------------------------------------------------------\u001b[0m",
      "\u001b[0;31mCalledProcessError\u001b[0m                        Traceback (most recent call last)",
      "\u001b[1;32m/home/toanbui1991/python/learn_python/item_36_subprocess.ipynb Cell 1'\u001b[0m in \u001b[0;36m<cell line: 13>\u001b[0;34m()\u001b[0m\n\u001b[1;32m      <a href='vscode-notebook-cell://wsl%2Bubuntu/home/toanbui1991/python/learn_python/item_36_subprocess.ipynb#ch0000000vscode-remote?line=4'>5</a>\u001b[0m os\u001b[39m.\u001b[39menviron[\u001b[39m\"\u001b[39m\u001b[39mCOMSPEC\u001b[39m\u001b[39m\"\u001b[39m] \u001b[39m=\u001b[39m \u001b[39m\"\u001b[39m\u001b[39mpowershell\u001b[39m\u001b[39m\"\u001b[39m\n\u001b[1;32m      <a href='vscode-notebook-cell://wsl%2Bubuntu/home/toanbui1991/python/learn_python/item_36_subprocess.ipynb#ch0000000vscode-remote?line=6'>7</a>\u001b[0m result \u001b[39m=\u001b[39m subprocess\u001b[39m.\u001b[39mrun(\n\u001b[1;32m      <a href='vscode-notebook-cell://wsl%2Bubuntu/home/toanbui1991/python/learn_python/item_36_subprocess.ipynb#ch0000000vscode-remote?line=7'>8</a>\u001b[0m     [\u001b[39m\"\u001b[39m\u001b[39mWrite-Host\u001b[39m\u001b[39m\"\u001b[39m, \u001b[39m\"\u001b[39m\u001b[39mHello from the child\u001b[39m\u001b[39m\"\u001b[39m],\n\u001b[1;32m      <a href='vscode-notebook-cell://wsl%2Bubuntu/home/toanbui1991/python/learn_python/item_36_subprocess.ipynb#ch0000000vscode-remote?line=8'>9</a>\u001b[0m     capture_output\u001b[39m=\u001b[39m\u001b[39mTrue\u001b[39;00m,\n\u001b[1;32m     <a href='vscode-notebook-cell://wsl%2Bubuntu/home/toanbui1991/python/learn_python/item_36_subprocess.ipynb#ch0000000vscode-remote?line=9'>10</a>\u001b[0m     encoding\u001b[39m=\u001b[39m\u001b[39m\"\u001b[39m\u001b[39mutf-8\u001b[39m\u001b[39m\"\u001b[39m,\n\u001b[1;32m     <a href='vscode-notebook-cell://wsl%2Bubuntu/home/toanbui1991/python/learn_python/item_36_subprocess.ipynb#ch0000000vscode-remote?line=10'>11</a>\u001b[0m     shell\u001b[39m=\u001b[39m\u001b[39mTrue\u001b[39;00m)\n\u001b[0;32m---> <a href='vscode-notebook-cell://wsl%2Bubuntu/home/toanbui1991/python/learn_python/item_36_subprocess.ipynb#ch0000000vscode-remote?line=12'>13</a>\u001b[0m result\u001b[39m.\u001b[39;49mcheck_returncode() \u001b[39m# No exception means clean exit\u001b[39;00m\n\u001b[1;32m     <a href='vscode-notebook-cell://wsl%2Bubuntu/home/toanbui1991/python/learn_python/item_36_subprocess.ipynb#ch0000000vscode-remote?line=13'>14</a>\u001b[0m \u001b[39mprint\u001b[39m(result\u001b[39m.\u001b[39mstdout)\n",
      "File \u001b[0;32m/usr/lib/python3.8/subprocess.py:448\u001b[0m, in \u001b[0;36mCompletedProcess.check_returncode\u001b[0;34m(self)\u001b[0m\n\u001b[1;32m    <a href='file:///usr/lib/python3.8/subprocess.py?line=445'>446</a>\u001b[0m \u001b[39m\"\"\"Raise CalledProcessError if the exit code is non-zero.\"\"\"\u001b[39;00m\n\u001b[1;32m    <a href='file:///usr/lib/python3.8/subprocess.py?line=446'>447</a>\u001b[0m \u001b[39mif\u001b[39;00m \u001b[39mself\u001b[39m\u001b[39m.\u001b[39mreturncode:\n\u001b[0;32m--> <a href='file:///usr/lib/python3.8/subprocess.py?line=447'>448</a>\u001b[0m     \u001b[39mraise\u001b[39;00m CalledProcessError(\u001b[39mself\u001b[39m\u001b[39m.\u001b[39mreturncode, \u001b[39mself\u001b[39m\u001b[39m.\u001b[39margs, \u001b[39mself\u001b[39m\u001b[39m.\u001b[39mstdout,\n\u001b[1;32m    <a href='file:///usr/lib/python3.8/subprocess.py?line=448'>449</a>\u001b[0m                              \u001b[39mself\u001b[39m\u001b[39m.\u001b[39mstderr)\n",
      "\u001b[0;31mCalledProcessError\u001b[0m: Command '['Write-Host', 'Hello from the child']' returned non-zero exit status 127."
     ]
    }
   ],
   "source": [
    "import os\n",
    "import subprocess\n",
    "\n",
    "\n",
    "os.environ[\"COMSPEC\"] = \"powershell\"\n",
    "\n",
    "result = subprocess.run(\n",
    "    [\"Write-Host\", \"Hello from the child\"],\n",
    "    capture_output=True,\n",
    "    encoding=\"utf-8\",\n",
    "    shell=True)\n",
    "\n",
    "result.check_returncode() # No exception means clean exit\n",
    "print(result.stdout)"
   ]
  },
  {
   "cell_type": "code",
   "execution_count": 9,
   "metadata": {},
   "outputs": [
    {
     "ename": "TypeError",
     "evalue": "bufsize must be an integer",
     "output_type": "error",
     "traceback": [
      "\u001b[0;31m---------------------------------------------------------------------------\u001b[0m",
      "\u001b[0;31mTypeError\u001b[0m                                 Traceback (most recent call last)",
      "\u001b[1;32m/home/toanbui1991/python/learn_python/item_36_subprocess.ipynb Cell 2'\u001b[0m in \u001b[0;36m<cell line: 1>\u001b[0;34m()\u001b[0m\n\u001b[0;32m----> <a href='vscode-notebook-cell://wsl%2Bubuntu/home/toanbui1991/python/learn_python/item_36_subprocess.ipynb#ch0000001vscode-remote?line=0'>1</a>\u001b[0m subprocess\u001b[39m.\u001b[39;49mrun(\u001b[39m*\u001b[39;49m[\u001b[39m\"\u001b[39;49m\u001b[39mls\u001b[39;49m\u001b[39m\"\u001b[39;49m, \u001b[39m\"\u001b[39;49m\u001b[39m-l\u001b[39;49m\u001b[39m\"\u001b[39;49m, \u001b[39m'\u001b[39;49m\u001b[39m./\u001b[39;49m\u001b[39m'\u001b[39;49m], capture_output\u001b[39m=\u001b[39;49m\u001b[39mTrue\u001b[39;49;00m)\n",
      "File \u001b[0;32m/usr/lib/python3.8/subprocess.py:493\u001b[0m, in \u001b[0;36mrun\u001b[0;34m(input, capture_output, timeout, check, *popenargs, **kwargs)\u001b[0m\n\u001b[1;32m    <a href='file:///usr/lib/python3.8/subprocess.py?line=489'>490</a>\u001b[0m     kwargs[\u001b[39m'\u001b[39m\u001b[39mstdout\u001b[39m\u001b[39m'\u001b[39m] \u001b[39m=\u001b[39m PIPE\n\u001b[1;32m    <a href='file:///usr/lib/python3.8/subprocess.py?line=490'>491</a>\u001b[0m     kwargs[\u001b[39m'\u001b[39m\u001b[39mstderr\u001b[39m\u001b[39m'\u001b[39m] \u001b[39m=\u001b[39m PIPE\n\u001b[0;32m--> <a href='file:///usr/lib/python3.8/subprocess.py?line=492'>493</a>\u001b[0m \u001b[39mwith\u001b[39;00m Popen(\u001b[39m*\u001b[39;49mpopenargs, \u001b[39m*\u001b[39;49m\u001b[39m*\u001b[39;49mkwargs) \u001b[39mas\u001b[39;00m process:\n\u001b[1;32m    <a href='file:///usr/lib/python3.8/subprocess.py?line=493'>494</a>\u001b[0m     \u001b[39mtry\u001b[39;00m:\n\u001b[1;32m    <a href='file:///usr/lib/python3.8/subprocess.py?line=494'>495</a>\u001b[0m         stdout, stderr \u001b[39m=\u001b[39m process\u001b[39m.\u001b[39mcommunicate(\u001b[39minput\u001b[39m, timeout\u001b[39m=\u001b[39mtimeout)\n",
      "File \u001b[0;32m/usr/lib/python3.8/subprocess.py:757\u001b[0m, in \u001b[0;36mPopen.__init__\u001b[0;34m(self, args, bufsize, executable, stdin, stdout, stderr, preexec_fn, close_fds, shell, cwd, env, universal_newlines, startupinfo, creationflags, restore_signals, start_new_session, pass_fds, encoding, errors, text)\u001b[0m\n\u001b[1;32m    <a href='file:///usr/lib/python3.8/subprocess.py?line=754'>755</a>\u001b[0m     bufsize \u001b[39m=\u001b[39m \u001b[39m-\u001b[39m\u001b[39m1\u001b[39m  \u001b[39m# Restore default\u001b[39;00m\n\u001b[1;32m    <a href='file:///usr/lib/python3.8/subprocess.py?line=755'>756</a>\u001b[0m \u001b[39mif\u001b[39;00m \u001b[39mnot\u001b[39;00m \u001b[39misinstance\u001b[39m(bufsize, \u001b[39mint\u001b[39m):\n\u001b[0;32m--> <a href='file:///usr/lib/python3.8/subprocess.py?line=756'>757</a>\u001b[0m     \u001b[39mraise\u001b[39;00m \u001b[39mTypeError\u001b[39;00m(\u001b[39m\"\u001b[39m\u001b[39mbufsize must be an integer\u001b[39m\u001b[39m\"\u001b[39m)\n\u001b[1;32m    <a href='file:///usr/lib/python3.8/subprocess.py?line=758'>759</a>\u001b[0m \u001b[39mif\u001b[39;00m _mswindows:\n\u001b[1;32m    <a href='file:///usr/lib/python3.8/subprocess.py?line=759'>760</a>\u001b[0m     \u001b[39mif\u001b[39;00m preexec_fn \u001b[39mis\u001b[39;00m \u001b[39mnot\u001b[39;00m \u001b[39mNone\u001b[39;00m:\n",
      "\u001b[0;31mTypeError\u001b[0m: bufsize must be an integer"
     ]
    }
   ],
   "source": [
    "subprocess.run([\"ls\", \"-l\", './'], capture_output=True)"
   ]
  },
  {
   "cell_type": "code",
   "execution_count": 11,
>>>>>>> 4cd8758fe2702606bab59fc236cc4a01913d815f
   "metadata": {},
   "outputs": [
    {
     "name": "stdout",
     "output_type": "stream",
     "text": [
<<<<<<< HEAD
      "Hello World!\n",
      "Hello World!\n"
=======
      "Working...\n",
      "Working...\n",
      "Working...\n",
      "Exit status 0\n"
     ]
    }
   ],
   "source": [
    "import time\n",
    "#subprocess.Popen([\"sleep\", \"1\"]) with in put is a list of command line and it's arguments\n",
    "proc = subprocess.Popen([\"sleep\", \"1\"])\n",
    "#CreateProcess() class give us some other method to interact with with subprocess\n",
    "#process.poll() return None if process is not finish if finished return status code\n",
    "while proc.poll() is None:\n",
    "    print(\"Working...\")\n",
    "    time.sleep(0.4)\n",
    "\n",
    "print(\"Exit status\", proc.poll())"
   ]
  },
  {
   "cell_type": "code",
   "execution_count": 20,
   "metadata": {},
   "outputs": [
    {
     "name": "stdout",
     "output_type": "stream",
     "text": [
      "stdout_data: None, stderr_data: None\n",
      "stdout_data: None, stderr_data: None\n",
      "stdout_data: None, stderr_data: None\n",
      "stdout_data: None, stderr_data: None\n",
      "stdout_data: None, stderr_data: None\n",
      "stdout_data: None, stderr_data: None\n",
      "stdout_data: None, stderr_data: None\n",
      "stdout_data: None, stderr_data: None\n",
      "stdout_data: None, stderr_data: None\n",
      "stdout_data: None, stderr_data: None\n",
      "Finished in 1.03 seconds\n"
     ]
    }
   ],
   "source": [
    "import time\n",
    "\n",
    "start = time.time()\n",
    "sleep_procs = []\n",
    "for _ in range(10):\n",
    "    proc = subprocess.Popen([\"sleep\", \"1\"])\n",
    "    sleep_procs.append(proc)\n",
    "    \n",
    "for proc in sleep_procs:\n",
    "    stdout_data, stderr_data = proc.communicate()\n",
    "    print('stdout_data: {}, stderr_data: {}'.format(stdout_data, stderr_data))\n",
    "\n",
    "end = time.time()\n",
    "delta = end - start\n",
    "\n",
    "print(f\"Finished in {delta:.3} seconds\")"
   ]
  },
  {
   "cell_type": "code",
   "execution_count": 21,
   "metadata": {},
   "outputs": [
    {
     "name": "stdout",
     "output_type": "stream",
     "text": [
      "b'\\xfa\\x07\\xbe\\x8e\\xf7\\x08\\xc5\\xa6\\xd7 '\n",
      "b'c\\xc4h\\xbf\\t}]\\xbdA\\xa7'\n",
      "b'n;\\xea\\xec\\x01\\xc6\\xf4\\xdaW\\xff'\n"
     ]
    },
    {
     "name": "stderr",
     "output_type": "stream",
     "text": [
      "*** WARNING : deprecated key derivation used.\n",
      "Using -iter or -pbkdf2 would be better.\n",
      "*** WARNING : deprecated key derivation used.\n",
      "Using -iter or -pbkdf2 would be better.\n",
      "*** WARNING : deprecated key derivation used.\n",
      "Using -iter or -pbkdf2 would be better.\n"
     ]
    }
   ],
   "source": [
    "import os\n",
    "\n",
    "\n",
    "def run_encrypt(data):\n",
    "    env = os.environ.copy()\n",
    "    env[\"password\"] = \"4(;QlJ?mVXv?^|+q@UmR%eQaq|Aqh):?\"\n",
    "    proc = subprocess.Popen(\n",
    "        [\"openssl\", \"enc\", \"-des3\", \"-pass\", \"env:password\"],\n",
    "        env=env,\n",
    "        stdin=subprocess.PIPE,\n",
    "        stdout=subprocess.PIPE)\n",
    "    proc.stdin.write(data)\n",
    "    proc.stdin.flush() # Ensure that the child gets input\n",
    "    return proc\n",
    "\n",
    "procs = []\n",
    "for _ in range(3):\n",
    "    data = os.urandom(10)\n",
    "    proc = run_encrypt(data)\n",
    "    procs.append(proc)\n",
    "\n",
    "for proc in procs:\n",
    "    out, _ = proc.communicate()\n",
    "    print(out[-10:])"
   ]
  },
  {
   "cell_type": "code",
   "execution_count": 23,
   "metadata": {},
   "outputs": [
    {
     "name": "stderr",
     "output_type": "stream",
     "text": [
      "*** WARNING : deprecated key derivation used.\n",
      "Using -iter or -pbkdf2 would be better.\n"
     ]
    },
    {
     "ename": "ValueError",
     "evalue": "I/O operation on closed file",
     "output_type": "error",
     "traceback": [
      "\u001b[0;31m---------------------------------------------------------------------------\u001b[0m",
      "\u001b[0;31mValueError\u001b[0m                                Traceback (most recent call last)",
      "\u001b[1;32m/home/toanbui1991/python/learn_python/item_36_subprocess.ipynb Cell 6'\u001b[0m in \u001b[0;36m<cell line: 10>\u001b[0;34m()\u001b[0m\n\u001b[1;32m     <a href='vscode-notebook-cell://wsl%2Bubuntu/home/toanbui1991/python/learn_python/item_36_subprocess.ipynb#ch0000005vscode-remote?line=11'>12</a>\u001b[0m encrypt_proc \u001b[39m=\u001b[39m run_encrypt(data)\n\u001b[1;32m     <a href='vscode-notebook-cell://wsl%2Bubuntu/home/toanbui1991/python/learn_python/item_36_subprocess.ipynb#ch0000005vscode-remote?line=12'>13</a>\u001b[0m encrypt_procs\u001b[39m.\u001b[39mappend(encrypt_proc)\n\u001b[0;32m---> <a href='vscode-notebook-cell://wsl%2Bubuntu/home/toanbui1991/python/learn_python/item_36_subprocess.ipynb#ch0000005vscode-remote?line=13'>14</a>\u001b[0m hash_proc \u001b[39m=\u001b[39m run_hash(encrypt_proc\u001b[39m.\u001b[39;49mstdout)\n\u001b[1;32m     <a href='vscode-notebook-cell://wsl%2Bubuntu/home/toanbui1991/python/learn_python/item_36_subprocess.ipynb#ch0000005vscode-remote?line=14'>15</a>\u001b[0m hash_procs\u001b[39m.\u001b[39mappend(hash_proc)\n\u001b[1;32m     <a href='vscode-notebook-cell://wsl%2Bubuntu/home/toanbui1991/python/learn_python/item_36_subprocess.ipynb#ch0000005vscode-remote?line=15'>16</a>\u001b[0m \u001b[39m# Ensure that the child consumes the input stream and \u001b[39;00m\n\u001b[1;32m     <a href='vscode-notebook-cell://wsl%2Bubuntu/home/toanbui1991/python/learn_python/item_36_subprocess.ipynb#ch0000005vscode-remote?line=16'>17</a>\u001b[0m \u001b[39m# the communicate() method doesn't inadvertently steal\u001b[39;00m\n\u001b[1;32m     <a href='vscode-notebook-cell://wsl%2Bubuntu/home/toanbui1991/python/learn_python/item_36_subprocess.ipynb#ch0000005vscode-remote?line=17'>18</a>\u001b[0m \u001b[39m# input from the child. Also lets SIGPIPE propagate to \u001b[39;00m\n\u001b[1;32m     <a href='vscode-notebook-cell://wsl%2Bubuntu/home/toanbui1991/python/learn_python/item_36_subprocess.ipynb#ch0000005vscode-remote?line=18'>19</a>\u001b[0m \u001b[39m# upstream process if the downstream process dies.\u001b[39;00m\n",
      "\u001b[1;32m/home/toanbui1991/python/learn_python/item_36_subprocess.ipynb Cell 6'\u001b[0m in \u001b[0;36mrun_hash\u001b[0;34m(input_stdin)\u001b[0m\n\u001b[1;32m      <a href='vscode-notebook-cell://wsl%2Bubuntu/home/toanbui1991/python/learn_python/item_36_subprocess.ipynb#ch0000005vscode-remote?line=0'>1</a>\u001b[0m \u001b[39mdef\u001b[39;00m \u001b[39mrun_hash\u001b[39m(input_stdin):\n\u001b[0;32m----> <a href='vscode-notebook-cell://wsl%2Bubuntu/home/toanbui1991/python/learn_python/item_36_subprocess.ipynb#ch0000005vscode-remote?line=1'>2</a>\u001b[0m     \u001b[39mreturn\u001b[39;00m subprocess\u001b[39m.\u001b[39;49mPopen(\n\u001b[1;32m      <a href='vscode-notebook-cell://wsl%2Bubuntu/home/toanbui1991/python/learn_python/item_36_subprocess.ipynb#ch0000005vscode-remote?line=2'>3</a>\u001b[0m         [\u001b[39m\"\u001b[39;49m\u001b[39mopenssl\u001b[39;49m\u001b[39m\"\u001b[39;49m, \u001b[39m\"\u001b[39;49m\u001b[39mdgst\u001b[39;49m\u001b[39m\"\u001b[39;49m, \u001b[39m\"\u001b[39;49m\u001b[39m-whirlpool\u001b[39;49m\u001b[39m\"\u001b[39;49m, \u001b[39m\"\u001b[39;49m\u001b[39m-binary\u001b[39;49m\u001b[39m\"\u001b[39;49m],\n\u001b[1;32m      <a href='vscode-notebook-cell://wsl%2Bubuntu/home/toanbui1991/python/learn_python/item_36_subprocess.ipynb#ch0000005vscode-remote?line=3'>4</a>\u001b[0m         stdin\u001b[39m=\u001b[39;49minput_stdin,\n\u001b[1;32m      <a href='vscode-notebook-cell://wsl%2Bubuntu/home/toanbui1991/python/learn_python/item_36_subprocess.ipynb#ch0000005vscode-remote?line=4'>5</a>\u001b[0m         stdout\u001b[39m=\u001b[39;49msubprocess\u001b[39m.\u001b[39;49mPIPE)\n",
      "File \u001b[0;32m/usr/lib/python3.8/subprocess.py:808\u001b[0m, in \u001b[0;36mPopen.__init__\u001b[0;34m(self, args, bufsize, executable, stdin, stdout, stderr, preexec_fn, close_fds, shell, cwd, env, universal_newlines, startupinfo, creationflags, restore_signals, start_new_session, pass_fds, encoding, errors, text)\u001b[0m\n\u001b[1;32m    <a href='file:///usr/lib/python3.8/subprocess.py?line=786'>787</a>\u001b[0m     \u001b[39mraise\u001b[39;00m SubprocessError(\u001b[39m'\u001b[39m\u001b[39mCannot disambiguate when both text \u001b[39m\u001b[39m'\u001b[39m\n\u001b[1;32m    <a href='file:///usr/lib/python3.8/subprocess.py?line=787'>788</a>\u001b[0m                           \u001b[39m'\u001b[39m\u001b[39mand universal_newlines are supplied but \u001b[39m\u001b[39m'\u001b[39m\n\u001b[1;32m    <a href='file:///usr/lib/python3.8/subprocess.py?line=788'>789</a>\u001b[0m                           \u001b[39m'\u001b[39m\u001b[39mdifferent. Pass one or the other.\u001b[39m\u001b[39m'\u001b[39m)\n\u001b[1;32m    <a href='file:///usr/lib/python3.8/subprocess.py?line=790'>791</a>\u001b[0m \u001b[39m# Input and output objects. The general principle is like\u001b[39;00m\n\u001b[1;32m    <a href='file:///usr/lib/python3.8/subprocess.py?line=791'>792</a>\u001b[0m \u001b[39m# this:\u001b[39;00m\n\u001b[1;32m    <a href='file:///usr/lib/python3.8/subprocess.py?line=792'>793</a>\u001b[0m \u001b[39m#\u001b[39;00m\n\u001b[0;32m   (...)\u001b[0m\n\u001b[1;32m    <a href='file:///usr/lib/python3.8/subprocess.py?line=802'>803</a>\u001b[0m \u001b[39m# are -1 when not using PIPEs. The child objects are -1\u001b[39;00m\n\u001b[1;32m    <a href='file:///usr/lib/python3.8/subprocess.py?line=803'>804</a>\u001b[0m \u001b[39m# when not redirecting.\u001b[39;00m\n\u001b[1;32m    <a href='file:///usr/lib/python3.8/subprocess.py?line=805'>806</a>\u001b[0m (p2cread, p2cwrite,\n\u001b[1;32m    <a href='file:///usr/lib/python3.8/subprocess.py?line=806'>807</a>\u001b[0m  c2pread, c2pwrite,\n\u001b[0;32m--> <a href='file:///usr/lib/python3.8/subprocess.py?line=807'>808</a>\u001b[0m  errread, errwrite) \u001b[39m=\u001b[39m \u001b[39mself\u001b[39;49m\u001b[39m.\u001b[39;49m_get_handles(stdin, stdout, stderr)\n\u001b[1;32m    <a href='file:///usr/lib/python3.8/subprocess.py?line=809'>810</a>\u001b[0m \u001b[39m# We wrap OS handles *before* launching the child, otherwise a\u001b[39;00m\n\u001b[1;32m    <a href='file:///usr/lib/python3.8/subprocess.py?line=810'>811</a>\u001b[0m \u001b[39m# quickly terminating child could make our fds unwrappable\u001b[39;00m\n\u001b[1;32m    <a href='file:///usr/lib/python3.8/subprocess.py?line=811'>812</a>\u001b[0m \u001b[39m# (see #8458).\u001b[39;00m\n\u001b[1;32m    <a href='file:///usr/lib/python3.8/subprocess.py?line=813'>814</a>\u001b[0m \u001b[39mif\u001b[39;00m _mswindows:\n",
      "File \u001b[0;32m/usr/lib/python3.8/subprocess.py:1477\u001b[0m, in \u001b[0;36mPopen._get_handles\u001b[0;34m(self, stdin, stdout, stderr)\u001b[0m\n\u001b[1;32m   <a href='file:///usr/lib/python3.8/subprocess.py?line=1473'>1474</a>\u001b[0m     p2cread \u001b[39m=\u001b[39m stdin\n\u001b[1;32m   <a href='file:///usr/lib/python3.8/subprocess.py?line=1474'>1475</a>\u001b[0m \u001b[39melse\u001b[39;00m:\n\u001b[1;32m   <a href='file:///usr/lib/python3.8/subprocess.py?line=1475'>1476</a>\u001b[0m     \u001b[39m# Assuming file-like object\u001b[39;00m\n\u001b[0;32m-> <a href='file:///usr/lib/python3.8/subprocess.py?line=1476'>1477</a>\u001b[0m     p2cread \u001b[39m=\u001b[39m stdin\u001b[39m.\u001b[39;49mfileno()\n\u001b[1;32m   <a href='file:///usr/lib/python3.8/subprocess.py?line=1478'>1479</a>\u001b[0m \u001b[39mif\u001b[39;00m stdout \u001b[39mis\u001b[39;00m \u001b[39mNone\u001b[39;00m:\n\u001b[1;32m   <a href='file:///usr/lib/python3.8/subprocess.py?line=1479'>1480</a>\u001b[0m     \u001b[39mpass\u001b[39;00m\n",
      "\u001b[0;31mValueError\u001b[0m: I/O operation on closed file"
     ]
    }
   ],
   "source": [
    "def run_hash(input_stdin):\n",
    "    return subprocess.Popen(\n",
    "        [\"openssl\", \"dgst\", \"-whirlpool\", \"-binary\"],\n",
    "        stdin=input_stdin,\n",
    "        stdout=subprocess.PIPE)\n",
    "\n",
    "encrypt_procs = []\n",
    "hash_procs = []\n",
    "\n",
    "for _ in range(3):\n",
    "    data = os.urandom(100)\n",
    "    encrypt_proc = run_encrypt(data)\n",
    "    encrypt_procs.append(encrypt_proc)\n",
    "    hash_proc = run_hash(encrypt_proc.stdout)\n",
    "    hash_procs.append(hash_proc)\n",
    "    # Ensure that the child consumes the input stream and \n",
    "    # the communicate() method doesn't inadvertently steal\n",
    "    # input from the child. Also lets SIGPIPE propagate to \n",
    "    # upstream process if the downstream process dies.\n",
    "    encrypt_proc.stdout.close()\n",
    "    encrypt_proc.stdout = None\n",
    "\n",
    "for proc in encrypt_procs:\n",
    "    proc.communicate()\n",
    "    assert proc.returncode == 0\n",
    "\n",
    "for proc in hash_procs:\n",
    "    out, _ = proc.communicate()\n",
    "    print(out[-10:])\n",
    "    assert proc.returncode == 0"
   ]
  },
  {
   "cell_type": "code",
   "execution_count": 24,
   "metadata": {},
   "outputs": [
    {
     "name": "stdout",
     "output_type": "stream",
     "text": [
      "Exit status -15\n"
     ]
    }
   ],
   "source": [
    "proc = subprocess.Popen(['sleep', '10'])\n",
    "\n",
    "try:\n",
    "    proc.communicate(timeout=0.1)\n",
    "except subprocess.TimeoutExpired:\n",
    "    proc.terminate()\n",
    "    proc.wait()\n",
    "\n",
    "print('Exit status', proc.poll())"
   ]
  },
  {
   "cell_type": "code",
   "execution_count": 25,
   "metadata": {},
   "outputs": [
    {
     "name": "stdout",
     "output_type": "stream",
     "text": [
      "README.md\n",
      "item_36_subprocess.ipynb\n",
      "venv\n"
>>>>>>> 4cd8758fe2702606bab59fc236cc4a01913d815f
     ]
    },
    {
     "data": {
      "text/plain": [
<<<<<<< HEAD
       "CompletedProcess(args=['echo', 'Hello World!'], returncode=0)"
      ]
     },
     "execution_count": 2,
=======
       "CompletedProcess(args=['ls'], returncode=0)"
      ]
     },
     "execution_count": 25,
>>>>>>> 4cd8758fe2702606bab59fc236cc4a01913d815f
     "metadata": {},
     "output_type": "execute_result"
    }
   ],
   "source": [
    "import subprocess\n",
    "\n",
<<<<<<< HEAD
    "#use method run which run linux command\n",
    "subprocess.run(\"echo Hello World!\", shell=True) #set shell=True to have input as string command\n",
    "subprocess.run([\"echo\", \"Hello World!\"])"
=======
    "subprocess.run(['ls'])"
>>>>>>> 4cd8758fe2702606bab59fc236cc4a01913d815f
   ]
  },
  {
   "cell_type": "code",
<<<<<<< HEAD
   "execution_count": 5,
=======
   "execution_count": 30,
>>>>>>> 4cd8758fe2702606bab59fc236cc4a01913d815f
   "metadata": {},
   "outputs": [
    {
     "name": "stdout",
     "output_type": "stream",
     "text": [
<<<<<<< HEAD
      "Hello toanbui1991 /home/toanbui1991\n"
=======
      "total 56\n",
      "drwxr-xr-x 4 toanbui1991 toanbui1991  4096 Apr 25 14:50 .\n",
      "drwxr-xr-x 3 toanbui1991 toanbui1991  4096 Apr 25 14:43 ..\n",
      "drwxr-xr-x 8 toanbui1991 toanbui1991  4096 Apr 25 14:43 .git\n",
      "-rw-r--r-- 1 toanbui1991 toanbui1991  1799 Apr 25 14:43 .gitignore\n",
      "-rw-r--r-- 1 toanbui1991 toanbui1991    40 Apr 25 14:43 README.md\n",
      "-rw-r--r-- 1 toanbui1991 toanbui1991 29986 Apr 25 16:48 item_36_subprocess.ipynb\n",
      "drwxr-xr-x 6 toanbui1991 toanbui1991  4096 Apr 25 14:50 venv\n",
      "\n"
>>>>>>> 4cd8758fe2702606bab59fc236cc4a01913d815f
     ]
    }
   ],
   "source": [
<<<<<<< HEAD
    "#use $ for variable like: $USER\n",
    "process = subprocess.run(\"echo Hello $USER ~\", shell=True)"
=======
    "process_one = subprocess.run(['ls', '-la'], capture_output=True, text=True) #run take input as a list.\n",
    "print(process_one.stdout)"
>>>>>>> 4cd8758fe2702606bab59fc236cc4a01913d815f
   ]
  },
  {
   "cell_type": "code",
<<<<<<< HEAD
   "execution_count": 8,
=======
   "execution_count": 34,
>>>>>>> 4cd8758fe2702606bab59fc236cc4a01913d815f
   "metadata": {},
   "outputs": [
    {
     "name": "stdout",
     "output_type": "stream",
     "text": [
<<<<<<< HEAD
      "process stdout: None\n",
      "process returncode: 0\n",
      "process stderr: None\n"
=======
      "process_one stdout: total 40\n",
      " 4 -rw-r--r-- 1 toanbui1991 toanbui1991    40 Apr 25 14:43 README.md\n",
      "32 -rw-r--r-- 1 toanbui1991 toanbui1991 31196 Apr 25 17:03 item_36_subprocess.ipynb\n",
      " 0 -rw-r--r-- 1 toanbui1991 toanbui1991     0 Apr 25 17:00 process_stdout.txt\n",
      " 4 drwxr-xr-x 6 toanbui1991 toanbui1991  4096 Apr 25 14:50 venv\n",
      "\n",
      "process_one status: 0\n"
>>>>>>> 4cd8758fe2702606bab59fc236cc4a01913d815f
     ]
    }
   ],
   "source": [
<<<<<<< HEAD
    "#completed process have 3 important attribute stdout, stderr, returncode\n",
    "#returncode is 0 mean process success without error\n",
    "print('process stdout: {}'.format(process.stdout)) #return None because stdout is print in the console\n",
    "print('process returncode: {}'.format(process.returncode))\n",
    "print('process stderr: {}'.format(process.stderr))"
=======
    "process_one = subprocess.run(['ls', '-ls'], capture_output=True, text=True)\n",
    "#use stdout and returncode attribute\n",
    "print('process_one stdout: {}'.format(process_one.stdout))\n",
    "print('process_one status: {}'.format(process_one.returncode))"
>>>>>>> 4cd8758fe2702606bab59fc236cc4a01913d815f
   ]
  },
  {
   "cell_type": "code",
<<<<<<< HEAD
   "execution_count": 9,
=======
   "execution_count": 35,
>>>>>>> 4cd8758fe2702606bab59fc236cc4a01913d815f
   "metadata": {},
   "outputs": [
    {
     "name": "stdout",
     "output_type": "stream",
     "text": [
<<<<<<< HEAD
      "process stdout: Hello World!\n",
      "\n"
=======
      "processone stderr: ls: cannot access 'wrong folder': No such file or directory\n",
      "\n",
      "process_one stdout: \n",
      "process_one status: 2\n"
>>>>>>> 4cd8758fe2702606bab59fc236cc4a01913d815f
     ]
    }
   ],
   "source": [
<<<<<<< HEAD
    "#to save stdout and std error in object created use capture\n",
    "process = subprocess.run('echo Hello World!', shell=True, capture_output=True, text=True)\n",
    "print('process stdout: {}'.format(process.stdout))"
=======
    "process_one = subprocess.run(['ls', '-ls', 'wrong folder'], capture_output=True, text=True)\n",
    "#use stdout and returncode attribute\n",
    "print('processone stderr: {}'.format(process_one.stderr))\n",
    "print('process_one stdout: {}'.format(process_one.stdout))\n",
    "#returncode different than 0 mean process fail or not complete\n",
    "print('process_one status: {}'.format(process_one.returncode))"
>>>>>>> 4cd8758fe2702606bab59fc236cc4a01913d815f
   ]
  },
  {
   "cell_type": "code",
<<<<<<< HEAD
   "execution_count": null,
   "metadata": {},
   "outputs": [],
   "source": [
    "import sys\n",
    "\n",
    "args = sys.argv[1:]\n",
    "print(args)"
=======
   "execution_count": 31,
   "metadata": {},
   "outputs": [
    {
     "name": "stderr",
     "output_type": "stream",
     "text": [
      "ls: cannot access 'la': No such file or directory\n"
     ]
    }
   ],
   "source": [
    "#set stdout of a process to a file\n",
    "with open('process_stdout.txt', 'w') as file:\n",
    "    process_one = subprocess.run(['ls', 'la'], stdout=file, text=True)"
   ]
  },
  {
   "cell_type": "code",
   "execution_count": 28,
   "metadata": {},
   "outputs": [
    {
     "ename": "FileNotFoundError",
     "evalue": "[Errno 2] No such file or directory: 'ls -la'",
     "output_type": "error",
     "traceback": [
      "\u001b[0;31m---------------------------------------------------------------------------\u001b[0m",
      "\u001b[0;31mFileNotFoundError\u001b[0m                         Traceback (most recent call last)",
      "\u001b[1;32m/home/toanbui1991/python/learn_python/item_36_subprocess.ipynb Cell 10'\u001b[0m in \u001b[0;36m<cell line: 1>\u001b[0;34m()\u001b[0m\n\u001b[0;32m----> <a href='vscode-notebook-cell://wsl%2Bubuntu/home/toanbui1991/python/learn_python/item_36_subprocess.ipynb#ch0000009vscode-remote?line=0'>1</a>\u001b[0m subprocess\u001b[39m.\u001b[39;49mrun(\u001b[39m'\u001b[39;49m\u001b[39mls -la\u001b[39;49m\u001b[39m'\u001b[39;49m)\n",
      "File \u001b[0;32m/usr/lib/python3.8/subprocess.py:493\u001b[0m, in \u001b[0;36mrun\u001b[0;34m(input, capture_output, timeout, check, *popenargs, **kwargs)\u001b[0m\n\u001b[1;32m    <a href='file:///usr/lib/python3.8/subprocess.py?line=489'>490</a>\u001b[0m     kwargs[\u001b[39m'\u001b[39m\u001b[39mstdout\u001b[39m\u001b[39m'\u001b[39m] \u001b[39m=\u001b[39m PIPE\n\u001b[1;32m    <a href='file:///usr/lib/python3.8/subprocess.py?line=490'>491</a>\u001b[0m     kwargs[\u001b[39m'\u001b[39m\u001b[39mstderr\u001b[39m\u001b[39m'\u001b[39m] \u001b[39m=\u001b[39m PIPE\n\u001b[0;32m--> <a href='file:///usr/lib/python3.8/subprocess.py?line=492'>493</a>\u001b[0m \u001b[39mwith\u001b[39;00m Popen(\u001b[39m*\u001b[39;49mpopenargs, \u001b[39m*\u001b[39;49m\u001b[39m*\u001b[39;49mkwargs) \u001b[39mas\u001b[39;00m process:\n\u001b[1;32m    <a href='file:///usr/lib/python3.8/subprocess.py?line=493'>494</a>\u001b[0m     \u001b[39mtry\u001b[39;00m:\n\u001b[1;32m    <a href='file:///usr/lib/python3.8/subprocess.py?line=494'>495</a>\u001b[0m         stdout, stderr \u001b[39m=\u001b[39m process\u001b[39m.\u001b[39mcommunicate(\u001b[39minput\u001b[39m, timeout\u001b[39m=\u001b[39mtimeout)\n",
      "File \u001b[0;32m/usr/lib/python3.8/subprocess.py:858\u001b[0m, in \u001b[0;36mPopen.__init__\u001b[0;34m(self, args, bufsize, executable, stdin, stdout, stderr, preexec_fn, close_fds, shell, cwd, env, universal_newlines, startupinfo, creationflags, restore_signals, start_new_session, pass_fds, encoding, errors, text)\u001b[0m\n\u001b[1;32m    <a href='file:///usr/lib/python3.8/subprocess.py?line=853'>854</a>\u001b[0m         \u001b[39mif\u001b[39;00m \u001b[39mself\u001b[39m\u001b[39m.\u001b[39mtext_mode:\n\u001b[1;32m    <a href='file:///usr/lib/python3.8/subprocess.py?line=854'>855</a>\u001b[0m             \u001b[39mself\u001b[39m\u001b[39m.\u001b[39mstderr \u001b[39m=\u001b[39m io\u001b[39m.\u001b[39mTextIOWrapper(\u001b[39mself\u001b[39m\u001b[39m.\u001b[39mstderr,\n\u001b[1;32m    <a href='file:///usr/lib/python3.8/subprocess.py?line=855'>856</a>\u001b[0m                     encoding\u001b[39m=\u001b[39mencoding, errors\u001b[39m=\u001b[39merrors)\n\u001b[0;32m--> <a href='file:///usr/lib/python3.8/subprocess.py?line=857'>858</a>\u001b[0m     \u001b[39mself\u001b[39;49m\u001b[39m.\u001b[39;49m_execute_child(args, executable, preexec_fn, close_fds,\n\u001b[1;32m    <a href='file:///usr/lib/python3.8/subprocess.py?line=858'>859</a>\u001b[0m                         pass_fds, cwd, env,\n\u001b[1;32m    <a href='file:///usr/lib/python3.8/subprocess.py?line=859'>860</a>\u001b[0m                         startupinfo, creationflags, shell,\n\u001b[1;32m    <a href='file:///usr/lib/python3.8/subprocess.py?line=860'>861</a>\u001b[0m                         p2cread, p2cwrite,\n\u001b[1;32m    <a href='file:///usr/lib/python3.8/subprocess.py?line=861'>862</a>\u001b[0m                         c2pread, c2pwrite,\n\u001b[1;32m    <a href='file:///usr/lib/python3.8/subprocess.py?line=862'>863</a>\u001b[0m                         errread, errwrite,\n\u001b[1;32m    <a href='file:///usr/lib/python3.8/subprocess.py?line=863'>864</a>\u001b[0m                         restore_signals, start_new_session)\n\u001b[1;32m    <a href='file:///usr/lib/python3.8/subprocess.py?line=864'>865</a>\u001b[0m \u001b[39mexcept\u001b[39;00m:\n\u001b[1;32m    <a href='file:///usr/lib/python3.8/subprocess.py?line=865'>866</a>\u001b[0m     \u001b[39m# Cleanup if the child failed starting.\u001b[39;00m\n\u001b[1;32m    <a href='file:///usr/lib/python3.8/subprocess.py?line=866'>867</a>\u001b[0m     \u001b[39mfor\u001b[39;00m f \u001b[39min\u001b[39;00m \u001b[39mfilter\u001b[39m(\u001b[39mNone\u001b[39;00m, (\u001b[39mself\u001b[39m\u001b[39m.\u001b[39mstdin, \u001b[39mself\u001b[39m\u001b[39m.\u001b[39mstdout, \u001b[39mself\u001b[39m\u001b[39m.\u001b[39mstderr)):\n",
      "File \u001b[0;32m/usr/lib/python3.8/subprocess.py:1704\u001b[0m, in \u001b[0;36mPopen._execute_child\u001b[0;34m(self, args, executable, preexec_fn, close_fds, pass_fds, cwd, env, startupinfo, creationflags, shell, p2cread, p2cwrite, c2pread, c2pwrite, errread, errwrite, restore_signals, start_new_session)\u001b[0m\n\u001b[1;32m   <a href='file:///usr/lib/python3.8/subprocess.py?line=1701'>1702</a>\u001b[0m     \u001b[39mif\u001b[39;00m errno_num \u001b[39m!=\u001b[39m \u001b[39m0\u001b[39m:\n\u001b[1;32m   <a href='file:///usr/lib/python3.8/subprocess.py?line=1702'>1703</a>\u001b[0m         err_msg \u001b[39m=\u001b[39m os\u001b[39m.\u001b[39mstrerror(errno_num)\n\u001b[0;32m-> <a href='file:///usr/lib/python3.8/subprocess.py?line=1703'>1704</a>\u001b[0m     \u001b[39mraise\u001b[39;00m child_exception_type(errno_num, err_msg, err_filename)\n\u001b[1;32m   <a href='file:///usr/lib/python3.8/subprocess.py?line=1704'>1705</a>\u001b[0m \u001b[39mraise\u001b[39;00m child_exception_type(err_msg)\n",
      "\u001b[0;31mFileNotFoundError\u001b[0m: [Errno 2] No such file or directory: 'ls -la'"
     ]
    }
   ],
   "source": [
    "subprocess.run('ls -la')"
>>>>>>> 4cd8758fe2702606bab59fc236cc4a01913d815f
   ]
  }
 ],
 "metadata": {
  "interpreter": {
<<<<<<< HEAD
   "hash": "a64837e0ff1eebf1c4f61c6be1bef911c548b0d523a16da7fe1c88b4ae3ad6ff"
  },
  "kernelspec": {
   "display_name": "Python 3.8.10 ('venv': venv)",
=======
   "hash": "c4c2258f3cb16335fc2dcf49c25dda9dd3ae8142fb17b9d85108198d5cfcfc63"
  },
  "kernelspec": {
   "display_name": "Python 3.10.4 64-bit",
>>>>>>> 4cd8758fe2702606bab59fc236cc4a01913d815f
   "language": "python",
   "name": "python3"
  },
  "language_info": {
   "codemirror_mode": {
    "name": "ipython",
    "version": 3
   },
   "file_extension": ".py",
   "mimetype": "text/x-python",
   "name": "python",
   "nbconvert_exporter": "python",
   "pygments_lexer": "ipython3",
   "version": "3.8.10"
  },
  "orig_nbformat": 4
 },
 "nbformat": 4,
 "nbformat_minor": 2
}
