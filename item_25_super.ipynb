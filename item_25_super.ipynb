{
 "cells": [
  {
   "cell_type": "code",
   "execution_count": 7,
   "metadata": {},
   "outputs": [
    {
     "name": "stdout",
     "output_type": "stream",
     "text": [
      "5 * 7 + 2 equant to 37 but value 7\n",
      "(5+2) * 7: 49\n"
     ]
    }
   ],
   "source": [
    "class MyBaseClass:\n",
    "\n",
    "    def __init__(self, value):\n",
    "        self.value = value\n",
    "\n",
    "class TimeSeventCorrect(MyBaseClass):\n",
    "\n",
    "    def __init__(self, value):\n",
    "        super().__init__(value)\n",
    "        self.value *= 7\n",
    "\n",
    "class PlusTwoCorrect(MyBaseClass):\n",
    "\n",
    "    def __init__(self, value):\n",
    "        super().__init__(value)\n",
    "        self.value += 2\n",
    "\n",
    "class GoodWay(TimeSeventCorrect, PlusTwoCorrect):\n",
    "\n",
    "    def __init__(self, value):\n",
    "        #with multiple inheritance the current class will inheritance from right to left class\n",
    "        #super will avoid mutiple MyBaseClass __init__() call\n",
    "        super().__init__(value)\n",
    "\n",
    "class OtherWay(TimeSeventCorrect, PlusTwoCorrect):\n",
    "\n",
    "    def __init__(self, value):\n",
    "        TimeSeventCorrect.__init__(self, value)\n",
    "        PlusTwoCorrect.__init__(self, value)\n",
    "\n",
    "bad_example = OtherWay(5)\n",
    "#error because MyBaseClass.__init__(self, value) execute two time\n",
    "print('5 * 7 + 2 equant to {} but value {}'.format(37, bad_example.value))\n",
    "\n",
    "#use super().__init__(value) call init of MyBaseClass only time time, and then follow the sequence from right to left\n",
    "example = GoodWay(5)\n",
    "print('(5+2) * 7: {}'.format(example.value))\n",
    "\n"
   ]
  },
  {
   "cell_type": "markdown",
   "metadata": {},
   "source": [
    "**Summery on super() method:**\n",
    "- super() method return parent instance, therefore we have super().__init__(*value)\n",
    "- super() method in case of multiple inheritance it will execute the most base class then then class from right to left\n",
    "- cls vs self, cls reference to Class while self reference to instance of class inside class definition.\n",
    "- cls() method is the which equal to instance __init__(value) method"
   ]
  }
 ],
 "metadata": {
  "interpreter": {
   "hash": "e997c254a1f8079c5997e54e250cb3627d598fa1a1d92bf10438cfce758154e6"
  },
  "kernelspec": {
   "display_name": "Python 3.10.1 ('venv': venv)",
   "language": "python",
   "name": "python3"
  },
  "language_info": {
   "codemirror_mode": {
    "name": "ipython",
    "version": 3
   },
   "file_extension": ".py",
   "mimetype": "text/x-python",
   "name": "python",
   "nbconvert_exporter": "python",
   "pygments_lexer": "ipython3",
   "version": "3.10.1"
  },
  "orig_nbformat": 4
 },
 "nbformat": 4,
 "nbformat_minor": 2
}
