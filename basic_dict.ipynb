{
 "cells": [
  {
   "cell_type": "code",
   "execution_count": 2,
   "metadata": {},
   "outputs": [
    {
     "name": "stdout",
     "output_type": "stream",
     "text": [
      "{'One': 1, 'Two': 2, 'Three': 3}\n"
     ]
    }
   ],
   "source": [
    "dictionary = {'One': 1, 'Two': 2}\n",
    "dictionary['Three'] = 3\n",
    "print(dictionary)"
   ]
  },
  {
   "cell_type": "code",
   "execution_count": 4,
   "metadata": {},
   "outputs": [
    {
     "name": "stdout",
     "output_type": "stream",
     "text": [
      "None\n"
     ]
    }
   ],
   "source": [
    "# dictionary['Four'] #raise KeyError\n",
    "print(dictionary.get('Four')) #return None"
   ]
  },
  {
   "cell_type": "code",
   "execution_count": 8,
   "metadata": {},
   "outputs": [
    {
     "name": "stdout",
     "output_type": "stream",
     "text": [
      "keys of dictionary:  dict_keys(['One', 'Two', 'Three'])\n",
      "values of dictionary:  dict_values([1, 2, 3])\n",
      "items of dictionary:  dict_items([('One', 1), ('Two', 2), ('Three', 3)])\n",
      "item Three:  3\n",
      "update dictionary {'One': 1, 'Two': 'two', 'Three': 3}\n",
      "add item to dictionary:  {'One': 1, 'Two': 'two', 'Three': 3, 'Four': 4}\n"
     ]
    }
   ],
   "source": [
    "#access items in dictionary\n",
    "#note about access keys, values, items, value by key: use method keys(), values(), items(), dictionary.get('key')\n",
    "#note about update and add with method update: use update({'key': 'value'}) for update and add new element\n",
    "print('keys of dictionary: ', dictionary.keys())\n",
    "print('values of dictionary: ', dictionary.values())\n",
    "print('items of dictionary: ', dictionary.items())\n",
    "print('item Three: ', dictionary.get('Three'))\n",
    "#change value of an item for add new item with method update\n",
    "dictionary.update({'Two': 'two'})\n",
    "print('update dictionary',dictionary)\n",
    "dictionary.update({'Four': 4})\n",
    "print('add item to dictionary: ', dictionary)"
   ]
  },
  {
   "cell_type": "code",
   "execution_count": 13,
   "metadata": {},
   "outputs": [
    {
     "name": "stdout",
     "output_type": "stream",
     "text": [
      "{'One': 1, 'Two': 'two', 'Three': 3, 'Four': 4}\n"
     ]
    }
   ],
   "source": [
    "new_dict = {'One': 1, 'Two': 2}\n",
    "new_dict.update({'Two': 'two', 'Three': 3, 'Four': 4})\n",
    "print(new_dict)"
   ]
  },
  {
   "cell_type": "code",
   "execution_count": 10,
   "metadata": {},
   "outputs": [
    {
     "ename": "KeyError",
     "evalue": "'Four'",
     "output_type": "error",
     "traceback": [
      "\u001b[1;31m---------------------------------------------------------------------------\u001b[0m",
      "\u001b[1;31mKeyError\u001b[0m                                  Traceback (most recent call last)",
      "\u001b[1;32mc:\\Users\\buixu\\Toan\\python_projects\\learn_python\\dict.ipynb Cell 4'\u001b[0m in \u001b[0;36m<cell line: 3>\u001b[1;34m()\u001b[0m\n\u001b[0;32m      <a href='vscode-notebook-cell:/c%3A/Users/buixu/Toan/python_projects/learn_python/dict.ipynb#ch0000003?line=0'>1</a>\u001b[0m \u001b[39m#remove items or dictionary with method pop, popitem, clear\u001b[39;00m\n\u001b[0;32m      <a href='vscode-notebook-cell:/c%3A/Users/buixu/Toan/python_projects/learn_python/dict.ipynb#ch0000003?line=1'>2</a>\u001b[0m \u001b[39m#pop method remove item by key\u001b[39;00m\n\u001b[1;32m----> <a href='vscode-notebook-cell:/c%3A/Users/buixu/Toan/python_projects/learn_python/dict.ipynb#ch0000003?line=2'>3</a>\u001b[0m dictionary\u001b[39m.\u001b[39;49mpop(\u001b[39m'\u001b[39;49m\u001b[39mFour\u001b[39;49m\u001b[39m'\u001b[39;49m)\n\u001b[0;32m      <a href='vscode-notebook-cell:/c%3A/Users/buixu/Toan/python_projects/learn_python/dict.ipynb#ch0000003?line=3'>4</a>\u001b[0m \u001b[39mprint\u001b[39m(\u001b[39m'\u001b[39m\u001b[39mpop by key: \u001b[39m\u001b[39m'\u001b[39m, dictionary)\n\u001b[0;32m      <a href='vscode-notebook-cell:/c%3A/Users/buixu/Toan/python_projects/learn_python/dict.ipynb#ch0000003?line=4'>5</a>\u001b[0m dictionary\u001b[39m.\u001b[39mpopitem() \u001b[39m#remove last added item\u001b[39;00m\n",
      "\u001b[1;31mKeyError\u001b[0m: 'Four'"
     ]
    }
   ],
   "source": [
    "#remove items or dictionary with method pop, popitem, clear\n",
    "#pop method remove item by key\n",
    "dictionary.pop('Four')\n",
    "print('pop by key: ', dictionary)\n"
   ]
  },
  {
   "cell_type": "code",
   "execution_count": 11,
   "metadata": {},
   "outputs": [
    {
     "name": "stdout",
     "output_type": "stream",
     "text": [
      "popitem to remove last added item:  {'One': 1, 'Two': 'two'}\n"
     ]
    }
   ],
   "source": [
    "dictionary.popitem() #remove last added item\n",
    "print('popitem to remove last added item: ', dictionary)"
   ]
  },
  {
   "cell_type": "code",
   "execution_count": 12,
   "metadata": {},
   "outputs": [
    {
     "name": "stdout",
     "output_type": "stream",
     "text": [
      "{}\n"
     ]
    }
   ],
   "source": [
    "#use clear method to remove all items\n",
    "#note about remove item in dictionary with method: pop('key'), popitem(), clear()\n",
    "dictionary.clear()\n",
    "print(dictionary)"
   ]
  },
  {
   "cell_type": "code",
   "execution_count": 17,
   "metadata": {},
   "outputs": [
    {
     "name": "stdout",
     "output_type": "stream",
     "text": [
      "item: One\n",
      "item: Two\n",
      "item: Three\n",
      "item: Four\n",
      "key:  One\n",
      "key:  Two\n",
      "key:  Three\n",
      "key:  Four\n",
      "value:  1\n",
      "value:  two\n",
      "value:  3\n",
      "value:  4\n",
      "One, 1\n",
      "Two, two\n",
      "Three, 3\n",
      "Four, 4\n"
     ]
    }
   ],
   "source": [
    "#loop through dictionary\n",
    "dictionary = {'One': 1, 'Two': 'two', 'Three': 3, 'Four': 4}\n",
    "for i in dictionary:\n",
    "    print(f'item: {i}')\n",
    "for key in dictionary.keys():\n",
    "    print('key: ', key)\n",
    "for value in dictionary.values():\n",
    "    print('value: ', value)\n",
    "for key, value in dictionary.items():\n",
    "    print(f'{key}, {value}')"
   ]
  },
  {
   "cell_type": "code",
   "execution_count": 18,
   "metadata": {},
   "outputs": [
    {
     "name": "stdout",
     "output_type": "stream",
     "text": [
      "new and old is the same object:  True\n",
      "new and old is not the same object:  True\n"
     ]
    }
   ],
   "source": [
    "#note about dictionary copy: copy to make other object\n",
    "old = {\"One\": 1, 'Two': 'two', 'Three': 3, 'Four': 4}\n",
    "new = old\n",
    "print('new and old is the same object: ', new is old)\n",
    "new = old.copy()\n",
    "print('new and old is not the same object: ', new is not old)"
   ]
  },
  {
   "cell_type": "code",
   "execution_count": 19,
   "metadata": {},
   "outputs": [
    {
     "name": "stdout",
     "output_type": "stream",
     "text": [
      "{'child1': {'name': 'Emil', 'year': 2004}, 'child2': {'name': 'Tobias', 'year': 2007}, 'child3': {'name': 'Linus', 'year': 2011}}\n"
     ]
    }
   ],
   "source": [
    "#note about nested dictionary:\n",
    "child1 = {\n",
    "  \"name\" : \"Emil\",\n",
    "  \"year\" : 2004\n",
    "}\n",
    "child2 = {\n",
    "  \"name\" : \"Tobias\",\n",
    "  \"year\" : 2007\n",
    "}\n",
    "child3 = {\n",
    "  \"name\" : \"Linus\",\n",
    "  \"year\" : 2011\n",
    "}\n",
    "\n",
    "myfamily = {\n",
    "  \"child1\" : child1,\n",
    "  \"child2\" : child2,\n",
    "  \"child3\" : child3\n",
    "}\n",
    "print(myfamily)"
   ]
  },
  {
   "cell_type": "code",
   "execution_count": 5,
   "metadata": {},
   "outputs": [
    {
     "name": "stdout",
     "output_type": "stream",
     "text": [
      "{'brand': 'Ford', 'model': 'Mustang', 'year': 1964}\n",
      "{'brand': 'Ford', 'model': 'Mustang', 'year': 1964, 'color': 'white'}\n",
      "{'brand': 'Ford', 'model': 'Mustang', 'year': 1964, 'color': 'white'}\n"
     ]
    }
   ],
   "source": [
    "#use setdefault() method\n",
    "# setdefault(key, default_value) is only use to add new key, value pair in to dictionary.\n",
    "# to have updated values of key use defaultdict.\n",
    "car = {\n",
    "  \"brand\": \"Ford\",\n",
    "  \"model\": \"Mustang\",\n",
    "  \"year\": 1964\n",
    "}\n",
    "\n",
    "car.setdefault(\"model\", \"Bronco\")\n",
    "print(car)\n",
    "car.setdefault(\"color\", \"white\")\n",
    "print(car)\n",
    "car.setdefault(\"year\", 0) + 10\n",
    "print(car)"
   ]
  },
  {
   "cell_type": "code",
   "execution_count": 6,
   "metadata": {},
   "outputs": [
    {
     "name": "stdout",
     "output_type": "stream",
     "text": [
      "{1: 1, 2: 4, 3: 2, 4: 1, 5: 5, 6: 1, 7: 3, 8: 1}\n",
      "defaultdict(<class 'int'>, {1: 1, 2: 4, 3: 2, 4: 1, 5: 5, 6: 1, 7: 3, 8: 1})\n",
      "defaultdict(<class 'list'>, {1: [1], 2: [2, 2, 2, 2], 3: [3, 3], 4: [4], 5: [5, 5, 5, 5, 5], 6: [6], 7: [7, 7, 7], 8: [8]})\n"
     ]
    }
   ],
   "source": [
    "from collections import defaultdict\n",
    "#use dict as a counter vs defaultdict as a counter\n",
    "test_list = [1, 2, 3, 2 ,4 ,5, 6, 7, 7, 7, 5 , 5, 5, 3 ,5 ,2 ,8 ,2]\n",
    "counter = {}\n",
    "for element in test_list:\n",
    "    if not counter.get(element):\n",
    "        counter[element] = 1\n",
    "    else:\n",
    "        counter[element] += 1\n",
    "print(counter)\n",
    "\n",
    "#use defaultdict as a counter,\n",
    "#defaultdict take one argument is default_factory which is a function\n",
    "counter = defaultdict(int)\n",
    "for element in test_list:\n",
    "    counter[element] += 1\n",
    "print(counter)\n",
    "#use defaultdict as a collector\n",
    "collector = defaultdict(list)\n",
    "for element in test_list:\n",
    "    collector[element].append(element)\n",
    "print(collector)"
   ]
  },
  {
   "cell_type": "code",
   "execution_count": 11,
   "metadata": {},
   "outputs": [
    {
     "name": "stdout",
     "output_type": "stream",
     "text": [
      "Counter({5: 5, 2: 4, 7: 3, 3: 2, 1: 1, 4: 1, 6: 1, 8: 1})\n",
      "let print some key:\n",
      "1\n",
      "2\n",
      "3\n",
      "4\n",
      "5\n",
      "6\n",
      "7\n",
      "8\n",
      "let print values:\n",
      "1\n",
      "4\n",
      "2\n",
      "1\n",
      "5\n",
      "1\n",
      "3\n",
      "1\n",
      "take the three most common element:\n",
      "[(5, 5), (2, 4), (7, 3)]\n"
     ]
    }
   ],
   "source": [
    "#use counter from counter from collections package\n",
    "#Counter take on argument is iteratable\n",
    "from collections import Counter\n",
    "test_list = [1, 2, 3, 2 ,4 ,5, 6, 7, 7, 7, 5 , 5, 5, 3 ,5 ,2 ,8 ,2]\n",
    "counter = Counter(test_list)\n",
    "print(counter)\n",
    "print('let print some key:')\n",
    "for key in counter.keys():\n",
    "    print(key)\n",
    "print('let print values:')\n",
    "for value in counter.values():\n",
    "    print(value)\n",
    "print('take the three most common element:')\n",
    "print(counter.most_common(3))\n"
   ]
  },
  {
   "cell_type": "code",
   "execution_count": null,
   "metadata": {},
   "outputs": [],
   "source": [
    "#note about dictionary function: clear(), copy(), get('key'), items(), keys(), values(), pop('key'), popitem(), setdefault(key, value), values()\n",
    "#note items() return a list of tuple of ('key', 'value')"
   ]
  }
 ],
 "metadata": {
  "interpreter": {
   "hash": "e997c254a1f8079c5997e54e250cb3627d598fa1a1d92bf10438cfce758154e6"
  },
  "kernelspec": {
   "display_name": "Python 3.10.1 ('venv': venv)",
   "language": "python",
   "name": "python3"
  },
  "language_info": {
   "codemirror_mode": {
    "name": "ipython",
    "version": 3
   },
   "file_extension": ".py",
   "mimetype": "text/x-python",
   "name": "python",
   "nbconvert_exporter": "python",
   "pygments_lexer": "ipython3",
   "version": "3.10.1"
  },
  "orig_nbformat": 4
 },
 "nbformat": 4,
 "nbformat_minor": 2
}
