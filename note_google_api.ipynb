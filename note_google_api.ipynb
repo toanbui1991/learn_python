{
 "cells": [
  {
   "cell_type": "markdown",
   "metadata": {},
   "source": [
    "**Note about google api with python package google-api-python-client:**\n",
    "- google-api-python-client is official python client from google\n",
    "- to get api resource end point use method: googleapiclient.discovery.build(**config)\n",
    "- reference youtube api at: https://developers.google.com/youtube/v3/docs\n",
    "- access resource with method instead of attribute: youtube.channels() to access channel resource.\n",
    "- youtube.channels().list(**request_info) to make lazy request\n",
    "- youtube.channels().list(**request_info).execute() to actually make request.\n",
    "- example about channels resource: read the doc we have two methods: list, update.\n",
    "- for each method document we need to read: Parameter with required, filter and option parameter.\n",
    "- list required part and filter parameter with id type string is list seperated by comma.\n",
    "- to know response return from resource read resource presentation in the documentations.\n",
    " "
   ]
  },
  {
   "cell_type": "code",
   "execution_count": null,
   "metadata": {},
   "outputs": [],
   "source": [
    "#example to call channels.list() method\n",
    "request_info = {\n",
    "    'part':\"id,snippet,statistics,contentDetails,topicDetails\",\n",
    "    'id':channel_id,\n",
    "    'maxResults':30\n",
    "}\n",
    "request = youtube.channels().list(**request_info)\n",
    "response = request.execute()"
   ]
  }
 ],
 "metadata": {
  "interpreter": {
   "hash": "fae4f3168282e05bf3f9204f0f59890df88dba34a0f37d05462abc215434d0c4"
  },
  "kernelspec": {
   "display_name": "Python 3.10.4 ('venv': venv)",
   "language": "python",
   "name": "python3"
  },
  "language_info": {
   "name": "python",
   "version": "3.10.4"
  },
  "orig_nbformat": 4
 },
 "nbformat": 4,
 "nbformat_minor": 2
}
