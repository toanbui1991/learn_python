{
 "cells": [
  {
   "cell_type": "code",
   "execution_count": 14,
   "metadata": {},
   "outputs": [
    {
     "name": "stdout",
     "output_type": "stream",
     "text": [
      "2023-04-14 03:23:14.655905+00:00\n",
      "[2023, 4, 14, 3, 23, 14]\n",
      "2023-04-14 03:23:14\n",
      "Apr 04 2023\n",
      "April 04 2023\n",
      "2023-04-01 00:00:00\n",
      "string_date:  2022-04-14T03:23:14.655905+00:00\n",
      "date:  2022-04-14 03:23:14.655905+00:00\n"
     ]
    }
   ],
   "source": [
    "from datetime import datetime, timezone, timedelta\n",
    "\n",
    "now = datetime.now(tz=timezone.utc)\n",
    "next_year = now + timedelta(days=365)\n",
    "print(next_year)\n",
    "data = [now.year, now.month, now.day, now.hour, now.minute, now.second]\n",
    "data[0] = data[0] + 1\n",
    "print(data)\n",
    "next_year = datetime(*data)\n",
    "print(next_year)\n",
    "#now the different between strftime vs strptime. strftime use to format datetime, strptime use to parse string to datetime\n",
    "print(next_year.strftime('%b %m %Y'))\n",
    "print(next_year.strftime('%B %m %Y'))\n",
    "string_date = next_year.strftime('%b %m %Y')\n",
    "date = datetime.strptime(string_date, '%b %m %Y')\n",
    "print(date)\n",
    "#other method like isoformat vs fromisoformat\n",
    "string_date = now.isoformat()\n",
    "print('string_date: ', string_date)\n",
    "date = datetime.fromisoformat(string_date)\n",
    "print('date: ', date)"
   ]
  },
  {
   "cell_type": "code",
   "execution_count": 7,
   "metadata": {},
   "outputs": [
    {
     "name": "stdout",
     "output_type": "stream",
     "text": [
      "1999-05-25 02:35:05.523000\n",
      "2021-04-04 09:31:22\n",
      "2021-05-25 00:00:00\n",
      "2005-01-01 13:33:00\n",
      "2020-08-24 21:15:00+00:00\n",
      "[2022, 4, 15, 3, 4, 39, 851627, datetime.timezone.utc]\n"
     ]
    }
   ],
   "source": [
    "#this is some example about datetime format to string use with method like strf_time, strp_time(), with f means format, p means parse\n",
    "from datetime import datetime, timezone\n",
    "\n",
    "time_data = \"25/05/99 02:35:5.523\"\n",
    "format_data = \"%d/%m/%y %H:%M:%S.%f\"\n",
    "time = datetime.strptime(time_data, format_data)\n",
    "print(time)\n",
    "time_data = \"04/04/21 09:31:22\"\n",
    "format_data = \"%d/%m/%y %H:%M:%S\"\n",
    "time = datetime.strptime(time_data, format_data)\n",
    "print(time)\n",
    "time_data = \"2021/05/25\"\n",
    "format_data = \"%Y/%m/%d\"\n",
    "time = datetime.strptime(time_data, format_data)\n",
    "print(time)\n",
    "time_data = \"Jun 1 2005  1:33PM\"\n",
    "format_data = \"%b %m %Y  %I:%M%p\" #have to use %I with %p \n",
    "time = datetime.strptime(time_data, format_data)\n",
    "print(time)\n",
    "time_data = {\"date\":\"2020-08-24T21:15:00+00:00\"}\n",
    "time = datetime.fromisoformat(time_data.get(\"date\"))\n",
    "print(time)\n",
    "time = datetime.now(tz=timezone.utc)\n",
    "data = [time.year, time.month, time.day, time.hour, time.minute, time.second, time.microsecond, time.tzinfo]\n",
    "print(data)"
   ]
  },
  {
   "cell_type": "markdown",
   "metadata": {},
   "source": [
    "**Summary:**\n",
    "- datetime important method: strftime() vs strptime(), fromisoformat() vs isoformat()\n",
    "- datetime attributes: year, month, day, hour, minute, second, microsecond, tzinfo"
   ]
  }
 ],
 "metadata": {
  "interpreter": {
   "hash": "e997c254a1f8079c5997e54e250cb3627d598fa1a1d92bf10438cfce758154e6"
  },
  "kernelspec": {
   "display_name": "Python 3.10.1 ('venv': venv)",
   "language": "python",
   "name": "python3"
  },
  "language_info": {
   "codemirror_mode": {
    "name": "ipython",
    "version": 3
   },
   "file_extension": ".py",
   "mimetype": "text/x-python",
   "name": "python",
   "nbconvert_exporter": "python",
   "pygments_lexer": "ipython3",
   "version": "3.10.1"
  },
  "orig_nbformat": 4
 },
 "nbformat": 4,
 "nbformat_minor": 2
}
