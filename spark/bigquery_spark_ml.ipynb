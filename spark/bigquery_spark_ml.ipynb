{
 "cells": [
  {
   "cell_type": "code",
   "execution_count": null,
   "metadata": {},
   "outputs": [],
   "source": [
    "from pyspark.sql import SparkSession\n",
    "\n",
    "spark = SparkSession.builder \\\n",
    "  .appName('1.3. BigQuery Storage &  Spark MLlib - Python')\\\n",
    "  .config('spark.jars', 'gs://spark-lib/bigquery/spark-bigquery-latest.jar') \\\n",
    "  .getOrCreate()\n",
    "\n",
    "spark.version"
   ]
  },
  {
   "cell_type": "code",
   "execution_count": null,
   "metadata": {},
   "outputs": [],
   "source": [
    "spark.conf.set(\"spark.sql.repl.eagerEval.enabled\",True)"
   ]
  },
  {
   "cell_type": "code",
   "execution_count": null,
   "metadata": {},
   "outputs": [],
   "source": [
    "#read data from bigquery table\n",
    "table  = 'bigquery-public-data.samples.natality'\n",
    "\n",
    "df_natality_table = spark.read \\\n",
    "  .format(\"bigquery\") \\\n",
    "  .option(\"table\", table) \\\n",
    "  .load()"
   ]
  },
  {
   "cell_type": "code",
   "execution_count": null,
   "metadata": {},
   "outputs": [],
   "source": [
    "#limit number of row and then cache\n",
    "limit = 10000\n",
    "\n",
    "df_natality_select = df_natality_table \\\n",
    ".select(\"weight_pounds\", \"mother_age\", \"father_age\", \"gestation_weeks\", \"weight_gain_pounds\", \"apgar_5min\") \\\n",
    ".where(\"\"\"\n",
    "weight_pounds IS NOT NULL \n",
    "AND mother_age IS NOT NULL\n",
    "AND father_age IS NOT NULL\n",
    "AND gestation_weeks IS NOT NULL\n",
    "AND weight_gain_pounds IS NOT NULL\n",
    "AND apgar_5min IS NOT NULL\n",
    "\"\"\") \\\n",
    ".limit(limit) \\\n",
    ".cache()\n",
    "\n",
    "df_natality_select.printSchema()\n",
    "#count method return number of row in dataframe\n",
    "df_natality_select.count()"
   ]
  },
  {
   "cell_type": "code",
   "execution_count": null,
   "metadata": {},
   "outputs": [],
   "source": [
    "\n",
    "from pyspark.ml.linalg import Vectors\n",
    "from pyspark.ml.feature import VectorAssembler\n",
    "\n",
    "assembler = VectorAssembler(\n",
    "    inputCols=[\"mother_age\", \"father_age\", \"gestation_weeks\", \"weight_gain_pounds\", \"apgar_5min\"],\n",
    "    outputCol=\"features\")\n",
    "\n",
    "df_assembler_output = assembler.transform(df_natality_select)\n",
    "df_assembler_output"
   ]
  }
 ],
 "metadata": {
  "kernelspec": {
   "display_name": "Python 3.8.10 ('venv': venv)",
   "language": "python",
   "name": "python3"
  },
  "language_info": {
   "name": "python",
   "version": "3.8.10"
  },
  "orig_nbformat": 4,
  "vscode": {
   "interpreter": {
    "hash": "0acef43dc5f76a2ed31147fd429dfe8c79ee15b3b02be3263c02dc60771e7f23"
   }
  }
 },
 "nbformat": 4,
 "nbformat_minor": 2
}
