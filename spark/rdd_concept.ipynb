{
 "cells": [
  {
   "cell_type": "markdown",
   "metadata": {},
   "source": [
    "**Spark basic concept Rdd, transformation, actions:**\n",
    "- rdd (resilient distributed dataset): data object which is distributed accross multiple machine\n",
    "- sparks opertions: transformation (map or filter), action(count, take). we can understand that transformation is like map and actions is like reduce in map reduce\n",
    "- transormation will generate rdd and action will compute value base on that rdd. when operation completed rdd is discard"
   ]
  }
 ],
 "metadata": {
  "language_info": {
   "name": "python"
  },
  "orig_nbformat": 4
 },
 "nbformat": 4,
 "nbformat_minor": 2
}
