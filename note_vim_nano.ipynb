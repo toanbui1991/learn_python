{
 "cells": [
  {
   "cell_type": "code",
   "execution_count": null,
   "metadata": {},
   "outputs": [],
   "source": [
    "#Note about vim:\n",
    "    #to open a file using vim use command: vim $file_path\n",
    "    #to enter insert mode (allow to edit file): type i\n",
    "    #to exist insert mode: type ecs\n",
    "    #to quit and save: type :wq\n",
    "\n",
    "#Note about nano:\n",
    "    #to oepn file for edit use command: nano $file_path. end then start to edit like normal\n",
    "    #nano have instruction to do task in the end of the screen, just read and follow it.\n",
    "    #to exit nano type: Ctrl + X"
   ]
  }
 ],
 "metadata": {
  "language_info": {
   "name": "python"
  },
  "orig_nbformat": 4
 },
 "nbformat": 4,
 "nbformat_minor": 2
}
