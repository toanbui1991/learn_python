{
 "cells": [
  {
   "cell_type": "code",
   "execution_count": null,
   "metadata": {},
   "outputs": [],
   "source": [
    "*Note about gcloud config:*\n",
    "- there are four type of operations in gcloud config: get, list, set, unset.\n",
    "- before running any config command, we have to create project so that we have project_id to work with.\n",
    "- to set project in core section use command: gcloud config set project project_id.\n",
    "\n",
    "*Note about gcloud container:*\n",
    "- gclouc container have multiples resource points: aws, azure, cluters. in google cloud we use clusters resource end point.\n",
    "- gcloud container clusters have operations like: create, create-auto, delete, list"
   ]
  },
  {
   "cell_type": "code",
   "execution_count": null,
   "metadata": {},
   "outputs": [],
   "source": [
    "#example: create cluster with name airflow-cluster and some other config\n",
    "#before start clustter enable kubernetes api by go to api & service page and click enable api and service, search for kubernetes engine api\n",
    "gcloud container clusters create airflow-cluster \\\n",
    "--machine-type n1-standard-4 \\\n",
    "--num-nodes 1 \\\n",
    "--region \"asia-southeast1-c\""
   ]
  },
  {
   "cell_type": "code",
   "execution_count": null,
   "metadata": {},
   "outputs": [],
   "source": [
    "#authenticate kubectl to access and control this cluster\n",
    "gcloud container clusters get-credentials airflow-cluster --region \"asia-southeast1-c\""
   ]
  },
  {
   "cell_type": "code",
   "execution_count": null,
   "metadata": {},
   "outputs": [],
   "source": [
    "*Note about kubectl:*\n",
    "- syntax: kubectl [command] [TYPE] [NAME] [flags]\n",
    "- example: kubectl get pod pod1kubectl create namespace airflow\n",
    "- to create name space: kubectl create namespace airflow"
   ]
  },
  {
   "cell_type": "code",
   "execution_count": null,
   "metadata": {},
   "outputs": [],
   "source": [
    "#Note about heml:\n",
    "\n",
    "\n",
    "#add airflow helm chart to your local computer with command:\n",
    "helm repo add apache-airflow https://airflow.apache.org\n",
    "#check local hem chart with command:\n",
    "helm repo list\n",
    "#deploy kubernetes with helm install command, and debug flag\n",
    "helm install airflow apache-airflow/airflow --namespace airflow --debug\n",
    "# deploy airflow with helm with command:\n",
    "helm upgrade --install airflow apache-airflow/airflow -n airflow --debug\n",
    "# syntax of helm upgrade: \n",
    "helm upgrade [release] [chart] [flag]. with flag --install for the first name, -n for name space and --debug to view install process.\n",
    "# check the installed pods with kubectl get pod command:\n",
    "# this command will show which pod is running and which pod is eror, useful for debug\n",
    "kubectl get pod -n name_space\n",
    "#check for the service with command\n",
    "#check the install compoents by go to: service and ingress section.\n",
    "kubectl get service -n name_space\n",
    "#by default service is access inside cluster only. to access service from outside of cluster we use command port-forward\n",
    "#forwad port from kebernetes port to localhost port\n",
    "kubectl port-forward svc/airflow-webserver 8080:8080 -n airflow\n",
    "- save the content of the current helm chart with command: helm show values apache-airflow/airflow > values.yaml.\n",
    "- custom your chart file with change in executor and service type from ClusterIp to LoadBalancer.\n",
    "- reinstall the custom chart with command: helm upgrade --install airflow apache-airflow/airflow -n airflow  \\\n",
    "  -f values.yaml \\\n",
    "  --debug"
   ]
  },
  {
   "cell_type": "code",
   "execution_count": null,
   "metadata": {},
   "outputs": [],
   "source": [
    "#note about sync between github or gitlab repo with airflow webserver dag,\n",
    "#have to use email with flag C\n",
    "- generate ssh-key with command ssh-keygen: ssh-keygen -t rsa -b 4096 -C \"toanbui1991@gmail.com\""
   ]
  },
  {
   "cell_type": "code",
   "execution_count": null,
   "metadata": {},
   "outputs": [],
   "source": [
    "kubectl create secret generic airflow-git-ssh-secret \\\n",
    "  --from-file=gitSshKey=/root/.ssh/id_rsa \\\n",
    "  -n airflow"
   ]
  },
  {
   "cell_type": "code",
   "execution_count": null,
   "metadata": {},
   "outputs": [],
   "source": [
    "#create webserver secrete key:\n",
    "kubectl create secret generic airflow-webserver-secret --from-literal=\"webserver-secret-key=$(python3 -c 'import secrets; print(secrets.token_hex(16))')\"\n",
    "#add config at: webserverSecretKeySecretName: my-webserver-secret"
   ]
  },
  {
   "cell_type": "code",
   "execution_count": null,
   "metadata": {},
   "outputs": [],
   "source": [
    "#update deployment in kubernetes with command:\n",
    "helm upgrade --install airflow apache-airflow/airflow -n airflow -f values.yaml --debug"
   ]
  },
  {
   "cell_type": "code",
   "execution_count": null,
   "metadata": {},
   "outputs": [],
   "source": [
    "#add private key to kubernetes cluster so that kubernete clustter can async with remote repo\n",
    "kubectl create secret generic airflow-gke-git-secret --from-file=gitSshKey=/root/.ssh/id_rsa -n airflow\n"
   ]
  },
  {
   "cell_type": "code",
   "execution_count": null,
   "metadata": {},
   "outputs": [],
   "source": [
    "#delete cluster with command:\n",
    "gcloud container clusters delete cluster_name\n",
    "#example: \n",
    "gcloud container clusters delete airflow-cluster --zone \"asia-southeast1-c\"\n"
   ]
  },
  {
   "cell_type": "code",
   "execution_count": null,
   "metadata": {},
   "outputs": [],
   "source": [
    "#update kubernete deployement:\n",
    "helm upgrade --install airflow apache-airflow/airflow -n airflow -f values.yaml --debug\n",
    "helm upgrade --install airflow apache-airflow/airflow -n airflow -f values.yaml --debug"
   ]
  },
  {
   "cell_type": "code",
   "execution_count": null,
   "metadata": {},
   "outputs": [],
   "source": [
    "#create kubectl secrete so that cluster can access git repo\n",
    "kubectl create secret generic airflow-ssh-git-secret \\\n",
    "  --from-file=gitSshKey=/home/toanbui1991/.ssh/id_rsa \\\n",
    "  --from-file=known_hosts=/home/toanbui1991/.ssh/known_hosts \\\n",
    "  --from-file=id_rsa.pub=/home/toanbui1991/.ssh/id_rsa.pub \\\n",
    "  -n airflow\n",
    "\n",
    "kubectl create secret generic airflow-git-ssh-secret \\\n",
    "    --from-file=ssh-privatekey=/home/toanbui1991/.ssh/id_rsa \\\n",
    "    --from-file=ssh-publickey=/home/toanbui1991/.ssh/id_rsa.pub"
   ]
  },
  {
   "cell_type": "code",
   "execution_count": null,
   "metadata": {},
   "outputs": [],
   "source": [
    "#Note about why we can not sync dags with kubernets cluster\n",
    "#one wrong wrong ssh address because do not change ssh address to required form\n",
    "#have to change from : to / after git@github.com\n",
    "#git@github.com:toanbui1991/airflow_kubernetes_v2.git, change to, ssh://git@github.com/toanbui1991/airflow_kubernetes_v2.git\n",
    "#second, kubernet do not see secrete which is use to authenticate git repo\n",
    "#three, we have to check and make sure secret can be seen by kubernete cluster with the same namespace\n",
    "\n",
    "#link for reference one: https://blog.devgenius.io/setting-up-apache-airflow-on-kubernetes-with-gitsync-beaac2e397f3\n",
    "#link for reference two: https://stackoverflow.com/questions/62167682/issue-setting-up-git-sync-with-airflow-in-a-pod\n",
    "\n",
    "#we also have to know how to debug pods\n",
    "    # kubectl get pod -n namespace\n",
    "    # kubectl get service -n namespace\n",
    "    # kubectl logs pod_id -n namespace\n",
    "    # kubectl logs pod_id log_name -n namespace\n",
    "    # kubectl describe pod_id -n namespace"
   ]
  },
  {
   "cell_type": "code",
   "execution_count": null,
   "metadata": {},
   "outputs": [],
   "source": [
    "#Note about how to solve other warning message\n",
    "#one set up static webserver secret key to help airflow component only restart when necessary\n",
    "    #with this link: https://airflow.apache.org/docs/helm-chart/stable/production-guide.html#webserver-secret-key\n",
    "#two if you use dags.gitSync.sshKeySecret, you should also use dags.gitSync.knownHosts\n",
    "    #step one, get github public key with command: ssh-keyscan -t rsa github.com > github_public_key\n",
    "    #step two, get public key fingerprint with command: ssh-keygen -lf github_public_key\n",
    "    #and comapre the result from step two, with github public key\n",
    "    #step three: add github public key to values.ymal file."
   ]
  }
 ],
 "metadata": {
  "interpreter": {
   "hash": "550548829e356865e196e0e3d1dbad2e736819adf0c6177992952c8f59527011"
  },
  "kernelspec": {
   "display_name": "Python 3.8.10 ('venv': venv)",
   "language": "python",
   "name": "python3"
  },
  "language_info": {
   "name": "python",
   "version": "3.8.10"
  },
  "orig_nbformat": 4
 },
 "nbformat": 4,
 "nbformat_minor": 2
}
