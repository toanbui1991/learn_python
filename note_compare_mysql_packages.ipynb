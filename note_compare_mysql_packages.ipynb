{
 "cells": [
  {
   "cell_type": "code",
   "execution_count": 2,
   "metadata": {},
   "outputs": [
    {
     "ename": "OperationalError",
     "evalue": "(2002, \"Can't connect to local MySQL server through socket '/var/run/mysqld/mysqld.sock' (2)\")",
     "output_type": "error",
     "traceback": [
      "\u001b[0;31m---------------------------------------------------------------------------\u001b[0m",
      "\u001b[0;31mOperationalError\u001b[0m                          Traceback (most recent call last)",
      "\u001b[1;32m/root/toanbui1991/python/learn_python/note_compare_mysql_packages.ipynb Cell 1'\u001b[0m in \u001b[0;36m<cell line: 4>\u001b[0;34m()\u001b[0m\n\u001b[1;32m      <a href='vscode-notebook-cell://wsl%2Bubuntu/root/toanbui1991/python/learn_python/note_compare_mysql_packages.ipynb#ch0000000vscode-remote?line=1'>2</a>\u001b[0m \u001b[39mimport\u001b[39;00m \u001b[39mMySQLdb\u001b[39;00m\n\u001b[1;32m      <a href='vscode-notebook-cell://wsl%2Bubuntu/root/toanbui1991/python/learn_python/note_compare_mysql_packages.ipynb#ch0000000vscode-remote?line=2'>3</a>\u001b[0m \u001b[39mfrom\u001b[39;00m \u001b[39mconfig\u001b[39;00m \u001b[39mimport\u001b[39;00m config\n\u001b[0;32m----> <a href='vscode-notebook-cell://wsl%2Bubuntu/root/toanbui1991/python/learn_python/note_compare_mysql_packages.ipynb#ch0000000vscode-remote?line=3'>4</a>\u001b[0m con \u001b[39m=\u001b[39m MySQLdb\u001b[39m.\u001b[39;49mconnect(\u001b[39m*\u001b[39;49m\u001b[39m*\u001b[39;49mconfig\u001b[39m.\u001b[39;49mget(\u001b[39m'\u001b[39;49m\u001b[39mmysql_dev\u001b[39;49m\u001b[39m'\u001b[39;49m))\n\u001b[1;32m      <a href='vscode-notebook-cell://wsl%2Bubuntu/root/toanbui1991/python/learn_python/note_compare_mysql_packages.ipynb#ch0000000vscode-remote?line=4'>5</a>\u001b[0m cursor \u001b[39m=\u001b[39m con\u001b[39m.\u001b[39mcursor()\n",
      "File \u001b[0;32m~/toanbui1991/python/learn_python/venv/lib/python3.8/site-packages/MySQLdb/__init__.py:123\u001b[0m, in \u001b[0;36mConnect\u001b[0;34m(*args, **kwargs)\u001b[0m\n\u001b[1;32m    <a href='file:///root/toanbui1991/python/learn_python/venv/lib/python3.8/site-packages/MySQLdb/__init__.py?line=119'>120</a>\u001b[0m \u001b[39m\"\"\"Factory function for connections.Connection.\"\"\"\u001b[39;00m\n\u001b[1;32m    <a href='file:///root/toanbui1991/python/learn_python/venv/lib/python3.8/site-packages/MySQLdb/__init__.py?line=120'>121</a>\u001b[0m \u001b[39mfrom\u001b[39;00m \u001b[39mMySQLdb\u001b[39;00m\u001b[39m.\u001b[39;00m\u001b[39mconnections\u001b[39;00m \u001b[39mimport\u001b[39;00m Connection\n\u001b[0;32m--> <a href='file:///root/toanbui1991/python/learn_python/venv/lib/python3.8/site-packages/MySQLdb/__init__.py?line=122'>123</a>\u001b[0m \u001b[39mreturn\u001b[39;00m Connection(\u001b[39m*\u001b[39;49margs, \u001b[39m*\u001b[39;49m\u001b[39m*\u001b[39;49mkwargs)\n",
      "File \u001b[0;32m~/toanbui1991/python/learn_python/venv/lib/python3.8/site-packages/MySQLdb/connections.py:185\u001b[0m, in \u001b[0;36mConnection.__init__\u001b[0;34m(self, *args, **kwargs)\u001b[0m\n\u001b[1;32m    <a href='file:///root/toanbui1991/python/learn_python/venv/lib/python3.8/site-packages/MySQLdb/connections.py?line=181'>182</a>\u001b[0m \u001b[39m# PEP-249 requires autocommit to be initially off\u001b[39;00m\n\u001b[1;32m    <a href='file:///root/toanbui1991/python/learn_python/venv/lib/python3.8/site-packages/MySQLdb/connections.py?line=182'>183</a>\u001b[0m autocommit \u001b[39m=\u001b[39m kwargs2\u001b[39m.\u001b[39mpop(\u001b[39m\"\u001b[39m\u001b[39mautocommit\u001b[39m\u001b[39m\"\u001b[39m, \u001b[39mFalse\u001b[39;00m)\n\u001b[0;32m--> <a href='file:///root/toanbui1991/python/learn_python/venv/lib/python3.8/site-packages/MySQLdb/connections.py?line=184'>185</a>\u001b[0m \u001b[39msuper\u001b[39;49m()\u001b[39m.\u001b[39;49m\u001b[39m__init__\u001b[39;49m(\u001b[39m*\u001b[39;49margs, \u001b[39m*\u001b[39;49m\u001b[39m*\u001b[39;49mkwargs2)\n\u001b[1;32m    <a href='file:///root/toanbui1991/python/learn_python/venv/lib/python3.8/site-packages/MySQLdb/connections.py?line=185'>186</a>\u001b[0m \u001b[39mself\u001b[39m\u001b[39m.\u001b[39mcursorclass \u001b[39m=\u001b[39m cursorclass\n\u001b[1;32m    <a href='file:///root/toanbui1991/python/learn_python/venv/lib/python3.8/site-packages/MySQLdb/connections.py?line=186'>187</a>\u001b[0m \u001b[39mself\u001b[39m\u001b[39m.\u001b[39mencoders \u001b[39m=\u001b[39m {k: v \u001b[39mfor\u001b[39;00m k, v \u001b[39min\u001b[39;00m conv\u001b[39m.\u001b[39mitems() \u001b[39mif\u001b[39;00m \u001b[39mtype\u001b[39m(k) \u001b[39mis\u001b[39;00m \u001b[39mnot\u001b[39;00m \u001b[39mint\u001b[39m}\n",
      "\u001b[0;31mOperationalError\u001b[0m: (2002, \"Can't connect to local MySQL server through socket '/var/run/mysqld/mysqld.sock' (2)\")"
     ]
    }
   ],
   "source": [
    "#test mycqlclient package with swl2\n",
    "import MySQLdb\n",
    "from config import config\n",
    "con = MySQLdb.connect(**config.get('mysql_dev'))\n",
    "cursor = con.cursor()"
   ]
  },
  {
   "cell_type": "code",
   "execution_count": 3,
   "metadata": {},
   "outputs": [],
   "source": [
    "import pymysql\n",
    "from config import config\n",
    "\n",
    "# Connect to the database\n",
    "connection = pymysql.connect(**config.get('mysql_dev'))\n",
    "\n",
    "with connection:\n",
    "    with connection.cursor() as cursor:\n",
    "        # Create a new record\n",
    "        sql = \"SELECT * FROM tb_youtube_chn_info_stg\"\n",
    "        cursor.execute(sql)\n",
    "\n",
    "    # connection is not autocommit by default. So you must commit to save\n",
    "    # your changes.\n",
    "    connection.commit()"
   ]
  },
  {
   "cell_type": "markdown",
   "metadata": {},
   "source": [
    "*Summary on mysqlclient vs pymsql:*\n",
    "- pymysql is more user friendly and more support. it is not cause error when run inside wsl as a virtual machine"
   ]
  }
 ],
 "metadata": {
  "interpreter": {
   "hash": "0acef43dc5f76a2ed31147fd429dfe8c79ee15b3b02be3263c02dc60771e7f23"
  },
  "kernelspec": {
   "display_name": "Python 3.8.10 ('venv': venv)",
   "language": "python",
   "name": "python3"
  },
  "language_info": {
   "codemirror_mode": {
    "name": "ipython",
    "version": 3
   },
   "file_extension": ".py",
   "mimetype": "text/x-python",
   "name": "python",
   "nbconvert_exporter": "python",
   "pygments_lexer": "ipython3",
   "version": "3.8.10"
  },
  "orig_nbformat": 4
 },
 "nbformat": 4,
 "nbformat_minor": 2
}
