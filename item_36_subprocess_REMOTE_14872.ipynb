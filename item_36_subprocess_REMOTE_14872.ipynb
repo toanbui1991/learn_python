{
 "cells": [
  {
   "cell_type": "code",
   "execution_count": 2,
   "metadata": {},
   "outputs": [
    {
     "name": "stdout",
     "output_type": "stream",
     "text": [
      "Hello from the child\n",
      "\n"
     ]
    }
   ],
   "source": [
    "import os\n",
    "import subprocess\n",
    "\n",
    "\n",
    "os.environ[\"COMSPEC\"] = \"powershell\"\n",
    "\n",
    "result = subprocess.run(\n",
    "    [\"Write-Host\", \"Hello from the child\"],\n",
    "    capture_output=True,\n",
    "    encoding=\"utf-8\",\n",
    "    shell=True)\n",
    "\n",
    "result.check_returncode() # No exception means clean exit\n",
    "print(result.stdout)"
   ]
  },
  {
   "cell_type": "code",
   "execution_count": 3,
   "metadata": {},
   "outputs": [
    {
     "data": {
      "text/plain": [
       "CompletedProcess(args=['ls', '-l', './'], returncode=0, stdout=b'total 975\\n-rw-r--r-- 1 LT04 197121   1086 Apr 27 14:40 Item_1python_version.ipynb\\n-rw-r--r-- 1 LT04 197121     40 Apr 25 15:05 README.md\\n-rw-r--r-- 1 LT04 197121    880 Apr 27 14:40 Untitled.ipynb\\ndrwxr-xr-x 1 LT04 197121      0 Apr 27 14:40 __pycache__\\n-rw-r--r-- 1 LT04 197121   3573 Apr 27 14:40 basic_class.ipynb\\n-rw-r--r-- 1 LT04 197121   5003 Apr 29 08:22 basic_config.py\\n-rw-r--r-- 1 LT04 197121  12429 Apr 27 14:40 basic_dict.ipynb\\n-rw-r--r-- 1 LT04 197121   7413 Apr 27 14:40 basic_filesystem.ipynb\\n-rw-r--r-- 1 LT04 197121   3076 Apr 27 14:40 basic_inheritance.ipynb\\n-rw-r--r-- 1 LT04 197121   5387 Apr 27 14:40 basic_recursive.ipynb\\n-rw-r--r-- 1 LT04 197121     24 Apr 27 14:40 bytes.bin\\n-rw-r--r-- 1 LT04 197121    776 Apr 29 08:22 config.py\\n-rw-r--r-- 1 LT04 197121     32 Apr 27 14:40 dictionary.json\\ndrwxr-xr-x 1 LT04 197121      0 Apr 27 14:40 filesystem_test\\n-rw-r--r-- 1 LT04 197121   1464 Apr 27 14:40 if_else.ipynb\\n-rw-r--r-- 1 LT04 197121  76254 Apr 27 14:40 item_10_enumerate.ipynb\\n-rw-r--r-- 1 LT04 197121   2266 Apr 27 14:40 item_11_zip.ipynb\\n-rw-r--r-- 1 LT04 197121    293 Apr 27 14:40 item_12_loop_else.ipynb\\n-rw-r--r-- 1 LT04 197121    575 Apr 27 14:40 item_13_try_except_else_finnally.ipynb\\n-rw-r--r-- 1 LT04 197121   1322 Apr 27 14:40 item_14_raise_error.ipynb\\n-rw-r--r-- 1 LT04 197121   1848 Apr 27 14:40 item_15_function_scope.ipynb\\n-rw-r--r-- 1 LT04 197121   2859 Apr 27 14:40 item_16_generator.ipynb\\n-rw-r--r-- 1 LT04 197121    688 Apr 27 14:40 item_17_defensive_loop_argument.ipynb\\n-rw-r--r-- 1 LT04 197121   1485 Apr 27 14:40 item_18_positional_paramters.ipynb\\n-rw-r--r-- 1 LT04 197121    559 Apr 27 14:40 item_19_optional_parameters_with_keyword_argument.ipynb\\n-rw-r--r-- 1 LT04 197121   1303 Apr 27 14:40 item_20_None_default_argument.ipynb\\n-rw-r--r-- 1 LT04 197121   2208 Apr 27 14:40 item_21_keyword_arguments.ipynb\\n-rw-r--r-- 1 LT04 197121  10628 Apr 27 14:40 item_22_use_helper_class_1.ipynb\\n-rw-r--r-- 1 LT04 197121   3275 Apr 27 14:40 item_23_help_function_param.ipynb\\n-rw-r--r-- 1 LT04 197121  10673 Apr 27 14:40 item_24_classmethod.ipynb\\n-rw-r--r-- 1 LT04 197121   2957 Apr 27 14:40 item_25_super.ipynb\\n-rw-r--r-- 1 LT04 197121   6800 Apr 27 14:40 item_26_mixin.ipynb\\n-rw-r--r-- 1 LT04 197121   1032 Apr 27 14:40 item_27_prefer_public_vs_private_attribute.ipynb\\n-rw-r--r-- 1 LT04 197121   5798 Apr 27 14:40 item_28_inheritance_collections.ipynb\\n-rw-r--r-- 1 LT04 197121      0 Apr 27 14:40 item_29_plain_attribute_vs_set_get.ipynb\\n-rw-r--r-- 1 LT04 197121   2141 Apr 27 14:40 item_2pep8.ipynb\\n-rw-r--r-- 1 LT04 197121   7335 Apr 27 14:40 item_30_@property.ipynb\\n-rw-r--r-- 1 LT04 197121   6295 Apr 27 14:40 item_31_reusable_proptery_method.ipynb\\n-rw-r--r-- 1 LT04 197121  35364 Apr 29 08:22 item_36_subprocess.ipynb\\n-rw-r--r-- 1 LT04 197121  35364 Apr 29 08:22 item_36_subprocess_BACKUP_14872.ipynb\\n-rw-r--r-- 1 LT04 197121      0 Apr 29 08:22 item_36_subprocess_BASE_14872.ipynb\\n-rw-r--r-- 1 LT04 197121   3158 Apr 29 08:22 item_36_subprocess_LOCAL_14872.ipynb\\n-rw-r--r-- 1 LT04 197121  32545 Apr 29 08:22 item_36_subprocess_REMOTE_14872.ipynb\\n-rw-r--r-- 1 LT04 197121   4581 Apr 26 13:43 item_37_threading.ipynb\\n-rw-r--r-- 1 LT04 197121   3212 Apr 27 14:40 item_3_bytes_vs_string.ipynb\\n-rw-r--r-- 1 LT04 197121   1991 Apr 27 14:40 item_4_write_helper_function.ipynb\\n-rw-r--r-- 1 LT04 197121   1361 Apr 27 14:40 item_5_slice.ipynb\\n-rw-r--r-- 1 LT04 197121    759 Apr 27 14:40 item_6_avoid_when_slice.ipynb\\n-rw-r--r-- 1 LT04 197121   2259 Apr 27 14:40 item_7_list_comprehension.ipynb\\n-rw-r--r-- 1 LT04 197121   3704 Apr 27 14:40 item_8_avoid_many_expression.ipynb\\n-rw-r--r-- 1 LT04 197121 150773 Apr 27 14:40 item_9_generator_for_large_list.ipynb\\n-rw-r--r-- 1 LT04 197121   3170 Apr 27 14:40 iterator_vs_generator.ipynb\\n-rw-r--r-- 1 LT04 197121   5042 Apr 27 14:40 itertools_package.ipynb\\n-rw-r--r-- 1 LT04 197121  78133 Apr 29 08:22 large_file.txt\\n-rw-r--r-- 1 LT04 197121   9455 Apr 27 14:40 list.ipynb\\n-rw-r--r-- 1 LT04 197121    288 Apr 29 08:22 list.py\\n-rw-r--r-- 1 LT04 197121   4042 Apr 27 14:40 operators.ipynb\\n-rw-r--r-- 1 LT04 197121   2528 Apr 29 09:17 package_asyncio_aiohttp.ipynb\\n-rw-r--r-- 1 LT04 197121   8327 Apr 27 14:40 package_collections.ipynb\\n-rw-r--r-- 1 LT04 197121   4118 Apr 27 14:40 package_datetime.ipynb\\n-rw-r--r-- 1 LT04 197121   2333 Apr 29 08:22 package_datetime.py\\n-rw-r--r-- 1 LT04 197121   2273 Apr 27 14:40 package_decouple.ipynb\\n-rw-r--r-- 1 LT04 197121   1532 Apr 29 08:22 package_decouple.py\\n-rw-r--r-- 1 LT04 197121   2285 Apr 27 14:40 package_json.ipynb\\n-rw-r--r-- 1 LT04 197121   1207 Apr 29 08:22 package_json.py\\n-rw-r--r-- 1 LT04 197121   2106 Apr 27 16:01 package_numpy.ipynb\\n-rw-r--r-- 1 LT04 197121   6094 Apr 27 14:40 package_os.ipynb\\n-rw-r--r-- 1 LT04 197121 198460 Apr 27 14:40 package_pymongo.ipynb\\n-rw-r--r-- 1 LT04 197121   2509 Apr 27 14:40 package_re.ipynb\\n-rw-r--r-- 1 LT04 197121   1760 Apr 29 08:22 package_re.py\\n-rw-r--r-- 1 LT04 197121    617 Apr 29 08:22 package_requests.py\\n-rw-r--r-- 1 LT04 197121   4403 Apr 27 14:40 package_sql.ipynb\\n-rw-r--r-- 1 LT04 197121   4657 Apr 27 14:40 package_sql2.ipynb\\n-rw-r--r-- 1 LT04 197121    425 Apr 29 10:07 package_subprocess.py\\n-rw-r--r-- 1 LT04 197121   2562 Apr 27 14:40 package_threading.ipynb\\n-rw-r--r-- 1 LT04 197121   2009 Apr 27 14:40 package_time.ipynb\\n-rw-r--r-- 1 LT04 197121      0 Apr 27 14:40 process_stdout.txt\\n-rw-r--r-- 1 LT04 197121   2004 Apr 27 14:40 protected_vs_private.ipynb\\n-rw-r--r-- 1 LT04 197121   3238 Apr 29 08:22 requirements.txt\\n-rw-r--r-- 1 LT04 197121   1652 Apr 27 14:40 special_parameter.ipynb\\n-rw-r--r-- 1 LT04 197121   3773 Apr 27 14:40 string.ipynb\\n-rw-r--r-- 1 LT04 197121     24 Apr 27 14:40 string.txt\\ndrwxr-xr-x 1 LT04 197121      0 Apr 29 08:22 test_inputs\\ndrwxr-xr-x 1 LT04 197121      0 Apr 25 15:05 venv\\n', stderr=b'')"
      ]
     },
     "execution_count": 3,
     "metadata": {},
     "output_type": "execute_result"
    }
   ],
   "source": [
    "subprocess.run([\"ls\", \"-l\", './'], capture_output=True)"
   ]
  },
  {
   "cell_type": "code",
   "execution_count": 4,
   "metadata": {},
   "outputs": [
    {
     "name": "stdout",
     "output_type": "stream",
     "text": [
      "Working...\n",
      "Working...\n",
      "Working...\n",
      "Exit status 0\n"
     ]
    }
   ],
   "source": [
    "import time\n",
    "#subprocess.Popen([\"sleep\", \"1\"]) with in put is a list of command line and it's arguments\n",
    "proc = subprocess.Popen([\"sleep\", \"1\"])\n",
    "#CreateProcess() class give us some other method to interact with with subprocess\n",
    "#process.poll() return None if process is not finish if finished return status code\n",
    "while proc.poll() is None:\n",
    "    print(\"Working...\")\n",
    "    time.sleep(0.4)\n",
    "\n",
    "print(\"Exit status\", proc.poll())"
   ]
  },
  {
   "cell_type": "code",
   "execution_count": 5,
   "metadata": {},
   "outputs": [
    {
     "name": "stdout",
     "output_type": "stream",
     "text": [
      "stdout_data: None, stderr_data: None\n",
      "stdout_data: None, stderr_data: None\n",
      "stdout_data: None, stderr_data: None\n",
      "stdout_data: None, stderr_data: None\n",
      "stdout_data: None, stderr_data: None\n",
      "stdout_data: None, stderr_data: None\n",
      "stdout_data: None, stderr_data: None\n",
      "stdout_data: None, stderr_data: None\n",
      "stdout_data: None, stderr_data: None\n",
      "stdout_data: None, stderr_data: None\n",
      "Finished in 1.18 seconds\n"
     ]
    }
   ],
   "source": [
    "import time\n",
    "\n",
    "start = time.time()\n",
    "sleep_procs = []\n",
    "for _ in range(10):\n",
    "    #run 10 subprocess seperately\n",
    "    proc = subprocess.Popen([\"sleep\", \"1\"])\n",
    "    sleep_procs.append(proc)\n",
    "    \n",
    "for proc in sleep_procs:\n",
    "    #communicate() method will return stdout, stderr\n",
    "    stdout_data, stderr_data = proc.communicate()\n",
    "    print('stdout_data: {}, stderr_data: {}'.format(stdout_data, stderr_data))\n",
    "\n",
    "end = time.time()\n",
    "delta = end - start\n",
    "\n",
    "print(f\"Finished in {delta:.3} seconds\")"
   ]
  },
  {
   "cell_type": "code",
   "execution_count": 8,
   "metadata": {},
   "outputs": [
    {
     "name": "stdout",
     "output_type": "stream",
     "text": [
      "b'\\x87\\xb0~\\xf0\\x95\\xd2\\x00\\x90\\x86\\xbd'\n",
      "b'n@\\xd07\\x84\\x92\\x99\\x91\\xaeY'\n",
      "b'\\xccU\\x15\\x0b\\xd62\\xdc\\xb6g\\xf0'\n"
     ]
    }
   ],
   "source": [
    "import os\n",
    "\n",
    "\n",
    "def run_encrypt(data):\n",
    "    #data is a python object\n",
    "    env = os.environ.copy()\n",
    "    env[\"password\"] = \"4(;QlJ?mVXv?^|+q@UmR%eQaq|Aqh):?\"\n",
    "    proc = subprocess.Popen(\n",
    "        [\"openssl\", \"enc\", \"-des3\", \"-pass\", \"env:password\"],\n",
    "        env=env,\n",
    "        stdin=subprocess.PIPE,\n",
    "        stdout=subprocess.PIPE)\n",
    "    #subprocess.PIPE will help you get data from python current program\n",
    "    proc.stdin.write(data) #get data from python object\n",
    "    proc.stdin.flush() # Ensure that the child gets input\n",
    "    return proc\n",
    "\n",
    "procs = []\n",
    "for _ in range(3):\n",
    "    data = os.urandom(10)\n",
    "\n",
    "    proc = run_encrypt(data)\n",
    "    procs.append(proc)\n",
    "\n",
    "for proc in procs:\n",
    "    out, _ = proc.communicate()\n",
    "    print(out[-10:])"
   ]
  },
  {
   "cell_type": "code",
   "execution_count": 9,
   "metadata": {},
   "outputs": [
    {
     "name": "stdout",
     "output_type": "stream",
     "text": [
      "b'\\x07\\xcd\\x8b\\x88;\\xd0O\\x88\\xbe7'\n",
      "b'\\x19$\\xc8\\xf6\\xd8\\xd5\\x9bn\\xe3\\x90'\n",
      "b'\\xb3\\x14S[\\xf5|q\\x0c[p'\n"
     ]
    }
   ],
   "source": [
    "def run_hash(input_stdin):\n",
    "    # run_hash take input from other subprocess. input_stdin = other_subprocess.stdout\n",
    "    return subprocess.Popen(\n",
    "        [\"openssl\", \"dgst\", \"-whirlpool\", \"-binary\"],\n",
    "        stdin=input_stdin,\n",
    "        stdout=subprocess.PIPE)\n",
    "\n",
    "encrypt_procs = []\n",
    "hash_procs = []\n",
    "\n",
    "for _ in range(3):\n",
    "    data = os.urandom(100)\n",
    "    encrypt_proc = run_encrypt(data)\n",
    "    encrypt_procs.append(encrypt_proc)\n",
    "    hash_proc = run_hash(encrypt_proc.stdout)\n",
    "    hash_procs.append(hash_proc)\n",
    "    # Ensure that the child consumes the input stream and \n",
    "    # the communicate() method doesn't inadvertently steal\n",
    "    # input from the child. Also lets SIGPIPE propagate to \n",
    "    # upstream process if the downstream process dies.\n",
    "    encrypt_proc.stdout.close()\n",
    "    encrypt_proc.stdout = None\n",
    "\n",
    "for proc in encrypt_procs:\n",
    "    proc.communicate()\n",
    "    assert proc.returncode == 0\n",
    "\n",
    "for proc in hash_procs:\n",
    "    out, _ = proc.communicate()\n",
    "    print(out[-10:])\n",
    "    assert proc.returncode == 0"
   ]
  },
  {
   "cell_type": "code",
   "execution_count": 10,
   "metadata": {},
   "outputs": [
    {
     "name": "stdout",
     "output_type": "stream",
     "text": [
      "Exit status 1\n"
     ]
    }
   ],
   "source": [
    "proc = subprocess.Popen(['sleep', '10'])\n",
    "\n",
    "try:\n",
    "    proc.communicate(timeout=0.1)\n",
    "except subprocess.TimeoutExpired:\n",
    "    #terminate and wait is use together, termigate and wait for terminate to complete\n",
    "    proc.terminate()\n",
    "    proc.wait()\n",
    "\n",
    "#poll() check process terminate or not, and return return code. 0 means success, other means error\n",
    "print('Exit status', proc.poll())"
   ]
  },
  {
   "cell_type": "code",
   "execution_count": 25,
   "metadata": {},
   "outputs": [
    {
     "name": "stdout",
     "output_type": "stream",
     "text": [
      "README.md\n",
      "item_36_subprocess.ipynb\n",
      "venv\n"
     ]
    },
    {
     "data": {
      "text/plain": [
       "CompletedProcess(args=['ls'], returncode=0)"
      ]
     },
     "execution_count": 25,
     "metadata": {},
     "output_type": "execute_result"
    }
   ],
   "source": [
    "import subprocess\n",
    "\n",
    "subprocess.run(['ls'])"
   ]
  },
  {
   "cell_type": "code",
   "execution_count": 30,
   "metadata": {},
   "outputs": [
    {
     "name": "stdout",
     "output_type": "stream",
     "text": [
      "total 56\n",
      "drwxr-xr-x 4 toanbui1991 toanbui1991  4096 Apr 25 14:50 .\n",
      "drwxr-xr-x 3 toanbui1991 toanbui1991  4096 Apr 25 14:43 ..\n",
      "drwxr-xr-x 8 toanbui1991 toanbui1991  4096 Apr 25 14:43 .git\n",
      "-rw-r--r-- 1 toanbui1991 toanbui1991  1799 Apr 25 14:43 .gitignore\n",
      "-rw-r--r-- 1 toanbui1991 toanbui1991    40 Apr 25 14:43 README.md\n",
      "-rw-r--r-- 1 toanbui1991 toanbui1991 29986 Apr 25 16:48 item_36_subprocess.ipynb\n",
      "drwxr-xr-x 6 toanbui1991 toanbui1991  4096 Apr 25 14:50 venv\n",
      "\n"
     ]
    }
   ],
   "source": [
    "process_one = subprocess.run(['ls', '-la'], capture_output=True, text=True) #run take input as a list.\n",
    "print(process_one.stdout)"
   ]
  },
  {
   "cell_type": "code",
   "execution_count": 34,
   "metadata": {},
   "outputs": [
    {
     "name": "stdout",
     "output_type": "stream",
     "text": [
      "process_one stdout: total 40\n",
      " 4 -rw-r--r-- 1 toanbui1991 toanbui1991    40 Apr 25 14:43 README.md\n",
      "32 -rw-r--r-- 1 toanbui1991 toanbui1991 31196 Apr 25 17:03 item_36_subprocess.ipynb\n",
      " 0 -rw-r--r-- 1 toanbui1991 toanbui1991     0 Apr 25 17:00 process_stdout.txt\n",
      " 4 drwxr-xr-x 6 toanbui1991 toanbui1991  4096 Apr 25 14:50 venv\n",
      "\n",
      "process_one status: 0\n"
     ]
    }
   ],
   "source": [
    "process_one = subprocess.run(['ls', '-ls'], capture_output=True, text=True)\n",
    "#use stdout and returncode attribute\n",
    "print('process_one stdout: {}'.format(process_one.stdout))\n",
    "print('process_one status: {}'.format(process_one.returncode))"
   ]
  },
  {
   "cell_type": "code",
   "execution_count": 35,
   "metadata": {},
   "outputs": [
    {
     "name": "stdout",
     "output_type": "stream",
     "text": [
      "processone stderr: ls: cannot access 'wrong folder': No such file or directory\n",
      "\n",
      "process_one stdout: \n",
      "process_one status: 2\n"
     ]
    }
   ],
   "source": [
    "process_one = subprocess.run(['ls', '-ls', 'wrong folder'], capture_output=True, text=True)\n",
    "#use stdout and returncode attribute\n",
    "print('processone stderr: {}'.format(process_one.stderr))\n",
    "print('process_one stdout: {}'.format(process_one.stdout))\n",
    "#returncode different than 0 mean process fail or not complete\n",
    "print('process_one status: {}'.format(process_one.returncode))"
   ]
  },
  {
   "cell_type": "code",
   "execution_count": 31,
   "metadata": {},
   "outputs": [
    {
     "name": "stderr",
     "output_type": "stream",
     "text": [
      "ls: cannot access 'la': No such file or directory\n"
     ]
    }
   ],
   "source": [
    "#set stdout of a process to a file\n",
    "with open('process_stdout.txt', 'w') as file:\n",
    "    process_one = subprocess.run(['ls', 'la'], stdout=file, text=True)"
   ]
  },
  {
   "cell_type": "code",
   "execution_count": 28,
   "metadata": {},
   "outputs": [
    {
     "ename": "FileNotFoundError",
     "evalue": "[Errno 2] No such file or directory: 'ls -la'",
     "output_type": "error",
     "traceback": [
      "\u001b[0;31m---------------------------------------------------------------------------\u001b[0m",
      "\u001b[0;31mFileNotFoundError\u001b[0m                         Traceback (most recent call last)",
      "\u001b[1;32m/home/toanbui1991/python/learn_python/item_36_subprocess.ipynb Cell 10'\u001b[0m in \u001b[0;36m<cell line: 1>\u001b[0;34m()\u001b[0m\n\u001b[0;32m----> <a href='vscode-notebook-cell://wsl%2Bubuntu/home/toanbui1991/python/learn_python/item_36_subprocess.ipynb#ch0000009vscode-remote?line=0'>1</a>\u001b[0m subprocess\u001b[39m.\u001b[39;49mrun(\u001b[39m'\u001b[39;49m\u001b[39mls -la\u001b[39;49m\u001b[39m'\u001b[39;49m)\n",
      "File \u001b[0;32m/usr/lib/python3.8/subprocess.py:493\u001b[0m, in \u001b[0;36mrun\u001b[0;34m(input, capture_output, timeout, check, *popenargs, **kwargs)\u001b[0m\n\u001b[1;32m    <a href='file:///usr/lib/python3.8/subprocess.py?line=489'>490</a>\u001b[0m     kwargs[\u001b[39m'\u001b[39m\u001b[39mstdout\u001b[39m\u001b[39m'\u001b[39m] \u001b[39m=\u001b[39m PIPE\n\u001b[1;32m    <a href='file:///usr/lib/python3.8/subprocess.py?line=490'>491</a>\u001b[0m     kwargs[\u001b[39m'\u001b[39m\u001b[39mstderr\u001b[39m\u001b[39m'\u001b[39m] \u001b[39m=\u001b[39m PIPE\n\u001b[0;32m--> <a href='file:///usr/lib/python3.8/subprocess.py?line=492'>493</a>\u001b[0m \u001b[39mwith\u001b[39;00m Popen(\u001b[39m*\u001b[39;49mpopenargs, \u001b[39m*\u001b[39;49m\u001b[39m*\u001b[39;49mkwargs) \u001b[39mas\u001b[39;00m process:\n\u001b[1;32m    <a href='file:///usr/lib/python3.8/subprocess.py?line=493'>494</a>\u001b[0m     \u001b[39mtry\u001b[39;00m:\n\u001b[1;32m    <a href='file:///usr/lib/python3.8/subprocess.py?line=494'>495</a>\u001b[0m         stdout, stderr \u001b[39m=\u001b[39m process\u001b[39m.\u001b[39mcommunicate(\u001b[39minput\u001b[39m, timeout\u001b[39m=\u001b[39mtimeout)\n",
      "File \u001b[0;32m/usr/lib/python3.8/subprocess.py:858\u001b[0m, in \u001b[0;36mPopen.__init__\u001b[0;34m(self, args, bufsize, executable, stdin, stdout, stderr, preexec_fn, close_fds, shell, cwd, env, universal_newlines, startupinfo, creationflags, restore_signals, start_new_session, pass_fds, encoding, errors, text)\u001b[0m\n\u001b[1;32m    <a href='file:///usr/lib/python3.8/subprocess.py?line=853'>854</a>\u001b[0m         \u001b[39mif\u001b[39;00m \u001b[39mself\u001b[39m\u001b[39m.\u001b[39mtext_mode:\n\u001b[1;32m    <a href='file:///usr/lib/python3.8/subprocess.py?line=854'>855</a>\u001b[0m             \u001b[39mself\u001b[39m\u001b[39m.\u001b[39mstderr \u001b[39m=\u001b[39m io\u001b[39m.\u001b[39mTextIOWrapper(\u001b[39mself\u001b[39m\u001b[39m.\u001b[39mstderr,\n\u001b[1;32m    <a href='file:///usr/lib/python3.8/subprocess.py?line=855'>856</a>\u001b[0m                     encoding\u001b[39m=\u001b[39mencoding, errors\u001b[39m=\u001b[39merrors)\n\u001b[0;32m--> <a href='file:///usr/lib/python3.8/subprocess.py?line=857'>858</a>\u001b[0m     \u001b[39mself\u001b[39;49m\u001b[39m.\u001b[39;49m_execute_child(args, executable, preexec_fn, close_fds,\n\u001b[1;32m    <a href='file:///usr/lib/python3.8/subprocess.py?line=858'>859</a>\u001b[0m                         pass_fds, cwd, env,\n\u001b[1;32m    <a href='file:///usr/lib/python3.8/subprocess.py?line=859'>860</a>\u001b[0m                         startupinfo, creationflags, shell,\n\u001b[1;32m    <a href='file:///usr/lib/python3.8/subprocess.py?line=860'>861</a>\u001b[0m                         p2cread, p2cwrite,\n\u001b[1;32m    <a href='file:///usr/lib/python3.8/subprocess.py?line=861'>862</a>\u001b[0m                         c2pread, c2pwrite,\n\u001b[1;32m    <a href='file:///usr/lib/python3.8/subprocess.py?line=862'>863</a>\u001b[0m                         errread, errwrite,\n\u001b[1;32m    <a href='file:///usr/lib/python3.8/subprocess.py?line=863'>864</a>\u001b[0m                         restore_signals, start_new_session)\n\u001b[1;32m    <a href='file:///usr/lib/python3.8/subprocess.py?line=864'>865</a>\u001b[0m \u001b[39mexcept\u001b[39;00m:\n\u001b[1;32m    <a href='file:///usr/lib/python3.8/subprocess.py?line=865'>866</a>\u001b[0m     \u001b[39m# Cleanup if the child failed starting.\u001b[39;00m\n\u001b[1;32m    <a href='file:///usr/lib/python3.8/subprocess.py?line=866'>867</a>\u001b[0m     \u001b[39mfor\u001b[39;00m f \u001b[39min\u001b[39;00m \u001b[39mfilter\u001b[39m(\u001b[39mNone\u001b[39;00m, (\u001b[39mself\u001b[39m\u001b[39m.\u001b[39mstdin, \u001b[39mself\u001b[39m\u001b[39m.\u001b[39mstdout, \u001b[39mself\u001b[39m\u001b[39m.\u001b[39mstderr)):\n",
      "File \u001b[0;32m/usr/lib/python3.8/subprocess.py:1704\u001b[0m, in \u001b[0;36mPopen._execute_child\u001b[0;34m(self, args, executable, preexec_fn, close_fds, pass_fds, cwd, env, startupinfo, creationflags, shell, p2cread, p2cwrite, c2pread, c2pwrite, errread, errwrite, restore_signals, start_new_session)\u001b[0m\n\u001b[1;32m   <a href='file:///usr/lib/python3.8/subprocess.py?line=1701'>1702</a>\u001b[0m     \u001b[39mif\u001b[39;00m errno_num \u001b[39m!=\u001b[39m \u001b[39m0\u001b[39m:\n\u001b[1;32m   <a href='file:///usr/lib/python3.8/subprocess.py?line=1702'>1703</a>\u001b[0m         err_msg \u001b[39m=\u001b[39m os\u001b[39m.\u001b[39mstrerror(errno_num)\n\u001b[0;32m-> <a href='file:///usr/lib/python3.8/subprocess.py?line=1703'>1704</a>\u001b[0m     \u001b[39mraise\u001b[39;00m child_exception_type(errno_num, err_msg, err_filename)\n\u001b[1;32m   <a href='file:///usr/lib/python3.8/subprocess.py?line=1704'>1705</a>\u001b[0m \u001b[39mraise\u001b[39;00m child_exception_type(err_msg)\n",
      "\u001b[0;31mFileNotFoundError\u001b[0m: [Errno 2] No such file or directory: 'ls -la'"
     ]
    }
   ],
   "source": [
    "subprocess.run('ls -la')"
   ]
  }
 ],
 "metadata": {
  "interpreter": {
   "hash": "c4c2258f3cb16335fc2dcf49c25dda9dd3ae8142fb17b9d85108198d5cfcfc63"
  },
  "kernelspec": {
   "display_name": "Python 3.10.4 64-bit",
   "language": "python",
   "name": "python3"
  },
  "language_info": {
   "codemirror_mode": {
    "name": "ipython",
    "version": 3
   },
   "file_extension": ".py",
   "mimetype": "text/x-python",
   "name": "python",
   "nbconvert_exporter": "python",
   "pygments_lexer": "ipython3",
   "version": "3.10.4"
  },
  "orig_nbformat": 4
 },
 "nbformat": 4,
 "nbformat_minor": 2
}
