{
 "cells": [
  {
   "cell_type": "code",
   "execution_count": 1,
   "metadata": {},
   "outputs": [
    {
     "name": "stdout",
     "output_type": "stream",
     "text": [
      "id=1234 username='wai foong' password='Password123' confirm_password='Password123' timestamp=datetime.datetime(2020, 8, 3, 10, 30) friends=[1, 2, 3] alias='anonymous'\n"
     ]
    }
   ],
   "source": [
    "from datetime import datetime\n",
    "from typing import List, Optional\n",
    "from pydantic import BaseModel\n",
    "\n",
    "class User(BaseModel):\n",
    "    id: int\n",
    "    username : str\n",
    "    password : str\n",
    "    confirm_password : str\n",
    "    alias = 'anonymous'\n",
    "    timestamp: Optional[datetime] = None\n",
    "    friends: List[int] = []\n",
    "#pydantic will turn string to correct data type\n",
    "data = {'id': '1234', 'username': 'wai foong', 'password': 'Password123', 'confirm_password': 'Password123', 'timestamp': '2020-08-03 10:30', 'friends': [1, '2', b'3']}\n",
    "user = User(**data)\n",
    "print(user)"
   ]
  },
  {
   "cell_type": "code",
   "execution_count": 4,
   "metadata": {},
   "outputs": [
    {
     "name": "stdout",
     "output_type": "stream",
     "text": [
      "dict method:  {'id': 1234, 'username': 'wai foong', 'password': 'Password123', 'confirm_password': 'Password123', 'timestamp': datetime.datetime(2020, 8, 3, 10, 30), 'friends': [1, 2, 3], 'alias': 'anonymous'}\n",
      "json method:  {\"id\": 1234, \"username\": \"wai foong\", \"password\": \"Password123\", \"confirm_password\": \"Password123\", \"timestamp\": \"2020-08-03T10:30:00\", \"friends\": [1, 2, 3], \"alias\": \"anonymous\"}\n",
      "copy method:  id=1234 username='wai foong' password='Password123' confirm_password='Password123' timestamp=datetime.datetime(2020, 8, 3, 10, 30) friends=[1, 2, 3] alias='anonymous'\n"
     ]
    }
   ],
   "source": [
    "print('dict method: ', user.dict())\n",
    "print('json method: ', user.json())\n",
    "print('copy method: ', user.copy()) #return a deep copy, means different object.\n"
   ]
  },
  {
   "cell_type": "code",
   "execution_count": 5,
   "metadata": {},
   "outputs": [
    {
     "name": "stdout",
     "output_type": "stream",
     "text": [
      "[\n",
      "  {\n",
      "    \"loc\": [\n",
      "      \"id\"\n",
      "    ],\n",
      "    \"msg\": \"value is not a valid integer\",\n",
      "    \"type\": \"type_error.integer\"\n",
      "  }\n",
      "]\n"
     ]
    }
   ],
   "source": [
    "from pydantic import BaseModel, ValidationError\n",
    "#use pydantic Class ValidationError\n",
    "#if can not innit object return ValidationError\n",
    "data = {'id': 'a random string', 'username': 'wai foong', 'password': 'Password123', 'confirm_password': 'Password123', 'timestamp': '2020-08-03 10:30', 'friends': [1, '2', b'3']}\n",
    "try:\n",
    "    user = User(**data)\n",
    "except ValidationError as e: #catch ValidationError\n",
    "    print(e.json()) #print json message"
   ]
  },
  {
   "cell_type": "code",
   "execution_count": null,
   "metadata": {},
   "outputs": [],
   "source": [
    "from pydantic import (\n",
    "    BaseModel,\n",
    "    NegativeInt,\n",
    "    PositiveInt,\n",
    "    conint,\n",
    "    conlist,\n",
    "    constr\n",
    ")\n",
    "#using special stype from pydantic,\n",
    "#NegativeInt, PositiveInt, conint, conlist, constr\n",
    "#negativeInt, PositiveINt, constraintint, constraint list, constraint string.\n",
    "class Model(BaseModel):\n",
    "\n",
    "    short_str: constr(min_length=2, max_length=10)\n",
    "    regex_str: constr(regex=r'^apple (pie|tart|sandwich)$')\n",
    "    strip_str: constr(strip_whitespace=True)\n",
    "    big_int: conint(gt=1000, lt=1024)\n",
    "    mod_int: conint(multiple_of=5)\n",
    "    pos_int: PositiveInt\n",
    "    neg_int: NegativeInt\n",
    "    short_list: conlist(int, min_items=1, max_items=4)"
   ]
  },
  {
   "cell_type": "code",
   "execution_count": null,
   "metadata": {},
   "outputs": [],
   "source": [
    "from pydantic import BaseModel, StrictBool\n",
    "#using Strict type: StrictBool, StrictInt, StrictFloat, StrictStr\n",
    "class StrictBoolModel(BaseModel): \n",
    "    strict_bool: StrictBool #do not accept \"False\" or \"True\""
   ]
  },
  {
   "cell_type": "code",
   "execution_count": null,
   "metadata": {},
   "outputs": [],
   "source": [
    "from datetime import datetime\n",
    "from typing import List, Optional\n",
    "from pydantic import BaseModel, ValidationError, validator\n",
    "class User(BaseModel):\n",
    "    id: int\n",
    "    username : str\n",
    "    password : str\n",
    "    confirm_password : str\n",
    "    alias = 'anonymous'\n",
    "    timestamp: Optional[datetime] = None\n",
    "    friends: List[int] = []\n",
    "    #write custom validator with @validator decorator\n",
    "    @validator('id')\n",
    "    def id_must_be_4_digits(cls, v):\n",
    "        if len(str(v)) != 4:\n",
    "            raise ValueError('must be 4 digits')\n",
    "        return v\n",
    "    @validator('confirm_password')\n",
    "    def passwords_match(cls, v, values, **kwargs):\n",
    "        if 'password' in values and v != values['password']:\n",
    "            raise ValueError('passwords do not match')\n",
    "        return v"
   ]
  }
 ],
 "metadata": {
  "interpreter": {
   "hash": "0eb1dc9052a21e9498837ed386e9c252a7a192ae64eed4115f5d5bc62010b23f"
  },
  "kernelspec": {
   "display_name": "Python 3.10.4 ('venv': venv)",
   "language": "python",
   "name": "python3"
  },
  "language_info": {
   "codemirror_mode": {
    "name": "ipython",
    "version": 3
   },
   "file_extension": ".py",
   "mimetype": "text/x-python",
   "name": "python",
   "nbconvert_exporter": "python",
   "pygments_lexer": "ipython3",
   "version": "3.10.4"
  },
  "orig_nbformat": 4
 },
 "nbformat": 4,
 "nbformat_minor": 2
}
