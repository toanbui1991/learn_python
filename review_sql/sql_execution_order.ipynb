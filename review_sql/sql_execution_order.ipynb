{
 "cells": [
  {
   "cell_type": "markdown",
   "metadata": {},
   "source": [
    "**Sql execution order:**\n",
    "1. from: choose and join table to get base data\n",
    "2. where filter base data\n",
    "3. group by: aggregate base data\n",
    "4. having: filter aggregated data\n",
    "5. select: return final data\n",
    "6. order by: sort final data\n",
    "7. limit: limit return data to a number of row"
   ]
  },
  {
   "cell_type": "markdown",
   "metadata": {},
   "source": [
    "**Note how to optimize sql:**\n",
    "- join with large table is an expensive operation. to optimize query with large join operation we write filter in subquery first and then join"
   ]
  },
  {
   "cell_type": "markdown",
   "metadata": {},
   "source": []
  }
 ],
 "metadata": {
  "language_info": {
   "name": "python"
  },
  "orig_nbformat": 4
 },
 "nbformat": 4,
 "nbformat_minor": 2
}
