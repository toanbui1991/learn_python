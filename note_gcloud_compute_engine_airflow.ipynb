{
 "cells": [
  {
   "cell_type": "code",
   "execution_count": null,
   "metadata": {},
   "outputs": [],
   "source": [
    "# the goal of this note is to deploy airflow tih compute engine (vm) and expose it to the public internet\n",
    "\n",
    "#step one: create compute engine instance\n",
    "gcloud compute instances create $AIRFLOW_VM_NAME \\\n",
    "    --zone=$ZONE_NAME \\\n",
    "    --machine-type=$VM_TYPE \\\n",
    "    --subnet=default \\\n",
    "    --network-tier=PREMIUM \\\n",
    "    --maintenance-policy=MIGRATE \\\n",
    "    --tags=http-server,https-server \\\n",
    "    --image=$IMAGE \\\n",
    "    --image-project=$IMAGE_PROJECT \\\n",
    "    --boot-disk-size=20GB \\\n",
    "    --boot-disk-type=pd-standard \\\n",
    "    --boot-disk-device-name=instance-1 \\\n",
    "    --reservation-affinity=any\n",
    "\n",
    "#note to list currently avaible base image for your vm with command\n",
    "gcloud compute images list --filter ubuntu-os-cloud\n",
    "\n",
    "#step two update and upgrade the current os\n",
    "    #from console from-end click ssh to ssh to the vm on the browser\n",
    "    #run command: sudo apt-get update && sudo apt-get upgrade"
   ]
  },
  {
   "cell_type": "code",
   "execution_count": null,
   "metadata": {},
   "outputs": [],
   "source": [
    "#step two install docker in our vm\n"
   ]
  }
 ],
 "metadata": {
  "language_info": {
   "name": "python"
  },
  "orig_nbformat": 4
 },
 "nbformat": 4,
 "nbformat_minor": 2
}
