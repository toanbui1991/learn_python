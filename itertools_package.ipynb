{
 "cells": [
  {
   "cell_type": "code",
   "execution_count": 4,
   "metadata": {},
   "outputs": [
    {
     "name": "stdout",
     "output_type": "stream",
     "text": [
      "the original list:  [1, 4, 5, 7]\n",
      "The sum after each iteration is : [1, 5, 10, 17]\n",
      "The product after each iteration is : [1, 4, 20, 140]\n"
     ]
    }
   ],
   "source": [
    "from itertools import accumulate\n",
    "import operator\n",
    "\n",
    "li1 = [1, 4, 5, 7]\n",
    "print('the original list: ', li1)\n",
    "   \n",
    "# using accumulate() #accumulate return generator\n",
    "#accumulater(data, operator, initial=None)\n",
    "# prints the successive summation of elements\n",
    "print (\"The sum after each iteration is : \", end =\"\")\n",
    "#defualt operator is operator.add\n",
    "print (list(accumulate(li1))) #accumulate return generator, use list to cast generator into list\n",
    "   \n",
    "# using accumulate()\n",
    "# prints the successive multiplication of elements\n",
    "print (\"The product after each iteration is : \", end =\"\")\n",
    "print (list(accumulate(li1, operator.mul))) #custom operator with operator.mul\n",
    "   "
   ]
  },
  {
   "cell_type": "code",
   "execution_count": 6,
   "metadata": {},
   "outputs": [
    {
     "name": "stdout",
     "output_type": "stream",
     "text": [
      "chain_list:  [0, 1, 2, 3, 4, 5, 6, 7, 8, 9, 20, 21, 22, 23, 24, 25, 26, 27, 28, 29]\n",
      "other_chain:  [0, 1, 2, 3, 4, 5, 6, 7, 8, 9, 20, 21, 22, 23, 24, 25, 26, 27, 28, 29]\n"
     ]
    }
   ],
   "source": [
    "from itertools import chain\n",
    "#learn how to use chain(*iterables) vs chain.from_iterable(iterabble)\n",
    "\n",
    "test_list = [x for x in range(10)]\n",
    "second_list = [x for x in range(20, 30)]\n",
    "chain_list = list(chain(test_list, second_list))\n",
    "print('chain_list: ', chain_list)\n",
    "#chain(*iterable) vs chain.from_iterable(iterable)\n",
    "other_chain = list(chain.from_iterable([test_list, second_list]))\n",
    "print('other_chain: ', other_chain)"
   ]
  },
  {
   "cell_type": "code",
   "execution_count": 10,
   "metadata": {},
   "outputs": [
    {
     "name": "stdout",
     "output_type": "stream",
     "text": [
      "data:  [20, 21, 22, 23, 24, 25, 26, 27, 28, 29]\n",
      "accumulation:  [20, 41, 63, 86, 110, 135, 161, 188, 216, 245]\n",
      "mul_accumulation:  [20, 420, 9240, 212520, 5100480, 127512000, 3315312000, 89513424000, 2506375872000, 72684900288000]\n",
      "max_accumulation:  [20, 21, 22, 23, 24, 25, 26, 27, 28, 29]\n"
     ]
    }
   ],
   "source": [
    "from itertools import accumulate\n",
    "import operator \n",
    "data = [x for x in range(20, 30)]\n",
    "accumulation = list(accumulate(data, operator.add))\n",
    "mul_accumulation = list(accumulate(data, operator.mul))\n",
    "max_accumulation = list(accumulate(data, max))\n",
    "print('data: ', data)\n",
    "print('accumulation: ', accumulation)\n",
    "print('mul_accumulation: ', mul_accumulation)\n",
    "print('max_accumulation: ', max_accumulation)"
   ]
  },
  {
   "cell_type": "code",
   "execution_count": 13,
   "metadata": {},
   "outputs": [
    {
     "name": "stdout",
     "output_type": "stream",
     "text": [
      "[('A', 'B'), ('A', 'C'), ('A', 'D'), ('A', 'E'), ('B', 'C'), ('B', 'D'), ('B', 'E'), ('C', 'D'), ('C', 'E'), ('D', 'E')]\n",
      "[('A', 'A'), ('A', 'B'), ('A', 'C'), ('A', 'D'), ('A', 'E'), ('B', 'B'), ('B', 'C'), ('B', 'D'), ('B', 'E'), ('C', 'C'), ('C', 'D'), ('C', 'E'), ('D', 'D'), ('D', 'E'), ('E', 'E')]\n",
      "[('A', 'B'), ('A', 'C'), ('A', 'D'), ('A', 'E'), ('B', 'A'), ('B', 'C'), ('B', 'D'), ('B', 'E'), ('C', 'A'), ('C', 'B'), ('C', 'D'), ('C', 'E'), ('D', 'A'), ('D', 'B'), ('D', 'C'), ('D', 'E'), ('E', 'A'), ('E', 'B'), ('E', 'C'), ('E', 'D')]\n"
     ]
    }
   ],
   "source": [
    "#learn about combination vs combination_with_replacement, permutation\n",
    "from itertools import combinations, combinations_with_replacement, permutations\n",
    "\n",
    "data = 'ABCDE'\n",
    "com = list(combinations(data, 2))\n",
    "print(com)\n",
    "com_replace = list(combinations_with_replacement(data, 2))\n",
    "print(com_replace)\n",
    "permu = list(permutations(data, 2))\n",
    "print(permu)"
   ]
  }
 ],
 "metadata": {
  "interpreter": {
   "hash": "e997c254a1f8079c5997e54e250cb3627d598fa1a1d92bf10438cfce758154e6"
  },
  "kernelspec": {
   "display_name": "Python 3.10.1 ('venv': venv)",
   "language": "python",
   "name": "python3"
  },
  "language_info": {
   "codemirror_mode": {
    "name": "ipython",
    "version": 3
   },
   "file_extension": ".py",
   "mimetype": "text/x-python",
   "name": "python",
   "nbconvert_exporter": "python",
   "pygments_lexer": "ipython3",
   "version": "3.10.1"
  },
  "orig_nbformat": 4
 },
 "nbformat": 4,
 "nbformat_minor": 2
}
