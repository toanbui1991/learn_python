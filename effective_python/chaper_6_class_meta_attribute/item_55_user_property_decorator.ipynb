{
 "cells": [
  {
   "cell_type": "markdown",
   "metadata": {},
   "source": [
    "**Item 45: Consider using @property instead of refactor.**"
   ]
  },
  {
   "cell_type": "code",
   "execution_count": null,
   "metadata": {},
   "outputs": [],
   "source": [
    "from datetime import datetime, timedelta\n",
    "#example of using @property and @property_name.setter to define additional attribute instead of refactor class\n",
    "class NewBucket:\n",
    "    def __init__(self, period):\n",
    "        self.period_delta = timedelta(seconds=period)\n",
    "        self.reset_time = datetime.now()\n",
    "        self.max_quota = 0\n",
    "        self.quota_consumed = 0\n",
    "\n",
    "    def __repr__(self):\n",
    "        return (f'NewBucket(max_quota={self.max_quota}, '\n",
    "                f'quota_consumed={self.quota_consumed})')\n",
    "\n",
    "\n",
    "# Example 8\n",
    "    @property\n",
    "    def quota(self):\n",
    "        return self.max_quota - self.quota_consumed\n",
    "\n",
    "\n",
    "# Example 9\n",
    "    @quota.setter\n",
    "    def quota(self, amount):\n",
    "        delta = self.max_quota - amount\n",
    "        if amount == 0:\n",
    "            # Quota being reset for a new period\n",
    "            self.quota_consumed = 0\n",
    "            self.max_quota = 0\n",
    "        elif delta < 0:\n",
    "            # Quota being filled during the period\n",
    "            self.max_quota = amount + self.quota_consumed\n",
    "        else:\n",
    "            # Quota being consumed during the period\n",
    "            self.quota_consumed = delta\n"
   ]
  }
 ],
 "metadata": {
  "language_info": {
   "name": "python"
  },
  "orig_nbformat": 4
 },
 "nbformat": 4,
 "nbformat_minor": 2
}
