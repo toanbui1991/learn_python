{
 "cells": [
  {
   "cell_type": "markdown",
   "metadata": {},
   "source": [
    "**Access modifier in python**\n",
    "- Most language have three access modifier: public, protected, private\n",
    "- python use _ for protected and __ for private access.\n",
    "- we can not access private attribute from instance. to access private attribut we have to use instance._ClassName__privateAtt\n",
    "- reference: https://betterprogramming.pub/public-private-and-protected-access-modifiers-in-python-9024f4c1dd4"
   ]
  },
  {
   "cell_type": "code",
   "execution_count": null,
   "metadata": {},
   "outputs": [],
   "source": [
    "#Example about public attribute, with public attribute we can access and assign new value to it\n",
    "class Modifiers:\n",
    "\n",
    "    def __init__(self,name):\n",
    "        self.public_member = name\n",
    "\n",
    "mod = Modifiers(\"SKAUL05\")\n",
    "print(mod.public_member) #Accessing the Public Attribute of Modifier Class\n",
    "mod.public_member = \"Github\" #Changing it's value\n",
    "print(mod.public_member)"
   ]
  },
  {
   "cell_type": "code",
   "execution_count": null,
   "metadata": {},
   "outputs": [],
   "source": [
    "#example about protected attribute, python use _ for protected attribute.\n",
    "#protected attribute is the same at public attribute. it is just a convension to do careful to update the value of that attribute\n",
    "class Modifiers:\n",
    "\n",
    "    def __init__(self, name):\n",
    "        self._protected_member = name  # Protected Attribute\n",
    "\n",
    "m = Modifiers(\"SKAUL05\")\n",
    "print(m._protected_member)\n",
    "m._protected_member = \"Github\" # Changing Protected Attribute values\n",
    "print(m._protected_member)"
   ]
  },
  {
   "cell_type": "code",
   "execution_count": null,
   "metadata": {},
   "outputs": [],
   "source": [
    "#example of private attribute of a instance.\n",
    "#python use __ for private attribute. we can not access private attribute from instance\n",
    "#to access private attribute we have to: instance._ClassName.__privateatt\n",
    "class Modifiers:\n",
    "\n",
    "    def __init__(self, name):\n",
    "        self.__private_member = name  # Private Attribute\n",
    "\n",
    "m = Modifiers(\"SKAUL05\")\n",
    "print(m.__private_member) #this will cause error\n",
    "print(m._Modifiers__private_member)\n",
    "m._Modifiers__private_member = \"Github\"\n",
    "print(m._Modifiers__private_member)"
   ]
  }
 ],
 "metadata": {
  "language_info": {
   "name": "python"
  },
  "orig_nbformat": 4
 },
 "nbformat": 4,
 "nbformat_minor": 2
}
