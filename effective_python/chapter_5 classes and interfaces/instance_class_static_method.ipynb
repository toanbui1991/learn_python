{
 "cells": [
  {
   "cell_type": "markdown",
   "metadata": {},
   "source": [
    "**Note about the different between instance, class and static method in python**\n",
    "- instance method which is reference to an instace of class. we have to initialize or create instance of class in order to use it.\n",
    "- instance method take self as input when define it\n",
    "- class method is method related to class. we call class method from Class instead of from instance of that class\n",
    "- class method take cls as input and use cls to create instance of that class\n",
    "- static method is method which note take input from class. we call static method from class\n",
    "- static method do not take self, or cls clas input when define\n",
    "- reference: https://realpython.com/instance-class-and-static-methods-demystified/"
   ]
  }
 ],
 "metadata": {
  "language_info": {
   "name": "python"
  },
  "orig_nbformat": 4
 },
 "nbformat": 4,
 "nbformat_minor": 2
}
