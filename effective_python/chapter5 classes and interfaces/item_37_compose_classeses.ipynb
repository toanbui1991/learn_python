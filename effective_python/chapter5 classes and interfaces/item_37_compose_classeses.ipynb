{
 "cells": [
  {
   "cell_type": "markdown",
   "metadata": {},
   "source": [
    "#### Item 37: Compose Classes Instead of Nesting Many Levels of Built-in Types\n",
    "1. the goal of this reading is to design a Gradebook class which have student, subject. we can get average points of each student\n",
    "2. we have to know the different between SimpleGrade, BySubjectGrade, WeightedGrade and GradeBook."
   ]
  },
  {
   "cell_type": "markdown",
   "metadata": {},
   "source": [
    "**The different between different way to design class:**\n",
    "- in the class GradeBook design, we use multiple compose class to help define GradeBook class.\n",
    "- the smallest class is Grade with namedtuple, and then we define Subject, Student and Gradebook\n",
    "- Grade is a namedtuple which have two properties score and weight\n",
    "- Subject have list of Grade.\n",
    "- Student have defaultdict(Subject) which have key is tring and value is Subject class\n",
    "- Gradebook have defaultdict(Student) which have key is string and value is Student class\n"
   ]
  },
  {
   "cell_type": "markdown",
   "metadata": {},
   "source": [
    "**The requirements for each Class or namedtuple**\n",
    "- Grade is simple data structure or class which only hold value for two properties (scores, weight). Grade = namedtuple('Grade', ('score', 'weight'))"
   ]
  },
  {
   "cell_type": "code",
   "execution_count": null,
   "metadata": {},
   "outputs": [],
   "source": [
    "from collections import namedtuple, defaultdict\n",
    "\n",
    "Grade = namedtuple('Grade', ('score', 'weight'))\n",
    "\n",
    "\n",
    "# Example 12\n",
    "class Subject:\n",
    "    #subject will have a list to hold Grade, each Grade have score and weight\n",
    "    def __init__(self):\n",
    "        self._grades = []\n",
    "\n",
    "    def report_grade(self, score, weight):\n",
    "        self._grades.append(Grade(score, weight))\n",
    "\n",
    "    def average_grade(self):\n",
    "        total, total_weight = 0, 0\n",
    "        for grade in self._grades:\n",
    "            total += grade.score * grade.weight\n",
    "            total_weight += grade.weight\n",
    "        return total / total_weight\n",
    "\n",
    "\n",
    "# Example 13\n",
    "class Student:\n",
    "    #student will have a structure to hold defaultdict\n",
    "    def __init__(self):\n",
    "        self._subjects = defaultdict(Subject) #defaultdict with Subject is value\n",
    "\n",
    "    def get_subject(self, name):\n",
    "        return self._subjects[name]\n",
    "\n",
    "    def average_grade(self):\n",
    "        total, count = 0, 0\n",
    "        for subject in self._subjects.values():\n",
    "            total += subject.average_grade()\n",
    "            count += 1\n",
    "        return total / count\n",
    "\n",
    "\n",
    "# Example 14\n",
    "class Gradebook:\n",
    "    def __init__(self):\n",
    "        self._students = defaultdict(Student)\n",
    "\n",
    "    def get_student(self, name):\n",
    "        return self._students[name]\n",
    "\n",
    "\n",
    "# Example 15\n",
    "book = Gradebook() #have default dict to hold Student with key is string (name) and values is Student class\n",
    "albert = book.get_student('Albert Einstein') #return Student object. Student have defaultdict(Subject)\n",
    "math = albert.get_subject('Math') # return Subject object. Subject which have a list of Grades\n",
    "math.report_grade(75, 0.05)\n",
    "math.report_grade(65, 0.15)\n",
    "math.report_grade(70, 0.80)\n",
    "gym = albert.get_subject('Gym')\n",
    "gym.report_grade(100, 0.40)\n",
    "gym.report_grade(85, 0.60)\n",
    "print(albert.average_grade())"
   ]
  }
 ],
 "metadata": {
  "language_info": {
   "name": "python"
  },
  "orig_nbformat": 4
 },
 "nbformat": 4,
 "nbformat_minor": 2
}
