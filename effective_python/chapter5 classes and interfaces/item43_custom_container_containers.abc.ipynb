{
 "cells": [
  {
   "cell_type": "markdown",
   "metadata": {},
   "source": [
    "#### Design Custom Container class which inheritance from containers.abc\n",
    "- container.abc is a collection of build in container class in python\n",
    "- we can use some class as a building block for your custom container\n",
    "- collections.abc is a collection of Container class in python. abc is present for Abstract Base Class \n",
    "- reference for containers.abc: https://docs.python.org/3/library/collections.abc.html\n",
    "- in reading example, we build BetterNode class which use SequenceNode and Sequence class from collections.abc"
   ]
  }
 ],
 "metadata": {
  "language_info": {
   "name": "python"
  },
  "orig_nbformat": 4
 },
 "nbformat": 4,
 "nbformat_minor": 2
}
