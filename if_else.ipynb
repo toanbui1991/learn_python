{
 "cells": [
  {
   "cell_type": "code",
   "execution_count": 2,
   "metadata": {},
   "outputs": [
    {
     "name": "stdout",
     "output_type": "stream",
     "text": [
      "0 is even\n",
      "1 is od\n",
      "2 is even\n",
      "3 is od\n",
      "4 is even\n",
      "5 is od\n",
      "6 is even\n",
      "7 is od\n",
      "8 is even\n",
      "9 is od\n"
     ]
    }
   ],
   "source": [
    "#key word for condition check in python if, else, elif with testing and logic operator with and , or\n",
    "#check element is even or odd.\n",
    "#range(stop) or range(start, stop, [step]) which step is optional\n",
    "for i in range(10):\n",
    "    if i % 2 == 0:\n",
    "        print('{i} is even'.format(**{'i': i}))\n",
    "    else:\n",
    "        print('{i} is odd'.format(**{'i': i}))"
   ]
  }
 ],
 "metadata": {
  "interpreter": {
   "hash": "e997c254a1f8079c5997e54e250cb3627d598fa1a1d92bf10438cfce758154e6"
  },
  "kernelspec": {
   "display_name": "Python 3.10.1 ('venv': venv)",
   "language": "python",
   "name": "python3"
  },
  "language_info": {
   "codemirror_mode": {
    "name": "ipython",
    "version": 3
   },
   "file_extension": ".py",
   "mimetype": "text/x-python",
   "name": "python",
   "nbconvert_exporter": "python",
   "pygments_lexer": "ipython3",
   "version": "3.10.1"
  },
  "orig_nbformat": 4
 },
 "nbformat": 4,
 "nbformat_minor": 2
}
