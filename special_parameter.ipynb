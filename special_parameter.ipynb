{
 "cells": [
  {
   "cell_type": "code",
   "execution_count": 1,
   "metadata": {},
   "outputs": [
    {
     "name": "stdout",
     "output_type": "stream",
     "text": [
      "one\n",
      "two\n",
      "three\n",
      "four\n"
     ]
    }
   ],
   "source": [
    "#in this reading, we take note about *args, **kwargs\n",
    "def func_one(*args):\n",
    "    for e in args:\n",
    "        print(e) \n",
    "\n",
    "func_one('one', 'two', 'three', 'four')"
   ]
  },
  {
   "cell_type": "code",
   "execution_count": 2,
   "metadata": {},
   "outputs": [
    {
     "name": "stdout",
     "output_type": "stream",
     "text": [
      "key: one, value: 1\n",
      "key: two, value: 2\n",
      "key: three, value: 3\n"
     ]
    }
   ],
   "source": [
    "def func_two(**kwargs):\n",
    "    for k, v in kwargs.items():\n",
    "        print('key: {}, value: {}'.format(k, v))\n",
    "\n",
    "data = {\"one\": 1, \"two\": 2, \"three\": 3}\n",
    "func_two(**data)"
   ]
  }
 ],
 "metadata": {
  "interpreter": {
   "hash": "e997c254a1f8079c5997e54e250cb3627d598fa1a1d92bf10438cfce758154e6"
  },
  "kernelspec": {
   "display_name": "Python 3.10.1 ('venv': venv)",
   "language": "python",
   "name": "python3"
  },
  "language_info": {
   "codemirror_mode": {
    "name": "ipython",
    "version": 3
   },
   "file_extension": ".py",
   "mimetype": "text/x-python",
   "name": "python",
   "nbconvert_exporter": "python",
   "pygments_lexer": "ipython3",
   "version": "3.10.1"
  },
  "orig_nbformat": 4
 },
 "nbformat": 4,
 "nbformat_minor": 2
}
