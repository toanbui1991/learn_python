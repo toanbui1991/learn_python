{
 "cells": [
  {
   "cell_type": "code",
   "execution_count": 7,
   "metadata": {},
   "outputs": [
    {
     "name": "stdout",
     "output_type": "stream",
     "text": [
      "       0                                                  1  2\n",
      "0  01581  Westboro                                      ...  1\n",
      "1  01730  Bedford                                       ...  1\n",
      "2  01833  Georgetow                                     ...  1\n",
      "3  02116  Boston                                        ...  1\n",
      "4  02139  Cambridge                                     ...  1\n"
     ]
    }
   ],
   "source": [
    "#python backage to handle postgres, mysql, sqlserver\n",
    "#mysql use package: mysqlcient\n",
    "import MySQLdb\n",
    "from config import config\n",
    "import pandas as pd\n",
    "mysql_config = config.get('MYSQL_DB')\n",
    "con= MySQLdb.connect(**mysql_config) #return Connection object\n",
    "query = \"\"\"SELECT * FROM northwind.Territories;\"\"\"\n",
    "cursor = con.cursor() #Connection.cursor() return Cursor object\n",
    "try: \n",
    "    cursor.execute(query)\n",
    "    # cursor.fetchone() # return tuple\n",
    "    # cursor.fetchmany(5) # return tuple of tuple\n",
    "    data = cursor.fetchall() # return tuple of tuple\n",
    "    con.commit()\n",
    "except Exception as e:\n",
    "    print('Error: ', e)\n",
    "    con.rollback()\n",
    "data = pd.DataFrame(data)\n",
    "print(data[:5])\n"
   ]
  },
  {
   "cell_type": "code",
   "execution_count": 3,
   "metadata": {},
   "outputs": [
    {
     "name": "stdout",
     "output_type": "stream",
     "text": [
      "   0               1                                                  2   3\n",
      "0  1       Beverages        Soft drinks, coffees, teas, beers, and ales  []\n",
      "1  2      Condiments  Sweet and savory sauces, relishes, spreads, an...  []\n",
      "2  3     Confections                Desserts, candies, and sweet breads  []\n",
      "3  4  Dairy Products                                            Cheeses  []\n",
      "4  5  Grains/Cereals                Breads, crackers, pasta, and cereal  []\n"
     ]
    }
   ],
   "source": [
    "#Test postgres container,\n",
    "#functions: cursor.execute(query, params), cursor.executemany(query, params)\n",
    "import psycopg2\n",
    "import pandas as pd\n",
    "connection_config = {'host': 'localhost', 'port': '5433', 'user': 'postgres', 'password': 'Buixuantoan@916263'}\n",
    "connection = psycopg2.connect(**connection_config)\n",
    "cursor = connection.cursor()\n",
    "query = \"\"\"SELECT * FROM public.categories\"\"\"\n",
    "try: \n",
    "    cursor.execute(query)\n",
    "    # cursor.fetchone() #return  tuple\n",
    "    data = cursor.fetchmany(5) #return list of tuples\n",
    "    # cursor.fetchall() #return list of tuples\n",
    "except Exception as error:\n",
    "    connection.rollback()\n",
    "    print('Error: ', error)\n",
    "data = pd.DataFrame(data)\n",
    "print(data)"
   ]
  },
  {
   "cell_type": "code",
   "execution_count": null,
   "metadata": {},
   "outputs": [],
   "source": [
    "#test with sql server with package pymssql instead of pydboc because pymssql use standard python interface instead of pyodbc\n",
    "import pymssql\n",
    "\n",
    "con_config = {'host': 'localhost', 'port': 1433, 'user': 'sa', 'password': 'Buixuantoan@916263', 'database': 'Northwind'}\n",
    "con = pymssql.connect(**con_config)\n",
    "cursor = con.cursor()\n",
    "query = \"\"\"SELECT * FROM dbo.Categories\"\"\"\n",
    "try:\n",
    "    cursor.execute(query)\n",
    "    data = cursor.fetchmany()"
   ]
  }
 ],
 "metadata": {
  "interpreter": {
   "hash": "e997c254a1f8079c5997e54e250cb3627d598fa1a1d92bf10438cfce758154e6"
  },
  "kernelspec": {
   "display_name": "Python 3.10.1 ('venv': venv)",
   "language": "python",
   "name": "python3"
  },
  "language_info": {
   "codemirror_mode": {
    "name": "ipython",
    "version": 3
   },
   "file_extension": ".py",
   "mimetype": "text/x-python",
   "name": "python",
   "nbconvert_exporter": "python",
   "pygments_lexer": "ipython3",
   "version": "3.10.1"
  },
  "orig_nbformat": 4
 },
 "nbformat": 4,
 "nbformat_minor": 2
}
