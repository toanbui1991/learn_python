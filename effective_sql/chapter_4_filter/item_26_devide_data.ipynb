{
 "cells": [
  {
   "cell_type": "markdown",
   "metadata": {},
   "source": [
    "**Divide your data in sql:**\n",
    "- problem: find customer who have bougt all product in a product set.\n",
    "- solution:\n",
    "  - one: find distinct combination of customer and product which have been bought by that person.\n",
    "  - two: find set of products of interest\n",
    "  - three: join between one and two on product and group by customer to count number of product which have been bought by customer. compare result with the number of product in the set to get customer who have bought all product in the set."
   ]
  },
  {
   "cell_type": "markdown",
   "metadata": {},
   "source": [
    "**Why join and group by technique work:**\n",
    "- join on product and then group by customer and count(product) will return the number of product which have been bought by customer\n",
    "- cross join with where key is equal with inner join on key"
   ]
  }
 ],
 "metadata": {
  "kernelspec": {
   "display_name": "Python 3.8.10 ('venv': venv)",
   "language": "python",
   "name": "python3"
  },
  "language_info": {
   "name": "python",
   "version": "3.8.10"
  },
  "orig_nbformat": 4,
  "vscode": {
   "interpreter": {
    "hash": "0acef43dc5f76a2ed31147fd429dfe8c79ee15b3b02be3263c02dc60771e7f23"
   }
  }
 },
 "nbformat": 4,
 "nbformat_minor": 2
}
