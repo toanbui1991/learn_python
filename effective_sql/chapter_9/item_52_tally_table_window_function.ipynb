{
 "cells": [
  {
   "cell_type": "markdown",
   "metadata": {},
   "source": [
    "**Tally table in sql:**\n",
    "- tally table is just sequence of of index start from 1"
   ]
  }
 ],
 "metadata": {
  "language_info": {
   "name": "python"
  },
  "orig_nbformat": 4
 },
 "nbformat": 4,
 "nbformat_minor": 2
}
