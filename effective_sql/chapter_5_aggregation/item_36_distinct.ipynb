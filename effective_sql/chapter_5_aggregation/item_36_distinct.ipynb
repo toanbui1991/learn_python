{
 "cells": [
  {
   "cell_type": "markdown",
   "metadata": {},
   "source": [
    "**Item 36 Using distinct:**\n",
    "- count(*): count number of row include null value\n",
    "- count(expression): count number of non-null value\n",
    "- count(distict expression): count unique and non-null value"
   ]
  }
 ],
 "metadata": {
  "language_info": {
   "name": "python"
  },
  "orig_nbformat": 4
 },
 "nbformat": 4,
 "nbformat_minor": 2
}
