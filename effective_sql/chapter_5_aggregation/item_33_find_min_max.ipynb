{
 "cells": [
  {
   "cell_type": "markdown",
   "metadata": {},
   "source": [
    "**Item 33 find min, max without group by:**\n",
    "- one solution is to aggregate to find min or max item in cte or subquer. and then filter in to get full information about that item \n",
    "- second solution is left join of the same table with on l.category = r.category and l.col < r.col where l.col is Null to find max row. Or find the left col which can not smaller (max)\n",
    "- in case of min left join l.category = r.category and l.col > r.col where l.col is NUl. Or find lef col which can not larger (min) "
   ]
  }
 ],
 "metadata": {
  "kernelspec": {
   "display_name": "Python 3.8.10 ('venv': venv)",
   "language": "python",
   "name": "python3"
  },
  "language_info": {
   "name": "python",
   "version": "3.8.10"
  },
  "orig_nbformat": 4,
  "vscode": {
   "interpreter": {
    "hash": "0acef43dc5f76a2ed31147fd429dfe8c79ee15b3b02be3263c02dc60771e7f23"
   }
  }
 },
 "nbformat": 4,
 "nbformat_minor": 2
}
