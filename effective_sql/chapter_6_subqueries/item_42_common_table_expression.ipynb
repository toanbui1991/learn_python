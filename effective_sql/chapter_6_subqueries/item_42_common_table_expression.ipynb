{
 "cells": [
  {
   "cell_type": "markdown",
   "metadata": {},
   "source": [
    "**common table expression in sql:**\n",
    "- common table expression is a syntax to write derived table. it is cleaner than subquery\n",
    "- syntax: with cte_name as (definition expression)"
   ]
  }
 ],
 "metadata": {
  "language_info": {
   "name": "python"
  },
  "orig_nbformat": 4
 },
 "nbformat": 4,
 "nbformat_minor": 2
}
