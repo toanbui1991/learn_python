{
 "cells": [
  {
   "cell_type": "markdown",
   "metadata": {},
   "source": [
    "**Summary on private vs public vs protected:**\n",
    "- self.public_attr, self._protected_attr, self.__private_attr. so protected with on leading underscore while private have two leading underscore\n",
    "- public and protected attribute is the same but with one leading underscore it reminde you that this attribute is protected so that prevent undesize change value\n",
    "- private attribute can not access from instance of the current class\n"
   ]
  },
  {
   "cell_type": "markdown",
   "metadata": {},
   "source": []
  }
 ],
 "metadata": {
  "interpreter": {
   "hash": "e997c254a1f8079c5997e54e250cb3627d598fa1a1d92bf10438cfce758154e6"
  },
  "kernelspec": {
   "display_name": "Python 3.10.1 ('venv': venv)",
   "language": "python",
   "name": "python3"
  },
  "language_info": {
   "name": "python",
   "version": "3.10.1"
  },
  "orig_nbformat": 4
 },
 "nbformat": 4,
 "nbformat_minor": 2
}
