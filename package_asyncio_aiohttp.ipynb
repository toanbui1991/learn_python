{
 "cells": [
  {
   "cell_type": "code",
   "execution_count": null,
   "metadata": {},
   "outputs": [],
   "source": [
    "import asyncio\n",
    "from time import perf_counter\n",
    "\n",
    "import aiohttp\n",
    "\n",
    "\n",
    "#step one: define your single task\n",
    "async def fetch(s, url):\n",
    "    async with s.get(f'http://127.0.0.1:8000/items/{url}') as r:\n",
    "        if r.status != 200:\n",
    "            r.raise_for_status()\n",
    "        return await r.text()\n",
    "\n",
    "#step 2: create a list of task with method asyncio.create_task(func), tasks = [], tasks.append(task), asyncio.gather(*tasks)\n",
    "async def fetch_all(s, urls):\n",
    "    \"\"\"_summary_\n",
    "\n",
    "    Args:\n",
    "        s (Session): aiohttp.ClientSession() object\n",
    "        urls (list): list of urls string\n",
    "\n",
    "    Returns:\n",
    "        str: text response from http request\n",
    "    \"\"\"\n",
    "    tasks = []\n",
    "    for url in urls:\n",
    "        # a single task, with method asyncio.create_task()\n",
    "        task = asyncio.create_task(fetch(s, url))\n",
    "        tasks.append(task)\n",
    "    res = await asyncio.gather(*tasks)\n",
    "    return res\n",
    "\n",
    "\n",
    "async def main():\n",
    "    urls = range(1, 25000)\n",
    "    async with aiohttp.ClientSession() as session:\n",
    "        htmls = await fetch_all(session, urls)\n",
    "        print(htmls)\n",
    "\n",
    "\n",
    "if __name__ == '__main__':\n",
    "    start = perf_counter()\n",
    "    asyncio.run(main())\n",
    "    stop = perf_counter()\n",
    "    print(\"time taken:\", stop - start)\n",
    "    # time taken: 14.692326207994483"
   ]
  },
  {
   "cell_type": "markdown",
   "metadata": {},
   "source": [
    "**Summary:**\n",
    "- aiohttp supply you with: async with aiohttp.ClientSession() as session:\n",
    "- aiohttp.ClientSession() have methods like: request, get, post, put, delete, head, options, patch\n",
    "- aysncio supply you with method: asyncio.create_task(func), asyncio.gather(*task), asyncio.run(main_func)\n",
    "- aysnc programming application: one of the importance application is when multiple http request to server as the almost the same time, async code will not request almost as the same time instead of waiting for response to continue process."
   ]
  }
 ],
 "metadata": {
  "language_info": {
   "name": "python"
  },
  "orig_nbformat": 4
 },
 "nbformat": 4,
 "nbformat_minor": 2
}
