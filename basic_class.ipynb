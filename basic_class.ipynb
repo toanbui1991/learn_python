{
 "cells": [
  {
   "cell_type": "code",
   "execution_count": 6,
   "metadata": {},
   "outputs": [
    {
     "name": "stdout",
     "output_type": "stream",
     "text": [
      "ther persion is John with age is 31\n",
      "Hi, my name is John!\n",
      "john new age: 40\n"
     ]
    },
    {
     "ename": "AttributeError",
     "evalue": "'Person' object has no attribute 'age'",
     "output_type": "error",
     "traceback": [
      "\u001b[1;31m---------------------------------------------------------------------------\u001b[0m",
      "\u001b[1;31mAttributeError\u001b[0m                            Traceback (most recent call last)",
      "\u001b[1;32mc:\\Users\\buixu\\Toan\\python_projects\\learn_python\\basic_class.ipynb Cell 1'\u001b[0m in \u001b[0;36m<cell line: 28>\u001b[1;34m()\u001b[0m\n\u001b[0;32m     <a href='vscode-notebook-cell:/c%3A/Users/buixu/Toan/python_projects/learn_python/basic_class.ipynb#ch0000000?line=25'>26</a>\u001b[0m \u001b[39m#delete class attributes:\u001b[39;00m\n\u001b[0;32m     <a href='vscode-notebook-cell:/c%3A/Users/buixu/Toan/python_projects/learn_python/basic_class.ipynb#ch0000000?line=26'>27</a>\u001b[0m \u001b[39mdel\u001b[39;00m john\u001b[39m.\u001b[39mage\n\u001b[1;32m---> <a href='vscode-notebook-cell:/c%3A/Users/buixu/Toan/python_projects/learn_python/basic_class.ipynb#ch0000000?line=27'>28</a>\u001b[0m \u001b[39mprint\u001b[39m(\u001b[39m'\u001b[39m\u001b[39mjohn after del age: \u001b[39m\u001b[39m'\u001b[39m, john\u001b[39m.\u001b[39;49mage)\n",
      "\u001b[1;31mAttributeError\u001b[0m: 'Person' object has no attribute 'age'"
     ]
    }
   ],
   "source": [
    "#class with __init__ method:\n",
    "# __init__(): is the method to be called when create instance of a class\n",
    "# instance or object method: is the method can call from an instance\n",
    "# self parameter: self parameter reference to the current instance. therefore you can call self.attr or self.method()\n",
    "class Person():\n",
    "\n",
    "    def __init__(self, name, age):\n",
    "        \"\"\"assign value to instace attribute\n",
    "\n",
    "        Args:\n",
    "            name (str): person name\n",
    "            age (int): person age\n",
    "        \"\"\"\n",
    "        self.name = name\n",
    "        self.age = age\n",
    "\n",
    "    def say_hello(self):\n",
    "        print('Hi, my name is {}!'.format(self.name))\n",
    "\n",
    "john = Person('John', 31)\n",
    "print('ther persion is {} with age is {}'.format(john.name, john.age))\n",
    "john.say_hello()\n",
    "#modify attribute:\n",
    "john.age = 40\n",
    "print('john new age: {}'.format(john.age))\n",
    "#delete class attributes:\n",
    "# del john.age\n",
    "# print('john after del age: ', john.age)"
   ]
  },
  {
   "cell_type": "code",
   "execution_count": null,
   "metadata": {},
   "outputs": [],
   "source": []
  }
 ],
 "metadata": {
  "interpreter": {
   "hash": "e997c254a1f8079c5997e54e250cb3627d598fa1a1d92bf10438cfce758154e6"
  },
  "kernelspec": {
   "display_name": "Python 3.10.1 ('venv': venv)",
   "language": "python",
   "name": "python3"
  },
  "language_info": {
   "codemirror_mode": {
    "name": "ipython",
    "version": 3
   },
   "file_extension": ".py",
   "mimetype": "text/x-python",
   "name": "python",
   "nbconvert_exporter": "python",
   "pygments_lexer": "ipython3",
   "version": "3.10.1"
  },
  "orig_nbformat": 4
 },
 "nbformat": 4,
 "nbformat_minor": 2
}
