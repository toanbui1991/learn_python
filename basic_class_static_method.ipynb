{
 "cells": [
  {
   "cell_type": "code",
   "execution_count": 3,
   "metadata": {},
   "outputs": [],
   "source": [
    "class PizzaClassMethod:\n",
    "    def __init__(self, ingredients):\n",
    "        self.ingredients = ingredients\n",
    "\n",
    "    def __repr__(self):\n",
    "        return f'Pizza({self.ingredients!r})'\n",
    "\n",
    "    @classmethod\n",
    "    def margherita(cls):\n",
    "        return cls(['mozzarella', 'tomatoes'])\n",
    "\n",
    "    @classmethod\n",
    "    def prosciutto(cls):\n",
    "        return cls(['mozzarella', 'tomatoes', 'ham'])"
   ]
  },
  {
   "cell_type": "code",
   "execution_count": 4,
   "metadata": {},
   "outputs": [
    {
     "name": "stdout",
     "output_type": "stream",
     "text": [
      "margherita_pizza:  Pizza(['mozzarella', 'tomatoes'])\n",
      "prosciutto_pizza:  Pizza(['mozzarella', 'tomatoes', 'ham'])\n"
     ]
    }
   ],
   "source": [
    "#Note about class method with decorator @classmethod\n",
    "# definition: class method is method which take cls (instance constructor as input parameter) and class method return istance of the object class\n",
    "# to cls will execute init and return instance of object class\n",
    "\n",
    "#Note about call class method:\n",
    "margherita_pizza = PizzaClassMethod.margherita()\n",
    "prosciutto_pizza = PizzaClassMethod.prosciutto()\n",
    "print(\"margherita_pizza: \", margherita_pizza)\n",
    "print('prosciutto_pizza: ', prosciutto_pizza)"
   ]
  },
  {
   "cell_type": "code",
   "execution_count": 5,
   "metadata": {},
   "outputs": [],
   "source": [
    "import math\n",
    "class PizzaStaticMethod:\n",
    "    def __init__(self, radius, ingredients):\n",
    "        self.radius = radius\n",
    "        self.ingredients = ingredients\n",
    "\n",
    "    def __repr__(self):\n",
    "        return (f'Pizza({self.radius!r}, '\n",
    "                f'{self.ingredients!r})')\n",
    "\n",
    "    def area(self):\n",
    "        return self.circle_area(self.radius)\n",
    "\n",
    "    @staticmethod\n",
    "    def circle_area(r):\n",
    "        return r ** 2 * math.pi"
   ]
  },
  {
   "cell_type": "code",
   "execution_count": 6,
   "metadata": {},
   "outputs": [
    {
     "data": {
      "text/plain": [
       "50.26548245743669"
      ]
     },
     "execution_count": 6,
     "metadata": {},
     "output_type": "execute_result"
    }
   ],
   "source": [
    "#Note about static method:\n",
    "#definition: static method with @staticmethod, is method which do not take self, or cls as input parameter\n",
    "\n",
    "#static method is also call from Class\n",
    "p = PizzaStaticMethod(4, ['mozzarella', 'tomatoes'])\n",
    "print(p.area()) #call normal method\n",
    "print(PizzaStaticMethod.circle_area(4)) #call static method"
   ]
  }
 ],
 "metadata": {
  "kernelspec": {
   "display_name": "Python 3.8.10 ('venv': venv)",
   "language": "python",
   "name": "python3"
  },
  "language_info": {
   "codemirror_mode": {
    "name": "ipython",
    "version": 3
   },
   "file_extension": ".py",
   "mimetype": "text/x-python",
   "name": "python",
   "nbconvert_exporter": "python",
   "pygments_lexer": "ipython3",
   "version": "3.8.10"
  },
  "orig_nbformat": 4,
  "vscode": {
   "interpreter": {
    "hash": "0acef43dc5f76a2ed31147fd429dfe8c79ee15b3b02be3263c02dc60771e7f23"
   }
  }
 },
 "nbformat": 4,
 "nbformat_minor": 2
}
