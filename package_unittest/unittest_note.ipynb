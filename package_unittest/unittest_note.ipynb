{
 "cells": [
  {
   "cell_type": "markdown",
   "metadata": {},
   "source": [
    "**Note about using unittest package to write your unit test**\n",
    "- unittest package is used to write unit test in python\n",
    "- we use class unittest.TestCase to write test case. We will class which inheritanat from unitTest.TestCase\n",
    "- each test case is a method which start with test\n",
    "- TestCase class have method setUp and tearDown. \n",
    "- setUp method will run before each test case to repare resource. define setUp will reduce code if we have multiple test case use the same resource\n",
    "- tearDown is the metho will run every time after test case finished. tearDown method is useful when we need to clean up everytime after test run"
   ]
  }
 ],
 "metadata": {
  "language_info": {
   "name": "python"
  },
  "orig_nbformat": 4
 },
 "nbformat": 4,
 "nbformat_minor": 2
}
