{
 "cells": [
  {
   "cell_type": "markdown",
   "metadata": {},
   "source": [
    "*Note about groupadd unix command line:*\n",
    "- syntax: groupadd [option] group_name\n",
    "- example: groupadd -gid 999 docker. which means create new group with name docker and id is 999.\n",
    "- user note: root user with id is 0, system user with id (1-999)\n",
    "- check group with command: sudo tail /etc/group\n"
   ]
  },
  {
   "cell_type": "markdown",
   "metadata": {},
   "source": [
    "*Note about usermod and useradd command:*\n",
    "- useradd to create new user\n",
    "- syntax: useradd [option] user_name\n",
    "- example: useradd -g docker toanbui1991. which means create user toanbui1991 and add\n",
    "- user and password is store at: /etc/passwd\n",
    "- get user information with command: sudo cat /etc/passwd | grep username"
   ]
  }
 ],
 "metadata": {
  "interpreter": {
   "hash": "0eb1dc9052a21e9498837ed386e9c252a7a192ae64eed4115f5d5bc62010b23f"
  },
  "kernelspec": {
   "display_name": "Python 3.10.4 ('venv': venv)",
   "language": "python",
   "name": "python3"
  },
  "language_info": {
   "codemirror_mode": {
    "name": "ipython",
    "version": 3
   },
   "file_extension": ".py",
   "mimetype": "text/x-python",
   "name": "python",
   "nbconvert_exporter": "python",
   "pygments_lexer": "ipython3",
   "version": "3.10.4"
  },
  "orig_nbformat": 4
 },
 "nbformat": 4,
 "nbformat_minor": 2
}
