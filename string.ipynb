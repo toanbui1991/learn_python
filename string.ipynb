{
 "cells": [
  {
   "cell_type": "code",
   "execution_count": 3,
   "metadata": {},
   "outputs": [
    {
     "name": "stdout",
     "output_type": "stream",
     "text": [
      "toanbui1991 age is 31 and his or her job is software developer\n",
      "toanbui1991 age is 31 and his or her job is sofware developer\n"
     ]
    }
   ],
   "source": [
    "#there are many string format in python with f string, string interpolation with \n",
    "name, age, job = 'toanbui1991', 31, 'software developer'\n",
    "data = ['toanbui1991', 31, 'sofware developer']\n",
    "print('{} age is {} and his or her job is {}'.format(name, age, job))\n",
    "print('{} age is {} and his or her job is {}'.format(*data))"
   ]
  },
  {
   "cell_type": "code",
   "execution_count": 2,
   "metadata": {},
   "outputs": [
    {
     "name": "stdout",
     "output_type": "stream",
     "text": [
      "toanbui1991 age is 31 and his or here job is software development\n"
     ]
    }
   ],
   "source": [
    "data = {'name': 'toanbui1991', 'age': 31, 'job': 'software development'}\n",
    "print('{name} age is {age} and his or here job is {job}'.format(**data))"
   ]
  },
  {
   "cell_type": "code",
   "execution_count": 1,
   "metadata": {},
   "outputs": [
    {
     "name": "stdout",
     "output_type": "stream",
     "text": [
      "this is test string 6, 10\n",
      "this is test string 6, 10\n"
     ]
    }
   ],
   "source": [
    "test_string = 'this is test string {}, {}'.format(3*2, 5*2)\n",
    "print(test_string)\n",
    "#format function work better for me. So alway use format function to format string\n",
    "test_string = f'this is test string {3*2}, {5*2}'\n",
    "print(test_string)"
   ]
  },
  {
   "cell_type": "code",
   "execution_count": 2,
   "metadata": {},
   "outputs": [
    {
     "name": "stdout",
     "output_type": "stream",
     "text": [
      "config one: 1, config two: 2\n",
      "config one: 1, config two: 2\n"
     ]
    }
   ],
   "source": [
    "config = {'one': 1, 'two': 2}\n",
    "print('config one: {one}, config two: {two}'.format(**config))\n",
    "print(f\"config one: {config.get('one')}, config two: {config.get('two')}\")"
   ]
  },
  {
   "cell_type": "code",
   "execution_count": 4,
   "metadata": {},
   "outputs": [
    {
     "name": "stdout",
     "output_type": "stream",
     "text": [
      "[1, 2, 3, 4, 5, 6, 7, 8, 9]\n"
     ]
    }
   ],
   "source": [
    "matrix = [[1, 2, 3], [4, 5, 6], [7, 8, 9]]\n",
    "flat = [x for row in matrix for x in row]\n",
    "print(flat)"
   ]
  },
  {
   "cell_type": "code",
   "execution_count": 6,
   "metadata": {},
   "outputs": [
    {
     "name": "stdout",
     "output_type": "stream",
     "text": [
      "[13, 15]\n"
     ]
    }
   ],
   "source": []
  },
  {
   "cell_type": "markdown",
   "metadata": {},
   "source": [
    "**use format method:** becaue format() allow to unpacking with list and dict. it also allow calculate and avoid error. f String is easy to get error between single vs double quote "
   ]
  }
 ],
 "metadata": {
  "interpreter": {
   "hash": "e997c254a1f8079c5997e54e250cb3627d598fa1a1d92bf10438cfce758154e6"
  },
  "kernelspec": {
   "display_name": "Python 3.10.1 ('venv': venv)",
   "language": "python",
   "name": "python3"
  },
  "language_info": {
   "codemirror_mode": {
    "name": "ipython",
    "version": 3
   },
   "file_extension": ".py",
   "mimetype": "text/x-python",
   "name": "python",
   "nbconvert_exporter": "python",
   "pygments_lexer": "ipython3",
   "version": "3.10.1"
  },
  "orig_nbformat": 4
 },
 "nbformat": 4,
 "nbformat_minor": 2
}
