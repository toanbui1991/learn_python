{
 "cells": [
  {
   "cell_type": "code",
   "execution_count": 7,
   "metadata": {},
   "outputs": [
    {
     "name": "stdout",
     "output_type": "stream",
     "text": [
      "start:  560214.8406234\n",
      "stop:  560215.3507287\n",
      "take time: 0.5101052999962121\n"
     ]
    }
   ],
   "source": [
    "from time import perf_counter\n",
    "start = perf_counter()\n",
    "data = [x for x in range(10**7)]\n",
    "stop = perf_counter()\n",
    "print('start: ', start)\n",
    "print('stop: ', stop)\n",
    "print('take time: {}'.format(stop - start))"
   ]
  },
  {
   "cell_type": "code",
   "execution_count": 8,
   "metadata": {},
   "outputs": [
    {
     "name": "stdout",
     "output_type": "stream",
     "text": [
      "start:  1649989593.7743552\n",
      "stop:  1649989594.2826672\n",
      "take time 0.5083119869232178\n"
     ]
    }
   ],
   "source": [
    "from time import time\n",
    "start = time()\n",
    "data = [x for x in range(10**7)]\n",
    "stop = time()\n",
    "print('start: ', start)\n",
    "print('stop: ', stop)\n",
    "print('take time {}'.format(stop - start))"
   ]
  },
  {
   "cell_type": "markdown",
   "metadata": {},
   "source": [
    "**Summary:**\n",
    "- to measure execution time of a script we can use time package with method like perf_counter(), and time()"
   ]
  }
 ],
 "metadata": {
  "interpreter": {
   "hash": "e997c254a1f8079c5997e54e250cb3627d598fa1a1d92bf10438cfce758154e6"
  },
  "kernelspec": {
   "display_name": "Python 3.10.1 ('venv': venv)",
   "language": "python",
   "name": "python3"
  },
  "language_info": {
   "codemirror_mode": {
    "name": "ipython",
    "version": 3
   },
   "file_extension": ".py",
   "mimetype": "text/x-python",
   "name": "python",
   "nbconvert_exporter": "python",
   "pygments_lexer": "ipython3",
   "version": "3.10.1"
  },
  "orig_nbformat": 4
 },
 "nbformat": 4,
 "nbformat_minor": 2
}
