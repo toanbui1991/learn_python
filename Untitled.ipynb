{
 "cells": [
  {
   "cell_type": "markdown",
   "id": "1b09b747-308f-44fb-a541-6bd842b1a94b",
   "metadata": {},
   "source": [
    "**this is bold text**\n",
    "this is bold text\n",
    "# heading \n",
    "# title\n"
   ]
  },
  {
   "cell_type": "code",
   "execution_count": 1,
   "id": "5860921d-5dab-439f-b990-7bc54492b104",
   "metadata": {},
   "outputs": [
    {
     "name": "stdout",
     "output_type": "stream",
     "text": [
      "chord result test: 90\n"
     ]
    }
   ],
   "source": [
    "test = [i + i for i in range(10)]\n",
    "print('chord result test: {}'.format(sum(test)))"
   ]
  }
 ],
 "metadata": {
  "kernelspec": {
   "display_name": "Python 3 (ipykernel)",
   "language": "python",
   "name": "python3"
  },
  "language_info": {
   "codemirror_mode": {
    "name": "ipython",
    "version": 3
   },
   "file_extension": ".py",
   "mimetype": "text/x-python",
   "name": "python",
   "nbconvert_exporter": "python",
   "pygments_lexer": "ipython3",
   "version": "3.8.10"
  }
 },
 "nbformat": 4,
 "nbformat_minor": 5
}
