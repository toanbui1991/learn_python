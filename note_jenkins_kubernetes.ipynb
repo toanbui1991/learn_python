{
 "cells": [
  {
   "cell_type": "code",
   "execution_count": null,
   "metadata": {},
   "outputs": [],
   "source": [
    "#note about how to use jenkins to automate task in google clouds\n",
    "#this note is follow this link: https://dareplanet.tech/en/insights/how-to-configure-jenkins-with-google-cloud-platform/\n",
    "\n",
    "#create service account\n",
    "gcloud iam service-accounts create jenkins-gcegcloud iam service-accounts create jenkins-gce\n",
    "\n",
    "#get project name with command:\n",
    "gcloud info --format='value(config.project)'\n",
    "#get service account email given service account name\n",
    "gcloud iam service-accounts list --filter=\"name:jenkins-gce\" --format='value(email)'\n",
    "#add roles (compute.instanceAdmin, compute.networkAdmin, iam.serviceAccountUser) with\n",
    "#command: gcloud projects add-iam-policy-binding\n",
    "gcloud projects add-iam-policy-binding --member serviceAccount:$SA_EMAIL \\\n",
    " --role roles/compute.instanceAdmin $PROJECT\n",
    "gcloud projects add-iam-policy-binding --member serviceAccount:$SA_EMAIL \\\n",
    " --role roles/compute.networkAdmin $PROJECT\n",
    "gcloud projects add-iam-policy-binding --member serviceAccount:$SA_EMAIL \\\n",
    " --role roles/iam.serviceAccountUser $PROJECT\n",
    "#get project iam policy\n",
    "gcloud projects get-iam-policy $PROJECT"
   ]
  },
  {
   "cell_type": "code",
   "execution_count": 3,
   "metadata": {},
   "outputs": [
    {
     "name": "stdout",
     "output_type": "stream",
     "text": [
      "\u001b[1;31mERROR:\u001b[0m (gcloud.iam.service-accounts.list) unrecognized arguments: ! \n",
      "\n",
      "To search the help text of gcloud commands, run:\n",
      "  gcloud help -- SEARCH_TERMS\n",
      "\u001b[1;31mERROR:\u001b[0m (gcloud.projects.add-iam-policy-binding) INVALID_ARGUMENT: Request contains an invalid argument.\n",
      "\u001b[1;31mERROR:\u001b[0m (gcloud.projects.add-iam-policy-binding) INVALID_ARGUMENT: Request contains an invalid argument.\n",
      "\u001b[1;31mERROR:\u001b[0m (gcloud.projects.add-iam-policy-binding) INVALID_ARGUMENT: Request contains an invalid argument.\n",
      "\u001b[1;31mERROR:\u001b[0m (gcloud.projects.get-iam-policy) argument PROJECT_ID_OR_NUMBER: Must be specified.\n",
      "Usage: gcloud projects get-iam-policy PROJECT_ID_OR_NUMBER [optional flags]\n",
      "  optional flags may be  --filter | --help | --limit | --page-size | --sort-by\n",
      "\n",
      "For detailed information on this command and its flags, run:\n",
      "  gcloud projects get-iam-policy --help\n"
     ]
    }
   ],
   "source": [
    "#ad jenkin plugin: \n",
    "# manage jenkins > system configuration > manage plugins\n",
    "\n",
    "#add credential\n",
    "# manage jenins > security > manage credentials > global > add credentails\n"
   ]
  }
 ],
 "metadata": {
  "interpreter": {
   "hash": "94ab0d9390ab1ff6f2c38e40a3fb8acdee6cb777ce7e2901c14ce8c42e6e70d5"
  },
  "kernelspec": {
   "display_name": "Python 3.8.10 ('venv': venv)",
   "language": "python",
   "name": "python3"
  },
  "language_info": {
   "codemirror_mode": {
    "name": "ipython",
    "version": 3
   },
   "file_extension": ".py",
   "mimetype": "text/x-python",
   "name": "python",
   "nbconvert_exporter": "python",
   "pygments_lexer": "ipython3",
   "version": "3.8.10"
  },
  "orig_nbformat": 4
 },
 "nbformat": 4,
 "nbformat_minor": 2
}
