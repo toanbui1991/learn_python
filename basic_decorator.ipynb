{
 "cells": [
  {
   "cell_type": "code",
   "execution_count": 1,
   "metadata": {},
   "outputs": [
    {
     "name": "stdout",
     "output_type": "stream",
     "text": [
      "HELLO\n",
      "HELLO\n"
     ]
    }
   ],
   "source": [
    "#Example of function as an object in python\n",
    "#in python function is just an object. when define a function, you also create an object. \n",
    "#we can also assign it to new variable and call it with new variable\n",
    "def shout(text):\n",
    "    return text.upper()\n",
    " \n",
    "print(shout('Hello'))\n",
    " \n",
    "yell = shout\n",
    " \n",
    "print(yell('Hello'))"
   ]
  },
  {
   "cell_type": "code",
   "execution_count": null,
   "metadata": {},
   "outputs": [],
   "source": [
    "\n",
    "#Example of function can be pass as an argument in python.\n",
    "#because function is just an object in python. You can pass function as an argument in other function.\n",
    "#in this example, greet can take argument func. and you can pass shout or shisper into greet.\n",
    "# Python program to illustrate functions\n",
    "# can be passed as arguments to other functions\n",
    "def shout(text):\n",
    "    return text.upper()\n",
    " \n",
    "def whisper(text):\n",
    "    return text.lower()\n",
    " \n",
    "def greet(func):\n",
    "    # storing the function in a variable\n",
    "    greeting = func(\"\"\"Hi, I am created by a function passed as an argument.\"\"\")\n",
    "    print (greeting)\n",
    " \n",
    "greet(shout)\n",
    "greet(whisper)"
   ]
  },
  {
   "cell_type": "code",
   "execution_count": 2,
   "metadata": {},
   "outputs": [
    {
     "name": "stdout",
     "output_type": "stream",
     "text": [
      "25\n"
     ]
    }
   ],
   "source": [
    "#Example of function whic return a function.\n",
    "#in this example, create_adder return adder, which is a function\n",
    "def create_adder(x):\n",
    "    def adder(y):\n",
    "        return x+y\n",
    " \n",
    "    return adder\n",
    "#return adder() function \n",
    "add_15 = create_adder(15)\n",
    "#pass 10 to add_15 \n",
    "print(add_15(10))"
   ]
  },
  {
   "cell_type": "code",
   "execution_count": 4,
   "metadata": {},
   "outputs": [
    {
     "name": "stdout",
     "output_type": "stream",
     "text": [
      "before Execution\n",
      "Inside the function\n",
      "after Execution\n",
      "Sum = 3\n"
     ]
    }
   ],
   "source": [
    "#example how to define python decorator:\n",
    "#what is python decorator? decorator is a function which take other functions as parameter\n",
    "#decorator use to modify the behavior of input function or input function is a smaller component of larger step you want to complete\n",
    "#In this example, we have a decorator hello_decorator which can support sum_two_numbers() function before and after that function execute.\n",
    "def hello_decorator(func):\n",
    "    def inner1(*args, **kwargs):\n",
    "         \n",
    "        print(\"before Execution\")\n",
    "         \n",
    "        # getting the returned value\n",
    "        returned_value = func(*args, **kwargs)\n",
    "        print(\"after Execution\")\n",
    "         \n",
    "        # returning the value to the original frame\n",
    "        return returned_value\n",
    "         \n",
    "    return inner1\n",
    " \n",
    " \n",
    "# adding decorator to the function\n",
    "@hello_decorator\n",
    "def sum_two_numbers(a, b):\n",
    "    print(\"Inside the function\")\n",
    "    return a + b\n",
    " \n",
    "a, b = 1, 2\n",
    " \n",
    "# getting the value through return of the function\n",
    "print(\"Sum =\", sum_two_numbers(a, b))"
   ]
  },
  {
   "cell_type": "code",
   "execution_count": 5,
   "metadata": {},
   "outputs": [
    {
     "name": "stdout",
     "output_type": "stream",
     "text": [
      "400\n"
     ]
    }
   ],
   "source": [
    "#why do we use decorator? because we want to change behavior of a function without write new one\n",
    "#in this case, we have num which return 10, but we want to call num but it have to 10 * 2= 20 and then 20*20=400\n",
    "#Example of effect of using multiple decorator in a function\n",
    "def decor1(func):\n",
    "    def inner():\n",
    "        x = func()\n",
    "        return x * x\n",
    "    return inner\n",
    " \n",
    "def decor(func):\n",
    "    def inner():\n",
    "        x = func()\n",
    "        return 2 * x\n",
    "    return inner\n",
    " \n",
    "@decor1\n",
    "@decor\n",
    "def num():\n",
    "    return 10\n",
    " \n",
    "print(num())"
   ]
  },
  {
   "cell_type": "code",
   "execution_count": null,
   "metadata": {},
   "outputs": [],
   "source": [
    "#Summary:\n",
    "    #decorator is a function which take other function as input parameter\n",
    "    #decorator is use to change the behavior of a function without write a new one. which means after apply decorator in a function, call it with the same name will have different behavior\n",
    "    "
   ]
  },
  {
   "cell_type": "code",
   "execution_count": 4,
   "metadata": {},
   "outputs": [
    {
     "name": "stdout",
     "output_type": "stream",
     "text": [
      "Decorator for 'stringJoin'\n",
      "Decorator for 'summation'\n",
      "\n",
      "stringJoin started ...\n",
      "I like Geeksforgeeks\n",
      "\n",
      "summation started ...\n",
      "1729\n"
     ]
    }
   ],
   "source": [
    "def decodecorator(dataType, message1, message2):\n",
    "    def decorator(fun):\n",
    "        print(message1) #this will get call first\n",
    "        def wrapper(*args, **kwargs):\n",
    "            print(message2) # this will get call last\n",
    "            if all([type(arg) == dataType for arg in args]):\n",
    "                return fun(*args, **kwargs) #this will get call second\n",
    "            return \"Invalid Input\"\n",
    "        return wrapper\n",
    "    return decorator\n",
    " \n",
    " \n",
    "@decodecorator(str, \"Decorator for 'stringJoin'\", \"stringJoin started ...\")\n",
    "def stringJoin(*args):\n",
    "    st = ''\n",
    "    for i in args:\n",
    "        st += i\n",
    "    return st\n",
    " \n",
    " \n",
    "@decodecorator(int, \"Decorator for 'summation'\\n\", \"summation started ...\")\n",
    "def summation(*args):\n",
    "    summ = 0\n",
    "    for arg in args:\n",
    "        summ += arg\n",
    "    return summ\n",
    " \n",
    "#this example is not a good strategy, because it call by layer, and not sequencial.\n",
    "#when we call two modified function. it call the first layer and then the function and and the second layer.\n",
    "#important: the call between two modified functions is by layer not by sequence\n",
    "print(stringJoin(\"I \", 'like ', \"Geeks\", 'for', \"geeks\"))\n",
    "print()\n",
    "print(summation(19, 2, 8, 533, 67, 981, 119))"
   ]
  }
 ],
 "metadata": {
  "kernelspec": {
   "display_name": "Python 3.8.10 ('venv': venv)",
   "language": "python",
   "name": "python3"
  },
  "language_info": {
   "codemirror_mode": {
    "name": "ipython",
    "version": 3
   },
   "file_extension": ".py",
   "mimetype": "text/x-python",
   "name": "python",
   "nbconvert_exporter": "python",
   "pygments_lexer": "ipython3",
   "version": "3.8.10"
  },
  "orig_nbformat": 4,
  "vscode": {
   "interpreter": {
    "hash": "0acef43dc5f76a2ed31147fd429dfe8c79ee15b3b02be3263c02dc60771e7f23"
   }
  }
 },
 "nbformat": 4,
 "nbformat_minor": 2
}
