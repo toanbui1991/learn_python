{
 "cells": [
  {
   "cell_type": "code",
   "execution_count": null,
   "metadata": {},
   "outputs": [],
   "source": [
    "#Note about how to write system logs with rsyslog\n",
    "\n",
    "#install with command\n",
    "sudo apt-get install --reinstall rsyslog\n",
    "#start the service with command\n",
    "sudo service rsyslog start\n",
    "sudo service rsyslog restart"
   ]
  },
  {
   "cell_type": "code",
   "execution_count": null,
   "metadata": {},
   "outputs": [],
   "source": [
    "#Note about cron service and crontab command\n",
    "#cron is a scheduler service in linux. while crontab is a command line tool for you to set schedule to execute script\n",
    "\n",
    "#to start cron service with account\n",
    "sudo service cron start/restart\n",
    "#to check status of the service use command:\n",
    "sudo service cron status\n",
    "\n",
    "#to schedule with crontab command line:\n",
    "crontab -e\n",
    "#to list crontab schedule with command:\n",
    "crontab -l\n",
    "#cron job execution will be log as /var/log/syslog. to have this files we have to have rsyslog service running\n",
    "#to view log of cron job run command\n",
    "grep 'cron\\|CRON' /var/log/syslog"
   ]
  }
 ],
 "metadata": {
  "language_info": {
   "name": "python"
  },
  "orig_nbformat": 4
 },
 "nbformat": 4,
 "nbformat_minor": 2
}
