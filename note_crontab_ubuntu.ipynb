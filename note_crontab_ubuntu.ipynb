{
 "cells": [
  {
   "cell_type": "code",
   "execution_count": null,
   "metadata": {},
   "outputs": [],
   "source": [
    "#Note about how to write system logs with rsyslog\n",
    "\n",
    "#install with command\n",
    "sudo apt-get install --reinstall rsyslog\n",
    "#start the service with command\n",
    "sudo service rsyslog start\n",
    "sudo service rsyslog restart\n",
    "sudo service rsyslog status"
   ]
  },
  {
   "cell_type": "code",
   "execution_count": null,
   "metadata": {},
   "outputs": [],
   "source": [
    "#Note about cron service and crontab command\n",
    "#cron is a scheduler service in linux. while crontab is a command line tool for you to set schedule to execute script\n",
    "\n",
    "#to start cron service with account\n",
    "sudo service cron start/restart\n",
    "#to check status of the service use command:\n",
    "sudo service cron status\n",
    "\n",
    "#to schedule with crontab command line:\n",
    "crontab -e\n",
    "#to list crontab schedule with command:\n",
    "crontab -l\n",
    "#cron job execution will be log as /var/log/syslog. to have this files we have to have rsyslog service running\n",
    "#to view log of cron job run command (ubuntu store system log as /var/logsyslog)\n",
    "grep 'cron\\|CRON' /var/log/syslog\n",
    "#your ec2 instance can have cron tab log as /var/log/cron\n",
    "sudo cat /var/log/cron | grep $user_name"
   ]
  },
  {
   "cell_type": "code",
   "execution_count": null,
   "metadata": {},
   "outputs": [],
   "source": [
    "#Note about how to install cronjob and crontab in centos (linux redhat distribution).\n",
    "#this note is reference at: https://www.digitalocean.com/community/tutorials/how-to-use-cron-to-automate-tasks-centos-8\n"
   ]
  },
  {
   "cell_type": "code",
   "execution_count": null,
   "metadata": {},
   "outputs": [],
   "source": [
    "#Note: about how to use vim,\n",
    "    #in some system, default text editor is vim. we have to use vim in this case"
   ]
  }
 ],
 "metadata": {
  "language_info": {
   "name": "python"
  },
  "orig_nbformat": 4
 },
 "nbformat": 4,
 "nbformat_minor": 2
}
