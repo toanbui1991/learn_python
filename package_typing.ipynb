{
 "cells": [
  {
   "cell_type": "code",
   "execution_count": 2,
   "metadata": {},
   "outputs": [],
   "source": [
    "import io\n",
    "import re\n",
    "\n",
    "from collections import deque, namedtuple\n",
    "from typing import (\n",
    "    Dict,\n",
    "    List,\n",
    "    Tuple,\n",
    "    Set,\n",
    "    Deque,\n",
    "    NamedTuple,\n",
    "    IO,\n",
    "    Pattern,\n",
    "    Match,\n",
    "    Text,\n",
    "    Optional,\n",
    "    Sequence,\n",
    "    Iterable,\n",
    "    Mapping,\n",
    "    MutableMapping,\n",
    "    Any,\n",
    ")\n",
    "\n",
    "# without initializing\n",
    "x: int\n",
    "\n",
    "# any type\n",
    "y: Any\n",
    "y = 1\n",
    "y = \"1\"\n",
    "\n",
    "# built-in\n",
    "var_int: int = 1\n",
    "var_str: str = \"Hello Typing\"\n",
    "var_byte: bytes = b\"Hello Typing\"\n",
    "var_bool: bool = True\n",
    "var_float: float = 1.\n",
    "var_unicode: Text = u'\\u2713'\n",
    "\n",
    "# could be none\n",
    "var_could_be_none: Optional[int] = None\n",
    "var_could_be_none = 1\n",
    "\n",
    "# collections\n",
    "var_set: Set[int] = {i for i in range(3)}\n",
    "var_dict: Dict[str, str] = {\"foo\": \"Foo\"}\n",
    "var_list: List[int] = [i for i in range(3)]\n",
    "var_static_length_Tuple: Tuple[int, int, int] = (1, 2, 3)\n",
    "var_dynamic_length_Tuple: Tuple[int, ...] = (i for i in range(10, 3))\n",
    "var_deque: Deque = deque([1, 2, 3])\n",
    "var_nametuple: NamedTuple = namedtuple('P', ['x', 'y'])\n",
    "\n",
    "# io\n",
    "# var_io_str: IO[str] = io.StringIO(\"Hello String\")\n",
    "# var_io_byte: IO[bytes] = io.BytesIO(b\"Hello Bytes\")\n",
    "# var_io_file_str: IO[str] = open(__file__)\n",
    "# var_io_file_byte: IO[bytes] = open(__file__, 'rb')\n",
    "\n",
    "# re\n",
    "p: Pattern = re.compile(\"(https?)://([^/\\r\\n]+)(/[^\\r\\n]*)?\")\n",
    "m: Optional[Match] = p.match(\"https://www.python.org/\")\n",
    "\n",
    "# duck types: list-like\n",
    "var_seq_list: Sequence[int] = [1, 2, 3]\n",
    "var_seq_tuple: Sequence[int] = (1, 2, 3)\n",
    "var_iter_list: Iterable[int] = [1, 2, 3]\n",
    "var_iter_tuple: Iterable[int] = (1, 2, 3)\n",
    "\n",
    "# duck types: dict-like\n",
    "var_map_dict: Mapping[str, str] = {\"foo\": \"Foo\"}\n",
    "var_mutable_dict: MutableMapping[str, str] = {\"bar\": \"Bar\"}"
   ]
  },
  {
   "cell_type": "code",
   "execution_count": 5,
   "metadata": {},
   "outputs": [
    {
     "name": "stdout",
     "output_type": "stream",
     "text": [
      "(1, 2, 3)\n",
      "1\n",
      "2\n",
      "3\n"
     ]
    }
   ],
   "source": [
    "print(var_static_length_Tuple)\n",
    "for i in var_static_length_Tuple:\n",
    "    print(i)"
   ]
  },
  {
   "cell_type": "code",
   "execution_count": 7,
   "metadata": {},
   "outputs": [
    {
     "name": "stdout",
     "output_type": "stream",
     "text": [
      "one\n",
      "two\n",
      "tree\n",
      "1\n",
      "one\n",
      "1.2\n"
     ]
    }
   ],
   "source": [
    "#declare tuple\n",
    "test_tuple: Tuple[str, ...] = (\"one\", \"two\", \"tree\")\n",
    "for i in test_tuple:\n",
    "    print(i) \n",
    "#tuple with multiple type\n",
    "second_tuple : Tuple[str, float, int] = (1, 'one', 1.2)\n",
    "for i in second_tuple:\n",
    "    print(i)"
   ]
  },
  {
   "cell_type": "code",
   "execution_count": 9,
   "metadata": {},
   "outputs": [
    {
     "name": "stdout",
     "output_type": "stream",
     "text": [
      "None\n",
      "None\n",
      "test\n"
     ]
    }
   ],
   "source": [
    "#type: typing.Any is a special type which is unconstraint type\n",
    "#type: typing.Optional. Optional[X] is equal with X | None or Union(X, None).\n",
    "any_type: Any = None\n",
    "print(any_type)\n",
    "optional_data: Optional[str] = None\n",
    "second_op: Optional[str] = \"test\"\n",
    "print(optional_data)\n",
    "print(second_op) "
   ]
  },
  {
   "cell_type": "code",
   "execution_count": 11,
   "metadata": {},
   "outputs": [
    {
     "name": "stdout",
     "output_type": "stream",
     "text": [
      "{'one': 1, 'two': 2}\n",
      "{'one': 1, 'two': None}\n"
     ]
    }
   ],
   "source": [
    "#type.Dict\n",
    "# class typing.Dict(dict, MutableMapping[KT, VT])\n",
    "test_dict: Dict[str, int] = {\"one\": 1, \"two\": 2}\n",
    "print(test_dict)\n",
    "other_dict: Dict[str, int] = {\"one\": 1, \"two\": None}\n",
    "print(type(other_dict.get(\"two\")))"
   ]
  }
 ],
 "metadata": {
  "kernelspec": {
   "display_name": "Python 3.8.10 ('venv': venv)",
   "language": "python",
   "name": "python3"
  },
  "language_info": {
   "codemirror_mode": {
    "name": "ipython",
    "version": 3
   },
   "file_extension": ".py",
   "mimetype": "text/x-python",
   "name": "python",
   "nbconvert_exporter": "python",
   "pygments_lexer": "ipython3",
   "version": "3.8.10"
  },
  "orig_nbformat": 4,
  "vscode": {
   "interpreter": {
    "hash": "0acef43dc5f76a2ed31147fd429dfe8c79ee15b3b02be3263c02dc60771e7f23"
   }
  }
 },
 "nbformat": 4,
 "nbformat_minor": 2
}
