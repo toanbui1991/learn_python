{
 "cells": [
  {
   "cell_type": "code",
   "execution_count": 1,
   "metadata": {},
   "outputs": [],
   "source": [
    "from datetime import datetime, timedelta\n",
    "\n",
    "\n",
    "class Bucket:\n",
    "    def __init__(self,period):\n",
    "        self.period_delta = timedelta(seconds=period)\n",
    "        self.reset_time = datetime.now()\n",
    "        self.quota = 0 # this is incorrect an not dynamic on #use property instead to get dynamic attribtes\n",
    "    def __repr__(self):\n",
    "        return f\"Bucket (quota={self.quota})\""
   ]
  },
  {
   "cell_type": "code",
   "execution_count": 2,
   "metadata": {},
   "outputs": [],
   "source": [
    "#fill will add amount to quoto after period of time\n",
    "def fill(bucket, amount):\n",
    "    now = datetime.now()\n",
    "    if (now - bucket.reset_time) > bucket.period_delta:\n",
    "        bucket.quota = 0\n",
    "        bucket.reset_time = now\n",
    "    bucket.quota += amount"
   ]
  },
  {
   "cell_type": "code",
   "execution_count": 3,
   "metadata": {},
   "outputs": [],
   "source": [
    "def deduct(bucket, amount):\n",
    "    now = datetime.now()\n",
    "    if (now - bucket.reset_time) > bucket.period_delta:\n",
    "        return False                # Bucket hasn't been filled this period.\n",
    "    if bucket.quota - amount < 0:\n",
    "        return False                # Bucket was filled, but not enough\n",
    "    bucket.quota -= amount \n",
    "    return True                     # Bucket has enough, quota consumed"
   ]
  },
  {
   "cell_type": "code",
   "execution_count": 4,
   "metadata": {},
   "outputs": [
    {
     "name": "stdout",
     "output_type": "stream",
     "text": [
      "Bucket (quota=100)\n"
     ]
    }
   ],
   "source": [
    "bucket = Bucket(60)\n",
    "fill(bucket, 100)\n",
    "print(bucket)"
   ]
  },
  {
   "cell_type": "code",
   "execution_count": 5,
   "metadata": {},
   "outputs": [
    {
     "name": "stdout",
     "output_type": "stream",
     "text": [
      "Not enough for 99 quota\n",
      "Bucket (quota=100)\n"
     ]
    }
   ],
   "source": [
    "if deduct(bucket, 99):\n",
    "    print(\"Had 99 quota\")\n",
    "else:\n",
    "    print(\"Not enough for 99 quota\")\n",
    "\n",
    "print(bucket)"
   ]
  },
  {
   "cell_type": "code",
   "execution_count": 6,
   "metadata": {},
   "outputs": [
    {
     "name": "stdout",
     "output_type": "stream",
     "text": [
      "Not enough for 3 quota\n",
      "Bucket (quota=100)\n"
     ]
    }
   ],
   "source": [
    "if deduct(bucket, 3):\n",
    "    print(\"Had 3 quota\")\n",
    "else:\n",
    "    print(\"Not enough for 3 quota\")\n",
    "\n",
    "print(bucket)"
   ]
  },
  {
   "cell_type": "code",
   "execution_count": 9,
   "metadata": {},
   "outputs": [],
   "source": [
    "class NewBucket:\n",
    "    def __init__(self, period):\n",
    "        self.period_delta = timedelta(seconds=period)\n",
    "        self.reset_time = datetime.now()\n",
    "        self.max_quota = 0\n",
    "        self.quota_consumed = 0\n",
    "    def __repr__(self):\n",
    "        return (f\"NewBucket(max_quota={self.max_quota}, \"\n",
    "                f\"quota_consumed={self.quota_consumed})\")\n",
    "    \n",
    "    @property #property decorator will turn method into attribute\n",
    "    def quota(self):\n",
    "        return self.max_quota - self.quota_consumed #this is the correct definition about quota\n",
    "\n",
    "    @quota.setter #qquota.setter is call when newbucket.quota assign new value\n",
    "    def quota(self, amount):\n",
    "        delta = self.max_quota - amount\n",
    "        if amount == 0: #case for reset operation\n",
    "            # Quota being reset for a new period\n",
    "            self.quota_consumed = 0\n",
    "            self.max_quota = 0\n",
    "        elif delta < 0: #case for fill operation\n",
    "            # Quota being filled for the new period\n",
    "            assert self.quota_consumed == 0\n",
    "            self.max_quota = amount\n",
    "        else: #case for deduct operation\n",
    "            # Quota being consumed during the period\n",
    "            assert self.max_quota >= self.quota_consumed\n",
    "            self.quota_consumed += delta"
   ]
  },
  {
   "cell_type": "code",
   "execution_count": 10,
   "metadata": {},
   "outputs": [
    {
     "name": "stdout",
     "output_type": "stream",
     "text": [
      "Initial NewBucket(max_quota=0, quota_consumed=0)\n",
      "Filled NewBucket(max_quota=100, quota_consumed=0)\n",
      "Had 99 quota\n",
      "Now NewBucket(max_quota=100, quota_consumed=99)\n",
      "Not enough for 3 quota\n",
      "Still NewBucket(max_quota=100, quota_consumed=99)\n"
     ]
    }
   ],
   "source": [
    "bucket = NewBucket(60)\n",
    "print(\"Initial\", bucket)\n",
    "fill(bucket, 100)\n",
    "print(\"Filled\", bucket)\n",
    "\n",
    "if deduct(bucket, 99):\n",
    "    print(\"Had 99 quota\")\n",
    "else:\n",
    "    print(\"Not enough for 99 quota\")\n",
    "\n",
    "print(\"Now\", bucket)\n",
    "\n",
    "if deduct(bucket, 3):\n",
    "    print(\"Had 3 quota\")\n",
    "else:\n",
    "    print(\"Not enough for 3 quota\")\n",
    "\n",
    "print(\"Still\", bucket)"
   ]
  },
  {
   "cell_type": "markdown",
   "metadata": {},
   "source": [
    "**Note about NewBucket:**\n",
    "- we use @property decorator to convert a function in to attribute.\n",
    "- to get the value of new property or attribute use like normal attribute. For example, new_bucket.quota.\n",
    "- use decorator @property_name.setter to turn method into property setter method\n",
    "- by define quota using @property and @quota.setter we can reuse fill and deduct method.\n",
    "- @quota.setter method execute when self.quota have new assignment operation"
   ]
  },
  {
   "cell_type": "markdown",
   "metadata": {},
   "source": [
    "**Note about fill and deduct method:**\n",
    "- fill(self, amount):  update self.quota += amount\n",
    "- deduct(self, amount): update filling perios status which return True or False. If True update self.quota -= amount"
   ]
  },
  {
   "cell_type": "markdown",
   "metadata": {},
   "source": [
    "**Summary:**\n",
    "- use @property decorator to turn a method into an attribute\n",
    "- use @property_name to define property setter method. @property_name.setter to turn method into property setter method"
   ]
  }
 ],
 "metadata": {
  "interpreter": {
   "hash": "e997c254a1f8079c5997e54e250cb3627d598fa1a1d92bf10438cfce758154e6"
  },
  "kernelspec": {
   "display_name": "Python 3.10.1 ('venv': venv)",
   "language": "python",
   "name": "python3"
  },
  "language_info": {
   "codemirror_mode": {
    "name": "ipython",
    "version": 3
   },
   "file_extension": ".py",
   "mimetype": "text/x-python",
   "name": "python",
   "nbconvert_exporter": "python",
   "pygments_lexer": "ipython3",
   "version": "3.10.1"
  },
  "orig_nbformat": 4
 },
 "nbformat": 4,
 "nbformat_minor": 2
}
