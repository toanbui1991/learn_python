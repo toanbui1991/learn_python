{
 "cells": [
  {
   "cell_type": "code",
   "execution_count": 5,
   "metadata": {},
   "outputs": [
    {
     "name": "stdout",
     "output_type": "stream",
     "text": [
      "student name: Nandini\n",
      "student age: 19\n",
      "student two:  Student(name='Manjeet', age='19', DOB='411997')\n",
      "student three:  Student(name='Nikhil', age=19, DOB='1391997')\n",
      "changed student two: Student(name='Student two new name', age='19', DOB='411997')\n",
      "changed student three: Student(name='Student Three new name', age=19, DOB='1391997')\n"
     ]
    }
   ],
   "source": [
    "\n",
    "from collections import namedtuple\n",
    " \n",
    "# collections.namedtuple(typename, field_names, *, rename=False, defaults=None, module=None)\n",
    "Student = namedtuple('Student', ['name', 'age', 'DOB'])\n",
    "student_one = Student('Nandini', '19', '2541997')\n",
    "#access attributes of student instance with position or name\n",
    "print('student name: {}'.format(student_one[0]))\n",
    "print('student age: {}'.format(student_one.age))\n",
    "data_two = ['Manjeet', '19', '411997']\n",
    "student_two = Student(*data_two)\n",
    "data_three = {'name': \"Nikhil\", 'age': 19, 'DOB': '1391997'}\n",
    "student_three = Student(**data_three)\n",
    "print('student two: ', student_two)\n",
    "print('student three: ', student_three)\n",
    "#change attribute value, to change value of attribute we can not assign value to it directly.\n",
    "#we have to use _replace() method, which return new instace. _replace do not change the current instance\n",
    "student_two = student_two._replace(name='Student two new name')\n",
    "student_three = student_three._replace(name='Student Three new name')\n",
    "print('changed student two: {}'.format(student_two))\n",
    "print('changed student three: {}'.format(student_three))\n",
    "\n"
   ]
  },
  {
   "cell_type": "code",
   "execution_count": 19,
   "metadata": {},
   "outputs": [
    {
     "name": "stdout",
     "output_type": "stream",
     "text": [
      "['g', 'g', 'e', 'e', 'e', 'e', 'k', 'k', 's', 's', 'f', 'o', 'r']\n",
      "['geeks', 'geeks', 'geeks', 'geeks', 'for', 'gfg', 'gfg', 'python', 'python', 'python']\n",
      "['a', 'a', 'b', 'b', 'b', 'c', 'c', 'c', 'c', 'c', 'c', 'd', 'e', 'e', 'e', 'e', 'e']\n",
      "[1, 2, 2, 21, 21, 12, 44, 5, 5, 5, 13, 15, 19]\n",
      "items list:  dict_items([(1, 1), (2, 2), (21, 2), (12, 1), (44, 1), (5, 3), (13, 1), (15, 1), (19, 1)])\n",
      "[(5, 3), (2, 2), (21, 2)]\n",
      "3 most common element: [(5, 3), (2, 2), (21, 2)]\n",
      "list of items:  [1, 2, 21, 12, 44, 5, 13, 15, 19]\n",
      "dict of items and count:  {1: 1, 2: 2, 21: 2, 12: 1, 44: 1, 5: 3, 13: 1, 15: 1, 19: 1}\n",
      "set of items:  {1, 2, 5, 12, 44, 13, 15, 19, 21}\n",
      "number of item:  13\n",
      "number of time 5 appear: 3\n"
     ]
    }
   ],
   "source": [
    "from collections import Counter\n",
    "\n",
    "#use Counter object with method like: elements()\n",
    "#elements() return iterators which start from the first encounter element\n",
    "x = Counter(\"geeksforgeeks\")\n",
    "data = x.elements()\n",
    "print(list(data))\n",
    "\n",
    "#construct a Counter instance from dictionary\n",
    "b = Counter({'geeks' : 4, 'for' : 1,\n",
    "            'gfg' : 2, 'python' : 3})\n",
    "data = b.elements()\n",
    "print(list(data))\n",
    "\n",
    "#construct counter instance from keyword arguments\n",
    "d = Counter( a = 2, b = 3, c = 6, d = 1, e = 5)\n",
    "data = d.elements()\n",
    "print(list(data))\n",
    "\n",
    "#construct counter instance from list\n",
    "c = Counter([1, 2, 21, 12, 2, 44, 5,\n",
    "              13, 15, 5, 19, 21, 5])\n",
    "data = c.elements()\n",
    "print(list(data))\n",
    "\n",
    "#learn about to use methods of an Counter object\n",
    "counter = Counter([1, 2, 21, 12, 2, 44, 5,\n",
    "              13, 15, 5, 19, 21, 5])\n",
    "print('items list: ', counter.items()) #counter.items() return a list of ('item', count)\n",
    "n_comment = 3\n",
    "most_common = counter.most_common(n_comment)\n",
    "print('{} most common element: {}'.format(n_comment,  most_common))\n",
    "print('list of items: ', list(counter)) #return list of item\n",
    "print('dict of items and count: ', dict(counter)) #return dict('item': count)\n",
    "print('set of items: ', set(counter)) #return set of item\n",
    "print('number of item: ', counter.total())\n",
    "element = 5\n",
    "print('number of time {} appear: {}'.format(element, dict(counter).get(element)))"
   ]
  },
  {
   "cell_type": "code",
   "execution_count": 9,
   "metadata": {},
   "outputs": [
    {
     "name": "stdout",
     "output_type": "stream",
     "text": [
      "before:  {'green': 12, 'blue': 3}\n",
      "Key added\n",
      "Key added\n",
      "after:  {'green': 12, 'blue': 20, 'red': 5, 'orange': 9}\n"
     ]
    }
   ],
   "source": [
    "# learn to use defaultdict to update dictionary more efficent\n",
    "from collections import defaultdict\n",
    "\n",
    "# defaultdict(default_factory, default_value)\n",
    "#default_facotry is a helper function, it will return default value if key is missing\n",
    "def log_missing():\n",
    "    print('Key added')\n",
    "    return 0\n",
    "\n",
    "current = {'green': 12, 'blue': 3}\n",
    "increments = [\n",
    "('red', 5),\n",
    "('blue', 17),\n",
    "('orange', 9),\n",
    "]\n",
    "result = defaultdict(log_missing, current)\n",
    "print('before: ', dict(result))\n",
    "for key, value in increments:\n",
    "    result[key] += value\n",
    "\n",
    "print('after: ', dict(result))"
   ]
  },
  {
   "cell_type": "code",
   "execution_count": 10,
   "metadata": {},
   "outputs": [
    {
     "name": "stdout",
     "output_type": "stream",
     "text": [
      "{'yellow': [1, 3], 'blue': [2, 4], 'red': [1]}\n"
     ]
    }
   ],
   "source": [
    "#defaultdict application: collection items base on ky\n",
    "items = [('yellow', 1), ('blue', 2), ('yellow', 3), ('blue', 4), ('red', 1)]\n",
    "collector = defaultdict(list)\n",
    "for key, value in items:\n",
    "    collector[key].append(value)\n",
    "\n",
    "print(dict(collector))"
   ]
  },
  {
   "cell_type": "code",
   "execution_count": 11,
   "metadata": {},
   "outputs": [
    {
     "name": "stdout",
     "output_type": "stream",
     "text": [
      "{'m': 1, 'i': 4, 's': 4, 'p': 2}\n"
     ]
    }
   ],
   "source": [
    "test_string = 'mississippi'\n",
    "counter = defaultdict(int)\n",
    "for letter in test_string:\n",
    "    counter[letter] += 1\n",
    "\n",
    "print(dict(counter))"
   ]
  },
  {
   "cell_type": "markdown",
   "metadata": {},
   "source": [
    "**Summary**\n",
    "- collections package have important object like: namedtuple, Counter, defaultdict.\n",
    "- namedtuple work like Class with attributes only.\n",
    "- to use namedtuple we have to declare it with command: namedtuple(name, attrs_list), Name(*attrs_list)\n",
    "- defaultdict(default_factor, default_value) can be use to dynamic dict to keep tract of dict element.\n",
    "- defaultdict, default_factor is function to decall if defaultdict[key] do not have value\n",
    "- defaultdict, can apply to collect item base on key, or count key happening\n",
    "- Counter which help us keep track of item and count\n",
    "- Counter methods: elements(), most_common(number), total(), dict(counter)"
   ]
  }
 ],
 "metadata": {
  "interpreter": {
   "hash": "e997c254a1f8079c5997e54e250cb3627d598fa1a1d92bf10438cfce758154e6"
  },
  "kernelspec": {
   "display_name": "Python 3.10.1 ('venv': venv)",
   "language": "python",
   "name": "python3"
  },
  "language_info": {
   "codemirror_mode": {
    "name": "ipython",
    "version": 3
   },
   "file_extension": ".py",
   "mimetype": "text/x-python",
   "name": "python",
   "nbconvert_exporter": "python",
   "pygments_lexer": "ipython3",
   "version": "3.10.1"
  },
  "orig_nbformat": 4
 },
 "nbformat": 4,
 "nbformat_minor": 2
}
