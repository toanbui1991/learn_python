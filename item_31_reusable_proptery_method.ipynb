{
 "cells": [
  {
   "cell_type": "code",
   "execution_count": 1,
   "metadata": {},
   "outputs": [],
   "source": [
    "class Homework:\n",
    "    def __init__(self):\n",
    "        self._grade = 0\n",
    "    @property\n",
    "    def grade(self):\n",
    "        return self._grade\n",
    "    @grade.setter\n",
    "    def grade(self, value):\n",
    "        if not (0 <= value <= 100):\n",
    "            raise ValueError(\"Grade must be between 0 and 100\")\n",
    "        self._grade = value\n",
    "\n",
    "\n",
    "#Homeowork class and Exam have no relation. they are similar but not related\n",
    "class Exam:\n",
    "\n",
    "    def __init__(self):\n",
    "        self._writing_grade = 0\n",
    "        self._math_grade = 0\n",
    "\n",
    "    @staticmethod\n",
    "    def _check_grade(value):\n",
    "        if not (0 <= value <= 100):\n",
    "            raise ValueError(\"Grade must be between 0 and 100\")\n",
    "\n",
    "    @property\n",
    "    def writing_grade(self):\n",
    "        return self._writing_grade\n",
    "\n",
    "    @writing_grade.setter\n",
    "    def writing_grade(self, value):\n",
    "        self._check_grade(value)\n",
    "        self._writing_grade = value\n",
    "\n",
    "    @property\n",
    "    def math_grade(self):\n",
    "        return self._math_grade\n",
    "\n",
    "    @math_grade.setter\n",
    "    def math_grade(self, value):\n",
    "        self._check_grade(value)\n",
    "        self._math_grade = value"
   ]
  },
  {
   "cell_type": "code",
   "execution_count": 4,
   "metadata": {},
   "outputs": [
    {
     "name": "stdout",
     "output_type": "stream",
     "text": [
      "Writing 82\n",
      "Science 99\n",
      "Second 75 is right\n",
      "First  75 is wrong; should be 82\n"
     ]
    }
   ],
   "source": [
    "class Grade:\n",
    "    def __init__(self):\n",
    "        self._value = 0\n",
    "    def __get__(self, instance, instance_type):\n",
    "        return self._value\n",
    "    def __set__(self, instance, value):\n",
    "        if not (0 <= value <= 100):\n",
    "            raise ValueError(\"Grade must be between 0 and 100\")\n",
    "        self._value = value\n",
    "\n",
    "class Exam:\n",
    "    math_grade = Grade()\n",
    "    writing_grade = Grade()\n",
    "    science_grade = Grade()\n",
    "\n",
    "first_exam = Exam()\n",
    "first_exam.writing_grade = 82\n",
    "first_exam.science_grade = 99\n",
    "print(f\"Writing {first_exam.writing_grade}\")\n",
    "print(f\"Science {first_exam.science_grade}\")\n",
    "\n",
    "#why do we have error here. the second_exam instance mess up with first_exam\n",
    "#because a grade instance is share between all exam instance\n",
    "second_exam = Exam()\n",
    "second_exam.writing_grade = 75\n",
    "print(f\"Second {second_exam.writing_grade} is right\")\n",
    "print(f\"First  {first_exam.writing_grade} is wrong; \"\n",
    "        f\"should be 82\")"
   ]
  },
  {
   "cell_type": "code",
   "execution_count": 2,
   "metadata": {},
   "outputs": [
    {
     "name": "stdout",
     "output_type": "stream",
     "text": [
      "First  82 is right\n",
      "Second 75 is right\n"
     ]
    }
   ],
   "source": [
    "from weakref import WeakKeyDictionary\n",
    "\n",
    "\n",
    "class Grade:\n",
    "    def __init__(self):\n",
    "        self._values = WeakKeyDictionary()\n",
    "    def __get__(self, instance, instance_type):\n",
    "        if instance is None:\n",
    "            return self\n",
    "        return self._values.get(instance, 0)\n",
    "    def __set__(self, instance, value):\n",
    "        if not (0 <= value <= 100):\n",
    "            raise ValueError(\"Grade must be between 0 and 100\")\n",
    "        self._values[instance] = value\n",
    "\n",
    "#this Exam class do not have init method when you call instance of this class it will reference to same math_grade, writing_grade, science_grade.\n",
    "#WeakkeyDictionary will act like a holder of key and value. each key is an instance\n",
    "#WeakKyDictionary use when we want to hold instance as key and instance value.\n",
    "class Exam:\n",
    "    math_grade = Grade()\n",
    "    writing_grade = Grade()\n",
    "    science_grade = Grade()\n",
    "\n",
    "\n",
    "first_exam = Exam()\n",
    "first_exam.writing_grade = 82\n",
    "second_exam = Exam()\n",
    "second_exam.writing_grade = 75\n",
    "print(f\"First  {first_exam.writing_grade} is right\")\n",
    "print(f\"Second {second_exam.writing_grade} is right\")"
   ]
  },
  {
   "cell_type": "markdown",
   "metadata": {},
   "source": [
    "**Note on reusable property method:**\n",
    "- in the example, we have to write Exam class with 3 different property method for math, writing, science\n",
    "- we can write the normal way, which write it 3 time or write it with reusable way with WeakKeyDictionary\n",
    "- WeakKeyDictionary keep each instance and allow each of instance to call get and set of Grade class.\n",
    "- self._values[instance] = value. instance reference to an instance of an Exam.\n",
    "- second_exam.writing_grade reference to the same instance of Grade but it will call self._values[second_exame] = grade"
   ]
  },
  {
   "cell_type": "markdown",
   "metadata": {},
   "source": [
    "** Summary on reusable proptery method:**\n",
    "- when we want to do resuable property method we can remember to this case and WeakKeyDictionary class "
   ]
  }
 ],
 "metadata": {
  "interpreter": {
   "hash": "e997c254a1f8079c5997e54e250cb3627d598fa1a1d92bf10438cfce758154e6"
  },
  "kernelspec": {
   "display_name": "Python 3.10.1 ('venv': venv)",
   "language": "python",
   "name": "python3"
  },
  "language_info": {
   "codemirror_mode": {
    "name": "ipython",
    "version": 3
   },
   "file_extension": ".py",
   "mimetype": "text/x-python",
   "name": "python",
   "nbconvert_exporter": "python",
   "pygments_lexer": "ipython3",
   "version": "3.10.1"
  },
  "orig_nbformat": 4
 },
 "nbformat": 4,
 "nbformat_minor": 2
}
