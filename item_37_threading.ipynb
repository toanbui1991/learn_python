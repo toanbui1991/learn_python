{
 "cells": [
  {
   "cell_type": "code",
   "execution_count": 1,
   "metadata": {},
   "outputs": [
    {
     "name": "stdout",
     "output_type": "stream",
     "text": [
      "Took 0.328 seconds\n"
     ]
    }
   ],
   "source": [
    "\n",
    "import time \n",
    "\n",
    "#this is generator\n",
    "def factorize(number):\n",
    "    for i in range(1, number + 1):\n",
    "        if number % i ==0:\n",
    "            yield i\n",
    "numbers = [2139079, 1214759, 1516637, 1852285]\n",
    "start = time.time()\n",
    "\n",
    "# #check the generator factorize().\n",
    "# number = 2139079\n",
    "# for result in factorize(2139079):\n",
    "#     print(result)\n",
    "\n",
    "#apply generator to each number in numbers list\n",
    "for number in numbers:\n",
    "    list(factorize(number))\n",
    "\n",
    "end = time.time()\n",
    "delta = end - start\n",
    "print(f\"Took {delta:.3} seconds\")\n",
    "\n"
   ]
  },
  {
   "cell_type": "code",
   "execution_count": null,
   "metadata": {},
   "outputs": [],
   "source": []
  },
  {
   "cell_type": "code",
   "execution_count": 2,
   "metadata": {},
   "outputs": [
    {
     "name": "stdout",
     "output_type": "stream",
     "text": [
      "Took 0.346 seconds\n"
     ]
    }
   ],
   "source": [
    "from threading import Thread\n",
    "\n",
    "#in this example threading do not speed up time\n",
    "class FactorizeThread(Thread):\n",
    "    def __init__(self, number):\n",
    "        super().__init__()\n",
    "        self.number = number\n",
    "    #inheritance from Thread and define run a function\n",
    "    def run(self):\n",
    "        self.factors = list(factorize(self.number))\n",
    "\n",
    "start = time.time()\n",
    "\n",
    "\n",
    "threads = []\n",
    "#we run factorize in multiple thread\n",
    "for number in numbers:\n",
    "    thread = FactorizeThread(number)\n",
    "    thread.start() #start method will trigger run method\n",
    "    threads.append(thread)\n",
    "\n",
    "\n",
    "for thread in threads:\n",
    "    thread.join() #join method to wait for all result and join to main thread\n",
    "\n",
    "\n",
    "#why we run multiple thread but do not save time.\n",
    "end = time.time()\n",
    "delta = end - start\n",
    "print(f\"Took {delta:.3} seconds\")"
   ]
  },
  {
   "cell_type": "code",
   "execution_count": 4,
   "metadata": {},
   "outputs": [
    {
     "name": "stdout",
     "output_type": "stream",
     "text": [
      "Took 0.543 seconds\n",
      "Took 0.106 seconds\n"
     ]
    }
   ],
   "source": [
    "import select\n",
    "import socket\n",
    "\n",
    "\n",
    "def slow_systemcall():\n",
    "    select.select([socket.socket()], [], [], 0.1)\n",
    "\n",
    "start = time.time()\n",
    "\n",
    "for _ in range(5):\n",
    "    slow_systemcall()\n",
    "\n",
    "end = time.time()\n",
    "delta = end - start\n",
    "print(f\"Took {delta:.3f} seconds\")\n",
    "\n",
    "\n",
    "#```\n",
    "#With the threads started, here we do calculations of the next move, before waiting for the system call thread to finish:\n",
    "#```python\n",
    "\n",
    "threads = []\n",
    "\n",
    "#start 5 different thread but the main thread still running\n",
    "for _ in range(5):\n",
    "    thread = Thread(target=slow_systemcall)\n",
    "    thread.start()\n",
    "    threads.append(thread)\n",
    "\n",
    "#\n",
    "def compute_helicopter_location(index):\n",
    "    pass\n",
    "#threading do not block the main thread where the code is run.\n",
    "#the code above do not block compute_helicopter_location()\n",
    "start = time.time()\n",
    "for i in range(5):\n",
    "    compute_helicopter_location(i)\n",
    "\n",
    "for thread in threads:\n",
    "    thread.join()\n",
    "\n",
    "end = time.time()\n",
    "delta = end - start\n",
    "print(f\"Took {delta:.3f} seconds\")"
   ]
  },
  {
   "cell_type": "markdown",
   "metadata": {},
   "source": [
    "**Summary on theading package:**\n",
    "- python allow multiple threading but it apply GIL (global interpreter lock) which allow on threading execution as a time. means that we can have multiple threads but each of time will run one as a time.\n",
    "- what is the use case: threading use when we need to deal with blocking io problem (read, write file, iteract with network, communicate with device)\n",
    "- if we make multiple blocking io call but do not want to block the main thread use theading package.\n",
    "- threading package have Thread Class which have special function run. run will define what will run when thead.start() call. thread.join() to wait for result from all thread and comeback to the main thread.\n"
   ]
  }
 ],
 "metadata": {
  "interpreter": {
   "hash": "c4c2258f3cb16335fc2dcf49c25dda9dd3ae8142fb17b9d85108198d5cfcfc63"
  },
  "kernelspec": {
   "display_name": "Python 3.10.4 64-bit",
   "language": "python",
   "name": "python3"
  },
  "language_info": {
   "codemirror_mode": {
    "name": "ipython",
    "version": 3
   },
   "file_extension": ".py",
   "mimetype": "text/x-python",
   "name": "python",
   "nbconvert_exporter": "python",
   "pygments_lexer": "ipython3",
   "version": "3.10.4"
  },
  "orig_nbformat": 4
 },
 "nbformat": 4,
 "nbformat_minor": 2
}
