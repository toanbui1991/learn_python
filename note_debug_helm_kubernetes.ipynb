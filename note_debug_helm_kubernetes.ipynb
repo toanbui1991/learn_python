{
 "cells": [
  {
   "cell_type": "code",
   "execution_count": null,
   "metadata": {},
   "outputs": [],
   "source": [
    "#Note about how to debug helm kubernetes deployments\n",
    "\n",
    "#check the status of pods with command:\n",
    "kubectl get pod -n name_space --zone zone_name\n",
    "#example, we can see the error: Init:CreateContainerConfigError\n",
    "kubectl get pod -n airflow\n",
    "\n",
    "#get more detail about what is wrong with pods\n",
    "kubectl describe pod pod_id -n name_space\n",
    "#example\n",
    "kubectl describe pod airflow-webserver-6494667cc-sgtg7 -n airflow\n",
    "\n",
    "#to check your cluster have access to the internete with command\n",
    "kubectl create deployment --image nginx test-nginx"
   ]
  }
 ],
 "metadata": {
  "language_info": {
   "name": "python"
  },
  "orig_nbformat": 4
 },
 "nbformat": 4,
 "nbformat_minor": 2
}
