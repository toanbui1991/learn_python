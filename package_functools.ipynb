{
 "cells": [
  {
   "cell_type": "code",
   "execution_count": 4,
   "metadata": {},
   "outputs": [
    {
     "name": "stdout",
     "output_type": "stream",
     "text": [
      "this is decorator part!\n",
      "Documentation of decorated : f's Docstring\n",
      "this is decorated part befor the call!\n",
      "the result is:  5\n"
     ]
    }
   ],
   "source": [
    "#let explor functools.wrap\n",
    "from functools import wraps\n",
    "\n",
    "from functools import wraps\n",
    "  \n",
    "def decorator(f):\n",
    "    print('this is decorator part!')\n",
    "    @wraps(f)\n",
    "    def decorated(*args, **kwargs):\n",
    "        \"\"\"Decorator's docstring\"\"\"\n",
    "        print('this is decorated part befor the call!')\n",
    "        f(*args, **kwargs)\n",
    "        print('this is decorated part after the call!')\n",
    "    print('Documentation of decorated :', decorated.__doc__)\n",
    "    return decorated\n",
    "  \n",
    "@decorator\n",
    "def add_example(a, b):\n",
    "    \"\"\"f's Docstring\"\"\"\n",
    "    print('the result is: ', a + b)\n",
    "\n",
    "add_example(2, 3)"
   ]
  }
 ],
 "metadata": {
  "kernelspec": {
   "display_name": "Python 3.8.10 ('venv': venv)",
   "language": "python",
   "name": "python3"
  },
  "language_info": {
   "codemirror_mode": {
    "name": "ipython",
    "version": 3
   },
   "file_extension": ".py",
   "mimetype": "text/x-python",
   "name": "python",
   "nbconvert_exporter": "python",
   "pygments_lexer": "ipython3",
   "version": "3.8.10"
  },
  "orig_nbformat": 4,
  "vscode": {
   "interpreter": {
    "hash": "0acef43dc5f76a2ed31147fd429dfe8c79ee15b3b02be3263c02dc60771e7f23"
   }
  }
 },
 "nbformat": 4,
 "nbformat_minor": 2
}
