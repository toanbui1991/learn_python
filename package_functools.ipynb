{
 "cells": [
  {
   "cell_type": "code",
   "execution_count": 15,
   "metadata": {},
   "outputs": [
    {
     "name": "stdout",
     "output_type": "stream",
     "text": [
      "this is decorator part!\n",
      "Documentation of decorated : f's Docstring\n",
      "this is decorated part befor the call!\n",
      "the result is:  5\n",
      "this is decorated part after the call!\n"
     ]
    }
   ],
   "source": [
    "#let explor functools.wrap\n",
    "from functools import wraps\n",
    "\n",
    "from functools import wraps\n",
    "  \n",
    "def decorator(f):\n",
    "    print('this is decorator part!')\n",
    "    @wraps(f)\n",
    "    def decorated(*args, **kwargs):\n",
    "        \"\"\"Decorator's docstring\"\"\"\n",
    "        print('this is decorated part befor the call!')\n",
    "        f(*args, **kwargs)\n",
    "        print('this is decorated part after the call!')\n",
    "    print('Documentation of decorated :', decorated.__doc__)\n",
    "    return decorated\n",
    "  \n",
    "@decorator\n",
    "def add_example(a, b):\n",
    "    \"\"\"f's Docstring\"\"\"\n",
    "    print('the result is: ', a + b)\n",
    "\n",
    "add_example(2, 3)"
   ]
  },
  {
   "cell_type": "code",
   "execution_count": 16,
   "metadata": {},
   "outputs": [
    {
     "name": "stdout",
     "output_type": "stream",
     "text": [
      "we can only modify behavior of function here!\n",
      "result:  4\n",
      "we can only modify behavior of function here!\n",
      "result:  5\n",
      "4 5\n"
     ]
    }
   ],
   "source": [
    "from functools import wraps\n",
    "def my_decorator(f):\n",
    "\n",
    "    @wraps(f)\n",
    "    def wrapper(*args, **kwds):\n",
    "        print('we can only modify behavior of function here!')\n",
    "        return f(*args, **kwds)\n",
    "        \n",
    "    return wrapper\n",
    "    \n",
    "\n",
    "@my_decorator\n",
    "def example(a, b):\n",
    "    \"\"\"Docstring\"\"\"\n",
    "    result = a + b\n",
    "    print('result: ', result)\n",
    "    return result\n",
    "result_one = example(1,3)\n",
    "result_two = example(3,2)\n",
    "print(result_one, result_two)"
   ]
  },
  {
   "cell_type": "code",
   "execution_count": 17,
   "metadata": {},
   "outputs": [],
   "source": [
    "#Note about wraps:\n",
    "    #wraps now do not support take input parameter\n",
    "    #we can only modify behavior of function before we call it.\n",
    "    #with wraps function call is sequence."
   ]
  },
  {
   "cell_type": "code",
   "execution_count": 21,
   "metadata": {},
   "outputs": [
    {
     "name": "stdout",
     "output_type": "stream",
     "text": [
      "lambda creation time 2.268850803375244\n",
      "lambda execution time 1.6370058059692383\n",
      "partial creation time 2.6626644134521484\n",
      "partial execution time 0.7071280479431152\n"
     ]
    }
   ],
   "source": [
    "from functools import partial\n",
    "import time, math\n",
    "\n",
    "def make_lambda():\n",
    "    x = 1.3\n",
    "    return lambda: math.sin(x)\n",
    "\n",
    "def make_partial():\n",
    "    x = 1.3\n",
    "    return partial(math.sin, x)\n",
    "\n",
    "Iter = 10**7\n",
    "\n",
    "start = time.time()\n",
    "for i in range(0, Iter):\n",
    "    l = make_lambda()\n",
    "stop = time.time()\n",
    "print('lambda creation time {}'.format(stop - start))\n",
    "\n",
    "start = time.time()\n",
    "for i in range(0, Iter):\n",
    "    l()\n",
    "stop = time.time()\n",
    "print('lambda execution time {}'.format(stop - start))\n",
    "\n",
    "start = time.time()\n",
    "for i in range(0, Iter):\n",
    "    p = make_partial()\n",
    "stop = time.time()\n",
    "print('partial creation time {}'.format(stop - start))\n",
    "\n",
    "start = time.time()\n",
    "for i in range(0, Iter):\n",
    "    p()\n",
    "stop = time.time()\n",
    "print('partial execution time {}'.format(stop - start))"
   ]
  },
  {
   "cell_type": "code",
   "execution_count": null,
   "metadata": {},
   "outputs": [],
   "source": [
    "#Note about lambda and partial\n",
    "    #lambda which return function. with lambda we can also assign default value into function and return function with default value\n",
    "    #default is a function which return a function with default value.\n",
    "    #partial take a more time for creation but much less time to execute"
   ]
  }
 ],
 "metadata": {
  "kernelspec": {
   "display_name": "Python 3.8.10 ('venv': venv)",
   "language": "python",
   "name": "python3"
  },
  "language_info": {
   "codemirror_mode": {
    "name": "ipython",
    "version": 3
   },
   "file_extension": ".py",
   "mimetype": "text/x-python",
   "name": "python",
   "nbconvert_exporter": "python",
   "pygments_lexer": "ipython3",
   "version": "3.8.10"
  },
  "orig_nbformat": 4,
  "vscode": {
   "interpreter": {
    "hash": "0acef43dc5f76a2ed31147fd429dfe8c79ee15b3b02be3263c02dc60771e7f23"
   }
  }
 },
 "nbformat": 4,
 "nbformat_minor": 2
}
