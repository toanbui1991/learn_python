{
 "cells": [
  {
   "cell_type": "code",
   "execution_count": 1,
   "metadata": {},
   "outputs": [
    {
     "name": "stdout",
     "output_type": "stream",
     "text": [
      "Before: {'green': 12, 'blue': 3}\n",
      "add key\n",
      "add key\n",
      "After:  {'green': 12, 'blue': 20, 'red': 5, 'orange': 9}\n"
     ]
    }
   ],
   "source": [
    "# use defaultdict as example about take support function as argument\n",
    "# defaultdict(default_factor, dict_value)\n",
    "# default_factory is function which will triggered if defaultdict[key] do not have the key\n",
    "from collections import defaultdict\n",
    "\n",
    "def log_missing():\n",
    "    print('add key')\n",
    "    return 0\n",
    "    \n",
    "current = {'green': 12, 'blue': 3}\n",
    "increments = [\n",
    "('red', 5),\n",
    "('blue', 17),\n",
    "('orange', 9),\n",
    "]\n",
    "result = defaultdict(log_missing, current)\n",
    "print('Before:', dict(result)) # cast defaultdict into dict\n",
    "for key, amount in increments:\n",
    "    result[key] += amount\n",
    "print('After: ', dict(result))\n"
   ]
  },
  {
   "cell_type": "code",
   "execution_count": 2,
   "metadata": {},
   "outputs": [
    {
     "name": "stdout",
     "output_type": "stream",
     "text": [
      "Before: {'green': 12, 'blue': 3}\n",
      "After:  {'green': 12, 'blue': 20, 'red': 5, 'orange': 9}\n"
     ]
    }
   ],
   "source": [
    "#define class to handle default_factory of defaultdict object\n",
    "#__call__() build in method allow other instance to be called from other function. instance will trigger call like normal function.\n",
    "class BetterMissingCounter(object):\n",
    "\n",
    "    def __init__(self):\n",
    "        self._added = 0\n",
    "\n",
    "    def __call__(self):\n",
    "        self._added += 1\n",
    "        return 0\n",
    "\n",
    "counter = BetterMissingCounter()\n",
    "\n",
    "result = defaultdict(counter, current)\n",
    "print('Before:', dict(result)) # cast defaultdict into dict\n",
    "for key, amount in increments:\n",
    "    result[key] += amount\n",
    "print('After: ', dict(result))"
   ]
  },
  {
   "cell_type": "markdown",
   "metadata": {},
   "source": []
  },
  {
   "cell_type": "markdown",
   "metadata": {},
   "source": [
    "**Summary:**\n",
    "- prefer help function instead of helper class. here we have example of defaultdict(default_factor, dict_value)\n",
    "- helper class with __call__ method which allow other function to instance of class and instance will call __call__"
   ]
  }
 ],
 "metadata": {
  "interpreter": {
   "hash": "e997c254a1f8079c5997e54e250cb3627d598fa1a1d92bf10438cfce758154e6"
  },
  "kernelspec": {
   "display_name": "Python 3.10.1 ('venv': venv)",
   "language": "python",
   "name": "python3"
  },
  "language_info": {
   "codemirror_mode": {
    "name": "ipython",
    "version": 3
   },
   "file_extension": ".py",
   "mimetype": "text/x-python",
   "name": "python",
   "nbconvert_exporter": "python",
   "pygments_lexer": "ipython3",
   "version": "3.10.1"
  },
  "orig_nbformat": 4
 },
 "nbformat": 4,
 "nbformat_minor": 2
}
