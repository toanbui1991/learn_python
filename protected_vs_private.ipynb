{
 "cells": [
  {
   "cell_type": "code",
   "execution_count": 6,
   "metadata": {},
   "outputs": [
    {
     "name": "stdout",
     "output_type": "stream",
     "text": [
      "normal attribute:  Ford\n",
      "protected attribute:  Evered\n",
      "normal attribute:  Hyndai\n",
      "protected attribute:  New Hyndai Model\n"
     ]
    }
   ],
   "source": [
    "class Car(object):\n",
    "    def __init__(self, brand, model, year):\n",
    "        self.brand =  brand\n",
    "        self._model = model #_leading_underscore for protected attribute\n",
    "        self.__year = year #__double_leading underscore for private attribute\n",
    "    \n",
    "brand, model, year = \"Ford\", \"Evered\", 2009\n",
    "my_car = Car(brand, model, year)\n",
    "print(\"normal attribute: \", my_car.brand)\n",
    "print(\"protected attribute: \", my_car._model)\n",
    "# print(\"private attribute: \", my_car.__year) #can not access private attribute from instance of a class\n",
    "#now try to update normal and protected attribute, we can modify data with normal attribute and protected attribute\n",
    "#protected attribute is just a remider that \n",
    "my_car.brand = \"Hyndai\"\n",
    "my_car._model = \"New Hyndai Model\"\n",
    "print(\"normal attribute: \", my_car.brand)\n",
    "print(\"protected attribute: \", my_car._model)\n",
    "\n",
    "\n"
   ]
  }
 ],
 "metadata": {
  "interpreter": {
   "hash": "e997c254a1f8079c5997e54e250cb3627d598fa1a1d92bf10438cfce758154e6"
  },
  "kernelspec": {
   "display_name": "Python 3 (ipykernel)",
   "language": "python",
   "name": "python3"
  },
  "language_info": {
   "codemirror_mode": {
    "name": "ipython",
    "version": 3
   },
   "file_extension": ".py",
   "mimetype": "text/x-python",
   "name": "python",
   "nbconvert_exporter": "python",
   "pygments_lexer": "ipython3",
   "version": "3.10.1"
  }
 },
 "nbformat": 4,
 "nbformat_minor": 4
}
