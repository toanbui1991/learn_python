{
 "cells": [
  {
   "cell_type": "markdown",
   "metadata": {},
   "source": [
    "**Note about access control modifier:**\n",
    "- in java we have access control modifier like: public, protected, private\n",
    "- public mean you can access method or attribute from any environment\n",
    "- propected means you can access attributes and methods from the current class and child of class\n",
    "- private means that you can only access it from the current class definition\n",
    "- in python we do not have those definition but we use _ (underscore) and __ (double underscore) to write method which is protected and private "
   ]
  }
 ],
 "metadata": {
  "language_info": {
   "name": "python"
  },
  "orig_nbformat": 4
 },
 "nbformat": 4,
 "nbformat_minor": 2
}
