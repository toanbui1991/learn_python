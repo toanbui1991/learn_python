{
 "cells": [
  {
   "cell_type": "code",
   "execution_count": 3,
   "metadata": {},
   "outputs": [
    {
     "data": {
      "text/plain": [
       "['abba', 'cd']"
      ]
     },
     "execution_count": 3,
     "metadata": {},
     "output_type": "execute_result"
    }
   ],
   "source": [
    "#problem: find result array after remove anagrams. anagrams is word which have the same letter\n",
    "#solution:\n",
    "    #loop throug each word in the list. for each element we check have we meet this before if we have meet this set of char the first time or not\n",
    "    #if true append word to result\n",
    "    #use one list to construct result and a dict to keep track of what we have meet before\n",
    "#learning:\n",
    "    #use defaultdict from collections package to check if we have meet the first time\n",
    "    #using sorted(string) will return a list of sorted element. use \"\".join(sorted(string))\n",
    "from collections import defaultdict\n",
    "\n",
    "\n",
    "def removeAnagrams(words):\n",
    "    result_list = []\n",
    "    anagrams_dict = defaultdict(int) #take int or list as input\n",
    "    for e in words:\n",
    "        sortede = \"\".join(sorted(e))\n",
    "        anagrams_dict[sortede] += 1\n",
    "        if anagrams_dict[sortede] == 1:\n",
    "            result_list.append(e)\n",
    "    return result_list\n",
    "\n",
    "words = [\"abba\",\"baba\",\"bbaa\",\"cd\",\"cd\"]\n",
    "removeAnagrams(words)"
   ]
  },
  {
   "cell_type": "code",
   "execution_count": null,
   "metadata": {},
   "outputs": [],
   "source": [
    "#problem: find max consecutive floor without special floor given know bottom to top [bottom, top] inclusive and special floor [start, end]\n",
    "#solution:\n",
    "    #one: loop through each element of floors, for each check it is in special floor or not\n",
    "    #two: if not special floor plus one\n",
    "    #three: wee need two int to keep compare between the current and the largest\n",
    "from typing import List\n",
    "def maxConsecutive(self, bottom: int, top: int, special: List[int]) -> int:\n",
    "    max_result = 0\n",
    "    current_result = 0\n",
    "    for e in range(bottom, top + 1):\n",
    "        if e not in special:\n",
    "            current_result += 1\n",
    "            if current_result > max_result:\n",
    "                max_result = current_result\n",
    "        else:\n",
    "            current_result = 0\n",
    "    return max_result\n",
    "\n"
   ]
  },
  {
   "cell_type": "code",
   "execution_count": null,
   "metadata": {},
   "outputs": [],
   "source": [
    "#problem: find consecutive floor which is not special floor.\n",
    "#note: special floor is a list of int denote each floor use for special purpose.\n",
    "#solution: \n",
    "    #we use sort special space, because we know sorted element we know the result from start and end, we just need to check the result between element in special spot.\n",
    "#learning:\n",
    "    #we need to repeat n-1 time because we want to take each time two element.\n",
    "\n",
    "def maxConsecutive(self, bottom: int, top: int, special: List[int]) -> int:\n",
    "\n",
    "    special.sort()\n",
    "    result = special[0] - bottom\n",
    "    #loop n -1 time\n",
    "    for i in range(1, len(special)):\n",
    "        result = max(result, special[i] - special[i-1] - 1) #\n",
    "    \n",
    "    return max(result, top - special[-1])"
   ]
  },
  {
   "cell_type": "code",
   "execution_count": null,
   "metadata": {},
   "outputs": [],
   "source": [
    "#problem: given a list of int, find combination which return largest bitwise and result\n",
    "#note: A bitwise AND is a binary operation that takes two equal-length binary representations and performs the logical AND operation on each pair of the corresponding bits. Thus, if both bits in the compared position are 1, the bit in the resulting binary representation is 1 (1 × 1 = 1); otherwise, the result is 0 (1 × 0 = 0 and 0 × 0 = 0).\n",
    "#reference about definition of bitwise and operation: \n",
    "\n",
    "def largestCombination(self, candidates: List[int]) -> int:\n",
    "    return max(sum(n & (1 << i) > 0 for n in candidates) for i in range(0, 24))"
   ]
  },
  {
   "cell_type": "code",
   "execution_count": null,
   "metadata": {},
   "outputs": [],
   "source": [
    "def largestCombination(self, candidates: List[int]) -> int:\n",
    "    s = [0 for _ in range(30)]\n",
    "    for c in candidates:\n",
    "        b = bin(c)[2:][::-1]\n",
    "        for i, d in enumerate(b):\n",
    "            if d == '1':\n",
    "                s[i] += 1\n",
    "    return max(s)"
   ]
  }
 ],
 "metadata": {
  "kernelspec": {
   "display_name": "Python 3.8.10 ('venv': venv)",
   "language": "python",
   "name": "python3"
  },
  "language_info": {
   "codemirror_mode": {
    "name": "ipython",
    "version": 3
   },
   "file_extension": ".py",
   "mimetype": "text/x-python",
   "name": "python",
   "nbconvert_exporter": "python",
   "pygments_lexer": "ipython3",
   "version": "3.8.10"
  },
  "orig_nbformat": 4,
  "vscode": {
   "interpreter": {
    "hash": "0acef43dc5f76a2ed31147fd429dfe8c79ee15b3b02be3263c02dc60771e7f23"
   }
  }
 },
 "nbformat": 4,
 "nbformat_minor": 2
}
