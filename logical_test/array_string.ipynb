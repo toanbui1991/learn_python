{
 "cells": [
  {
   "cell_type": "code",
   "execution_count": 1,
   "metadata": {},
   "outputs": [
    {
     "name": "stdout",
     "output_type": "stream",
     "text": [
      "True\n"
     ]
    }
   ],
   "source": [
    "#problem is unique: check a string contain unique element or not\n",
    "def is_unique(string: str) -> bool:\n",
    "    return len(string) == len(set(string))\n",
    "\n",
    "test_string = \"abcd\"\n",
    "print(is_unique(test_string))\n"
   ]
  },
  {
   "cell_type": "code",
   "execution_count": 2,
   "metadata": {},
   "outputs": [
    {
     "name": "stdout",
     "output_type": "stream",
     "text": [
      "True\n"
     ]
    }
   ],
   "source": [
    "#problem: check a string is permutation of another string.\n",
    "#analyze:\n",
    "    #permutation definition: given a set of element. We change position of elemens which will create new string call permutation.\n",
    "    # permutation: order matter while combination order do not matter. Example: 2345 and 3245 is different  but the same combination. we with the same set of element we will have more permutation than combination\n",
    "    # now: we do not need to go deeper in formulation and how to calculate it. we just need to know the definition of permutation and combination. and the different between the twos\n",
    "#solution:\n",
    "    #how the concept of permutation. it have to have the same number of each element.\n",
    "    #we compare two counter object\n",
    "    #we check len to reduce complexity\n",
    "from typing import Counter\n",
    "\n",
    "\n",
    "def is_permutation(string_one: str, string_two: str):\n",
    "    if len(string_one) != len(string_two):\n",
    "        return False\n",
    "    return Counter(string_one) == Counter(string_two)\n",
    "\n",
    "string_one = \"dog\"\n",
    "string_two = \"god\"\n",
    "print(is_permutation(string_one, string_two))"
   ]
  },
  {
   "cell_type": "code",
   "execution_count": null,
   "metadata": {},
   "outputs": [],
   "source": [
    "#proble: replace \" \" with \"%20\"\n",
    "def urlify_pythonic(text, length):\n",
    "    \"\"\"solution using standard library\"\"\"\n",
    "    return text[:length].replace(\" \", \"%20\")"
   ]
  },
  {
   "cell_type": "code",
   "execution_count": 6,
   "metadata": {},
   "outputs": [
    {
     "name": "stdout",
     "output_type": "stream",
     "text": [
      "dict_values([2, 2])\n"
     ]
    },
    {
     "data": {
      "text/plain": [
       "True"
      ]
     },
     "execution_count": 6,
     "metadata": {},
     "output_type": "execute_result"
    }
   ],
   "source": [
    "#problem: check a string is permutation of palindrome.\n",
    "#analyze:\n",
    "    #we have to know what is palindrome? got it.\n",
    "    #we ahve to know what is permutation? got it.\n",
    "    #how to a string is permutation fo palindrome. from the definition of palindrome we notice that each element in the string have to be even except the middle element\n",
    "#solution:\n",
    "    #check sum of of each element number <= 1\n",
    "    #if required, we need to remove space and other special character\n",
    "def is_permutation_palindrome(string: str) -> bool:\n",
    "    string = string.lower()\n",
    "    counter = Counter(string)\n",
    "    print(counter.values())\n",
    "    return sum(var % 2 for var in Counter(string).values()) <= 1\n",
    "\n",
    "test_string = \"aabb\"\n",
    "is_permutation_palindrome(test_string)"
   ]
  },
  {
   "cell_type": "code",
   "execution_count": null,
   "metadata": {},
   "outputs": [],
   "source": [
    "#problem: one edit to become another another string\n",
    "#analyzer:\n",
    "    #we need check for replace edit\n",
    "    #check for one higher and lower element insert\n",
    "def one_edit_replace(s1, s2):\n",
    "    edited = False\n",
    "    for c1, c2 in zip(s1, s2):\n",
    "        if c1 != c2:\n",
    "            if edited: #test first\n",
    "                return False\n",
    "            edited = True #update search flag\n",
    "    return True\n",
    "\n",
    "def one_edit_insert(s1, s2):\n",
    "    #s2 is one element longer than s1.\n",
    "    #move your cursor from left to right of each array if different update search flag increase index of s2\n",
    "    edited = False\n",
    "    i, j = 0, 0\n",
    "    while i < len(s1) and j < len(s2):\n",
    "        if s1[i] != s2[j]:\n",
    "            if edited:\n",
    "                return False\n",
    "            edited = True\n",
    "            j += 1\n",
    "        else:\n",
    "            i += 1\n",
    "            j += 1\n",
    "    return True\n",
    "\n",
    "def are_one_edit_different(s1, s2):\n",
    "    \"\"\"Check if a string can converted to another string with a single edit\"\"\"\n",
    "    if len(s1) == len(s2):\n",
    "        return one_edit_replace(s1, s2)\n",
    "    if len(s1) + 1 == len(s2):\n",
    "        return one_edit_insert(s1, s2)\n",
    "    if len(s1) - 1 == len(s2):\n",
    "        return one_edit_insert(s2, s1)  # noqa\n",
    "    return False"
   ]
  },
  {
   "cell_type": "code",
   "execution_count": 8,
   "metadata": {},
   "outputs": [
    {
     "name": "stdout",
     "output_type": "stream",
     "text": [
      "a6b2c4d3\n"
     ]
    }
   ],
   "source": [
    "#problem: string compress\n",
    "def string_compress(string):\n",
    "    counter = Counter(string)\n",
    "    result = \"\"\n",
    "    for key, value in counter.items():\n",
    "        result += \"{}{}\".format(key, value)\n",
    "    return result\n",
    "test_string = \"aaabbccccdddaaa\"\n",
    "print(string_compress(test_string))"
   ]
  },
  {
   "cell_type": "code",
   "execution_count": null,
   "metadata": {},
   "outputs": [],
   "source": [
    "#problem: rotate matrix 90 degree\n",
    "def rotate_matrix_pythonic(matrix):\n",
    "    \"\"\"rotates a matrix 90 degrees clockwise\"\"\"\n",
    "    n = len(matrix)\n",
    "    result = [[0] * n for i in range(n)]  # empty list of 0s\n",
    "    for i, j in zip(range(n), range(n - 1, -1, -1)):  # i counts up, j counts down\n",
    "        for k in range(n):\n",
    "            result[k][i] = matrix[j][k]\n",
    "    return result\n"
   ]
  },
  {
   "cell_type": "code",
   "execution_count": null,
   "metadata": {},
   "outputs": [],
   "source": [
    "for i in range()"
   ]
  }
 ],
 "metadata": {
  "kernelspec": {
   "display_name": "Python 3.8.10 ('venv': venv)",
   "language": "python",
   "name": "python3"
  },
  "language_info": {
   "codemirror_mode": {
    "name": "ipython",
    "version": 3
   },
   "file_extension": ".py",
   "mimetype": "text/x-python",
   "name": "python",
   "nbconvert_exporter": "python",
   "pygments_lexer": "ipython3",
   "version": "3.8.10"
  },
  "orig_nbformat": 4,
  "vscode": {
   "interpreter": {
    "hash": "0acef43dc5f76a2ed31147fd429dfe8c79ee15b3b02be3263c02dc60771e7f23"
   }
  }
 },
 "nbformat": 4,
 "nbformat_minor": 2
}
