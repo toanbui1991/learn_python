{
 "cells": [
  {
   "cell_type": "code",
   "execution_count": 1,
   "metadata": {},
   "outputs": [
    {
     "name": "stdout",
     "output_type": "stream",
     "text": [
      "longest name: Cecilia with len is: 7\n"
     ]
    }
   ],
   "source": [
    "#use zip to loop through two list as the same time\n",
    "#if two list with different length zip will stop at the first exhaut list\n",
    "#zip vs izip_longest\n",
    "names = ['Cecilia', 'Lise', 'Marie']\n",
    "name_len = [len(x) for x in names]\n",
    "#search element\n",
    "max_name = ''\n",
    "max_len = 0\n",
    "for e, l in zip(names, name_len):\n",
    "    if l > max_len:\n",
    "        max_len = l\n",
    "        max_name = e\n",
    "print('longest name: {} with len is: {}'.format(max_name, max_len))"
   ]
  },
  {
   "cell_type": "code",
   "execution_count": 2,
   "metadata": {},
   "outputs": [
    {
     "name": "stdout",
     "output_type": "stream",
     "text": [
      "Cecilia\n",
      "7\n",
      "Lise\n",
      "4\n",
      "Marie\n",
      "5\n",
      "Cecilia\n",
      "7\n",
      "Lise\n",
      "4\n",
      "Marie\n",
      "5\n",
      "New Name\n",
      "None\n"
     ]
    }
   ],
   "source": [
    "import itertools\n",
    "\n",
    "#know the different between zip vs itertools.zipo_longest.\n",
    "names.append('New Name')\n",
    "for name, length in zip(names, name_len):\n",
    "    print(name)\n",
    "    print(length)\n",
    "\n",
    "for name, length in itertools.zip_longest(names, name_len):\n",
    "    print(name)\n",
    "    print(length)"
   ]
  }
 ],
 "metadata": {
  "interpreter": {
   "hash": "e997c254a1f8079c5997e54e250cb3627d598fa1a1d92bf10438cfce758154e6"
  },
  "kernelspec": {
   "display_name": "Python 3.10.1 ('venv': venv)",
   "language": "python",
   "name": "python3"
  },
  "language_info": {
   "codemirror_mode": {
    "name": "ipython",
    "version": 3
   },
   "file_extension": ".py",
   "mimetype": "text/x-python",
   "name": "python",
   "nbconvert_exporter": "python",
   "pygments_lexer": "ipython3",
   "version": "3.10.1"
  },
  "orig_nbformat": 4
 },
 "nbformat": 4,
 "nbformat_minor": 2
}
