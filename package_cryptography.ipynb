{
 "cells": [
  {
   "cell_type": "code",
   "execution_count": 2,
   "metadata": {},
   "outputs": [
    {
     "name": "stdout",
     "output_type": "stream",
     "text": [
      "fernet key:  b'MEdMiUKYhFSJgNzazy12hcpN0WFlN3gmIaAtAH9dIuE='\n",
      "token:  b'gAAAAABiqAmiMFhZ9ZifO5tW9EATvIsPSVEHnWOhupfuf8gSjPxWlTUbhrgaALgHG9E4fGBI6RZ7Q_oX8DVnwnvk1JZWXbfV3CkiNjUmZwQKDPbIuz1jSbs='\n",
      "decrypt token content:  b'this is my dark secret'\n"
     ]
    }
   ],
   "source": [
    "#to generate fernet key and then use it to encrypt and then decrypt data\n",
    "from cryptography.fernet import Fernet\n",
    "key = Fernet.generate_key()\n",
    "print('fernet key: ', key)\n",
    "#encrypt data into token with Fernet object\n",
    "fernet = Fernet(key)\n",
    "#data want to encrypte have to be byte\n",
    "token = fernet.encrypt(b'this is my dark secret')\n",
    "print('token: ', token)\n",
    "print('decrypt token content: ', fernet.decrypt(token))\n"
   ]
  }
 ],
 "metadata": {
  "kernelspec": {
   "display_name": "Python 3.8.10 ('venv': venv)",
   "language": "python",
   "name": "python3"
  },
  "language_info": {
   "codemirror_mode": {
    "name": "ipython",
    "version": 3
   },
   "file_extension": ".py",
   "mimetype": "text/x-python",
   "name": "python",
   "nbconvert_exporter": "python",
   "pygments_lexer": "ipython3",
   "version": "3.8.10"
  },
  "orig_nbformat": 4,
  "vscode": {
   "interpreter": {
    "hash": "0acef43dc5f76a2ed31147fd429dfe8c79ee15b3b02be3263c02dc60771e7f23"
   }
  }
 },
 "nbformat": 4,
 "nbformat_minor": 2
}
