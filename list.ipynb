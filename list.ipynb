{
 "cells": [
  {
   "cell_type": "code",
   "execution_count": 4,
   "metadata": {},
   "outputs": [
    {
     "name": "stdout",
     "output_type": "stream",
     "text": [
      "first element:  One\n",
      "last element:  4\n",
      "two first element:  ['One', 1]\n",
      "two last element:  ['Four', 4]\n",
      "after insert:  ['One', 1, 'new two', 'Two', 2, 'Three', 3, 'Four', 4]\n"
     ]
    }
   ],
   "source": [
    "#note about access list\n",
    "test_list = ['One', 1, 'Two', 2, 'Three', 3, 'Four', 4]\n",
    "print('first element: ', test_list[0])\n",
    "print('last element: ', test_list[-1])\n",
    "print('two first element: ', test_list[:2])\n",
    "print('two last element: ', test_list[-2:])\n",
    "#use inser to inser element into list\n",
    "test_list.insert(2, 'new two')\n",
    "print('after insert: ', test_list)"
   ]
  },
  {
   "cell_type": "code",
   "execution_count": 6,
   "metadata": {},
   "outputs": [
    {
     "name": "stdout",
     "output_type": "stream",
     "text": [
      "change one element in list:  ['new one', 'other new one', 'new two', 'Two', 2, 'Three', 3, 'Four', 4]\n",
      "after change evalue of element:  ['new one', 'other new one', 'new two', 'Two', 2, 'Three', 3, 'Four', 4]\n"
     ]
    }
   ],
   "source": [
    "#note about change value of element in list\n",
    "test_list[0] = 'new one'\n",
    "print('change one element in list: ', test_list)\n",
    "test_list[:2] = [\"new one\", \"other new one\"]\n",
    "print('after change evalue of element: ', test_list)"
   ]
  },
  {
   "cell_type": "code",
   "execution_count": 8,
   "metadata": {},
   "outputs": [
    {
     "name": "stdout",
     "output_type": "stream",
     "text": [
      "check append:  [1, 2, 3, [5, 6, 7]]\n",
      "check extend:  [1, 2, 3, 5, 6, 7]\n",
      "check extend:  [1, 2, [5, 6, 7], 3]\n"
     ]
    }
   ],
   "source": [
    "#note about add element in list with append, extend, insert\n",
    "#what is the different between append vs insert vs extend\n",
    "list_one = [1, 2, 3]\n",
    "list_two = [5, 6, 7]\n",
    "element = 10\n",
    "list_one.append(list_two) #add element at the end\n",
    "print('check append: ', list_one)\n",
    "list_one = [1, 2, 3]\n",
    "list_two = [5, 6, 7]\n",
    "element = 10\n",
    "list_one.extend(list_two) #extend list\n",
    "print('check extend: ', list_one)\n",
    "list_one = [1, 2, 3]\n",
    "list_two = [5, 6, 7]\n",
    "element = 10\n",
    "list_one.insert(2,list_two) #extend list\n",
    "print('check extend: ', list_one)"
   ]
  },
  {
   "cell_type": "code",
   "execution_count": 11,
   "metadata": {},
   "outputs": [
    {
     "name": "stdout",
     "output_type": "stream",
     "text": [
      "check remove:  [1, '3', 4]\n",
      "check pop:  [1, 2, '3']\n",
      "check pop with position [1, 2, 4]\n",
      "check pop:  [1, 2, 4]\n",
      "check clear []\n"
     ]
    }
   ],
   "source": [
    "#note about remove element in list with method: remove, pop,\n",
    "#remove method between list vs dict: remove, pop vs pop, popitem.\n",
    "#dict: pop('key') remove by key, popitem() remove last item\n",
    "#list: remove(position) remove by value, pop(position=last) remove by position\n",
    "test_list = [1, 2, '3', 4]\n",
    "test_list.remove(2) #remove by check value\n",
    "print('check remove: ', test_list)\n",
    "test_list = [1, 2, '3', 4]\n",
    "test_list.pop() # remove last element\n",
    "print('check pop: ', test_list)\n",
    "test_list = [1, 2, '3', 4]\n",
    "test_list.pop(2) #remove by position\n",
    "print('check pop with position', test_list)\n",
    "print('check pop: ', test_list)\n",
    "test_list = [1, 2, '3', 4]\n",
    "test_list.clear() #remove all elements\n",
    "print('check clear', test_list)\n"
   ]
  },
  {
   "cell_type": "code",
   "execution_count": 12,
   "metadata": {},
   "outputs": [
    {
     "name": "stdout",
     "output_type": "stream",
     "text": [
      "apple\n",
      "banana\n",
      "cherry\n",
      "apple\n",
      "banana\n",
      "cherry\n",
      "apple\n",
      "banana\n",
      "cherry\n",
      "apple\n",
      "banana\n",
      "cherry\n"
     ]
    },
    {
     "data": {
      "text/plain": [
       "[None, None, None]"
      ]
     },
     "execution_count": 12,
     "metadata": {},
     "output_type": "execute_result"
    }
   ],
   "source": [
    "#note about loop throug list\n",
    "thislist = [\"apple\", \"banana\", \"cherry\"]\n",
    "for x in thislist:\n",
    "  print(x)\n",
    "#use range\n",
    "thislist = [\"apple\", \"banana\", \"cherry\"]\n",
    "for i in range(len(thislist)):\n",
    "  print(thislist[i])\n",
    "#use while\n",
    "thislist = [\"apple\", \"banana\", \"cherry\"]\n",
    "i = 0\n",
    "while i < len(thislist):\n",
    "  print(thislist[i])\n",
    "  i = i + 1\n",
    "# #use list comprehension\n",
    "# thislist = [\"apple\", \"banana\", \"cherry\"]\n",
    "# [print(x) for x in thislist]"
   ]
  },
  {
   "cell_type": "code",
   "execution_count": 15,
   "metadata": {},
   "outputs": [
    {
     "name": "stdout",
     "output_type": "stream",
     "text": [
      "old std:  44.063034625501714\n",
      "test_list:  [69.14285714285714, 70.14285714285714]\n",
      "new std:  0.5\n"
     ]
    }
   ],
   "source": [
    "import numpy as np\n",
    "test_list = [1, 2, 3, 4, 5, 100, 101]\n",
    "mean = np.mean(test_list)\n",
    "print('old std: ', np.std(test_list))\n",
    "test_list = [(x, np.abs(x-mean)) for x in test_list]\n",
    "test_list.sort(key=lambda x: x[1], reverse=False)\n",
    "#remove outlier, or sort one element base on other element.\n",
    "#by remove outlier we make data more concentrate, std is average error from the mean\n",
    "new_list = [x[1] for x in test_list[-2:]]\n",
    "print('test_list: ', new_list)\n",
    "print('new std: ', np.std(new_list)) \n"
   ]
  },
  {
   "cell_type": "code",
   "execution_count": 16,
   "metadata": {},
   "outputs": [
    {
     "name": "stdout",
     "output_type": "stream",
     "text": [
      "identity test between new and old list:  True\n"
     ]
    }
   ],
   "source": [
    "#note use copy method to make different object \n",
    "old_list = [1, 2, 3]\n",
    "new_list = old_list.copy()\n",
    "print('identity test between new and old list: ', new_list is not old_list) #return True"
   ]
  },
  {
   "cell_type": "code",
   "execution_count": 17,
   "metadata": {},
   "outputs": [
    {
     "name": "stdout",
     "output_type": "stream",
     "text": [
      "combine:  [1, 2, 3, 5, 6, 7]\n",
      "list_one after extend:  [1, 2, 3, 5, 6, 7]\n"
     ]
    }
   ],
   "source": [
    "#join two list with method extand and + operator\n",
    "list_one = [1,2 ,3]\n",
    "list_two = [5, 6, 7]\n",
    "combine = list_one + list_two\n",
    "print('combine: ', combine)\n",
    "#use extend method for inplace join:\n",
    "list_one.extend(list_two)\n",
    "print('list_one after extend: ', list_one)\n"
   ]
  },
  {
   "cell_type": "code",
   "execution_count": 21,
   "metadata": {},
   "outputs": [
    {
     "name": "stdout",
     "output_type": "stream",
     "text": [
      "number of 5 in the list:  4\n",
      "first 5 element is at index: 4 and value 5\n"
     ]
    }
   ],
   "source": [
    "#using count method to count the number of \n",
    "test_list = [1, 2, 3, 4, 5, 6, 7, 8, 5, 5, 5]\n",
    "print('number of 5 in the list: ', test_list.count(5))\n",
    "#use index method to find index of the first match element\n",
    "index = test_list.index(5)\n",
    "value = test_list[index]\n",
    "print(f'first 5 element is at index: {index} and value {value}')"
   ]
  },
  {
   "cell_type": "markdown",
   "metadata": {},
   "source": [
    "Summary on list method: append(element), clear(), copy(), count(element), extend(list), index(element), insert(position, element), pop(position), remove(element), reverse(), sort(key=function, reverse=True)"
   ]
  },
  {
   "cell_type": "code",
   "execution_count": 23,
   "metadata": {},
   "outputs": [
    {
     "name": "stdout",
     "output_type": "stream",
     "text": [
      "new_list:  [6, 7, 8, 9, 10]\n",
      "even list:  [2, 4, 6, 8, 10]\n"
     ]
    }
   ],
   "source": [
    "# list comprehension\n",
    "test_list = [1, 2, 3, 4, 5, 6, 7, 8, 9, 10]\n",
    "new_list = [x for x in test_list if x > 5]\n",
    "print('new_list: ', new_list)\n",
    "new_list = [x for x in test_list if x % 2 == 0]\n",
    "print('even list: ', new_list)"
   ]
  }
 ],
 "metadata": {
  "interpreter": {
   "hash": "e997c254a1f8079c5997e54e250cb3627d598fa1a1d92bf10438cfce758154e6"
  },
  "kernelspec": {
   "display_name": "Python 3.10.1 ('venv': venv)",
   "language": "python",
   "name": "python3"
  },
  "language_info": {
   "codemirror_mode": {
    "name": "ipython",
    "version": 3
   },
   "file_extension": ".py",
   "mimetype": "text/x-python",
   "name": "python",
   "nbconvert_exporter": "python",
   "pygments_lexer": "ipython3",
   "version": "3.10.1"
  },
  "orig_nbformat": 4
 },
 "nbformat": 4,
 "nbformat_minor": 2
}
