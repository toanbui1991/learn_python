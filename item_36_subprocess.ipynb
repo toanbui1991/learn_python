{
 "cells": [
  {
   "cell_type": "code",
   "execution_count": 2,
   "metadata": {},
   "outputs": [
    {
     "name": "stdout",
     "output_type": "stream",
     "text": [
      "Hello World!\n",
      "Hello World!\n"
     ]
    },
    {
     "data": {
      "text/plain": [
       "CompletedProcess(args=['echo', 'Hello World!'], returncode=0)"
      ]
     },
     "execution_count": 2,
     "metadata": {},
     "output_type": "execute_result"
    }
   ],
   "source": [
    "import subprocess\n",
    "\n",
    "#use method run which run linux command\n",
    "subprocess.run(\"echo Hello World!\", shell=True) #set shell=True to have input as string command\n",
    "subprocess.run([\"echo\", \"Hello World!\"])"
   ]
  },
  {
   "cell_type": "code",
   "execution_count": 5,
   "metadata": {},
   "outputs": [
    {
     "name": "stdout",
     "output_type": "stream",
     "text": [
      "Hello toanbui1991 /home/toanbui1991\n"
     ]
    }
   ],
   "source": [
    "#use $ for variable like: $USER\n",
    "process = subprocess.run(\"echo Hello $USER ~\", shell=True)"
   ]
  },
  {
   "cell_type": "code",
   "execution_count": 8,
   "metadata": {},
   "outputs": [
    {
     "name": "stdout",
     "output_type": "stream",
     "text": [
      "process stdout: None\n",
      "process returncode: 0\n",
      "process stderr: None\n"
     ]
    }
   ],
   "source": [
    "#completed process have 3 important attribute stdout, stderr, returncode\n",
    "#returncode is 0 mean process success without error\n",
    "print('process stdout: {}'.format(process.stdout)) #return None because stdout is print in the console\n",
    "print('process returncode: {}'.format(process.returncode))\n",
    "print('process stderr: {}'.format(process.stderr))"
   ]
  },
  {
   "cell_type": "code",
   "execution_count": 9,
   "metadata": {},
   "outputs": [
    {
     "name": "stdout",
     "output_type": "stream",
     "text": [
      "process stdout: Hello World!\n",
      "\n"
     ]
    }
   ],
   "source": [
    "#to save stdout and std error in object created use capture\n",
    "process = subprocess.run('echo Hello World!', shell=True, capture_output=True, text=True)\n",
    "print('process stdout: {}'.format(process.stdout))"
   ]
  },
  {
   "cell_type": "code",
   "execution_count": null,
   "metadata": {},
   "outputs": [],
   "source": [
    "import sys\n",
    "\n",
    "args = sys.argv[1:]\n",
    "print(args)"
   ]
  }
 ],
 "metadata": {
  "interpreter": {
   "hash": "a64837e0ff1eebf1c4f61c6be1bef911c548b0d523a16da7fe1c88b4ae3ad6ff"
  },
  "kernelspec": {
   "display_name": "Python 3.8.10 ('venv': venv)",
   "language": "python",
   "name": "python3"
  },
  "language_info": {
   "codemirror_mode": {
    "name": "ipython",
    "version": 3
   },
   "file_extension": ".py",
   "mimetype": "text/x-python",
   "name": "python",
   "nbconvert_exporter": "python",
   "pygments_lexer": "ipython3",
   "version": "3.8.10"
  },
  "orig_nbformat": 4
 },
 "nbformat": 4,
 "nbformat_minor": 2
}
