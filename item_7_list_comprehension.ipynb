{
 "cells": [
  {
   "cell_type": "code",
   "execution_count": 1,
   "metadata": {},
   "outputs": [
    {
     "name": "stdout",
     "output_type": "stream",
     "text": [
      "[6, 7, 8, 9, 10]\n",
      "maped:  [1, 4, 9, 16, 25, 36, 49, 64, 81, 100]\n",
      "second_map:  ['odd', 'even', 'odd', 'even', 'odd', 'even', 'odd', 'even', 'odd', 'even']\n"
     ]
    }
   ],
   "source": [
    "test_list = [1, 2, 3, 4, 5, 6, 7, 8, 9, 10]\n",
    "#use list comprehension as filter\n",
    "filtered = [x for x in test_list if x > 5]\n",
    "print(filtered)\n",
    "#use list comprehension as map\n",
    "maped = [x**2 for x in test_list]\n",
    "second_map = ['even' if x % 2 == 0 else 'odd' for x in test_list]\n",
    "print('maped: ', maped)\n",
    "print('second_map: ', second_map)"
   ]
  },
  {
   "cell_type": "code",
   "execution_count": 2,
   "metadata": {},
   "outputs": [
    {
     "name": "stdout",
     "output_type": "stream",
     "text": [
      "   number  type\n",
      "0       1   odd\n",
      "1       2  even\n",
      "2       3   odd\n",
      "3       4  even\n",
      "4       5   odd\n",
      "5       6  even\n",
      "6       7   odd\n",
      "7       8  even\n",
      "8       9   odd\n",
      "9      10  even\n"
     ]
    }
   ],
   "source": [
    "import pandas as pd\n",
    "data = [1, 2, 3, 4, 5, 6, 7, 8, 9, 10]\n",
    "data = pd.DataFrame({\"number\": data})\n",
    "#apply function in this case just like a map\n",
    "data[\"type\"] = data['number'].apply(lambda x: 'even' if x % 2 == 0 else 'odd')\n",
    "print(data)"
   ]
  }
 ],
 "metadata": {
  "interpreter": {
   "hash": "e997c254a1f8079c5997e54e250cb3627d598fa1a1d92bf10438cfce758154e6"
  },
  "kernelspec": {
   "display_name": "Python 3.10.1 ('venv': venv)",
   "language": "python",
   "name": "python3"
  },
  "language_info": {
   "codemirror_mode": {
    "name": "ipython",
    "version": 3
   },
   "file_extension": ".py",
   "mimetype": "text/x-python",
   "name": "python",
   "nbconvert_exporter": "python",
   "pygments_lexer": "ipython3",
   "version": "3.10.1"
  },
  "orig_nbformat": 4
 },
 "nbformat": 4,
 "nbformat_minor": 2
}
