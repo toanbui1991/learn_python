{
 "cells": [
  {
   "cell_type": "markdown",
   "id": "66c3377b-e047-482c-b32f-9cac544f5b68",
   "metadata": {},
   "source": [
    "# this is head line one\n"
   ]
  },
  {
   "cell_type": "code",
   "execution_count": null,
   "id": "5860921d-5dab-439f-b990-7bc54492b104",
   "metadata": {},
   "outputs": [],
   "source": []
  }
 ],
 "metadata": {
  "kernelspec": {
   "display_name": "Python 3 (ipykernel)",
   "language": "python",
   "name": "python3"
  },
  "language_info": {
   "codemirror_mode": {
    "name": "ipython",
    "version": 3
   },
   "file_extension": ".py",
   "mimetype": "text/x-python",
   "name": "python",
   "nbconvert_exporter": "python",
   "pygments_lexer": "ipython3",
   "version": "3.10.1"
  }
 },
 "nbformat": 4,
 "nbformat_minor": 5
}
