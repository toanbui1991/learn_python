{
 "cells": [
  {
   "cell_type": "markdown",
   "metadata": {},
   "source": [
    "we have to know the meaning of try, except, else, finally\n",
    "try:\n",
    "    try some thing\n",
    "except Exception as e:\n",
    "    do something in case of error\n",
    "    print('Exception: ', e)\n",
    "else:\n",
    "    do next step of if try success\n",
    "finally:\n",
    "    allways do this step"
   ]
  }
 ],
 "metadata": {
  "language_info": {
   "name": "python"
  },
  "orig_nbformat": 4
 },
 "nbformat": 4,
 "nbformat_minor": 2
}
