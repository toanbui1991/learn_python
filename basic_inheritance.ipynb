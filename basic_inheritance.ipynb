{
 "cells": [
  {
   "cell_type": "code",
   "execution_count": 1,
   "metadata": {},
   "outputs": [
    {
     "name": "stdout",
     "output_type": "stream",
     "text": [
      "John, Christ\n"
     ]
    }
   ],
   "source": [
    "class Person(object):\n",
    "\n",
    "    def __init__(self, firstname, lastname):\n",
    "        self.firstname = firstname\n",
    "        self.lastname = lastname\n",
    "\n",
    "    def print_name(self):\n",
    "        print('{}, {}'.format(self.firstname, self.lastname))\n",
    "\n",
    "john = Person('John', 'Christ')\n",
    "john.print_name()"
   ]
  },
  {
   "cell_type": "code",
   "execution_count": 2,
   "metadata": {},
   "outputs": [
    {
     "name": "stdout",
     "output_type": "stream",
     "text": [
      "Steve, Job\n",
      "welcome Steve Job to the class of 2009\n"
     ]
    }
   ],
   "source": [
    "# user super() method:\n",
    "# super() allow you to access parent attributes or methods:\n",
    "# super().__init__()\n",
    "# iheritance means that that instance from child class can call method from Parent class\n",
    "class Student(Person):\n",
    "\n",
    "    def __init__(self, firstname, lastname, graduate_year):\n",
    "        \"\"\"initialize Student which interitance from Person\n",
    "\n",
    "        Args:\n",
    "            firstname (str): student first name\n",
    "            lastname (str): student last name\n",
    "            graduate_year (int): student graduate year\n",
    "        \"\"\"\n",
    "        super().__init__(firstname, lastname)\n",
    "        self.graduate_year = graduate_year\n",
    "\n",
    "    def welcome(self):\n",
    "        print('welcome {} {} to the class of {}'.format(self.firstname, self.lastname, self.graduate_year))\n",
    "\n",
    "\n",
    "student_steve = Student('Steve', 'Job', 2009)\n",
    "student_steve.print_name() #call parent method\n",
    "student_steve.welcome() #call current instance method"
   ]
  },
  {
   "cell_type": "markdown",
   "metadata": {},
   "source": [
    "**Summary:**\n",
    "- Inheritance: Child class inheritnace from Parent class means that child instance can call methods and attributes of parent class\n",
    "- super() method return Parent class instance. super().__init__() will create instance of parent.\n",
    "- self parameter reference to the current instance."
   ]
  }
 ],
 "metadata": {
  "interpreter": {
   "hash": "e997c254a1f8079c5997e54e250cb3627d598fa1a1d92bf10438cfce758154e6"
  },
  "kernelspec": {
   "display_name": "Python 3.10.1 ('venv': venv)",
   "language": "python",
   "name": "python3"
  },
  "language_info": {
   "codemirror_mode": {
    "name": "ipython",
    "version": 3
   },
   "file_extension": ".py",
   "mimetype": "text/x-python",
   "name": "python",
   "nbconvert_exporter": "python",
   "pygments_lexer": "ipython3",
   "version": "3.10.1"
  },
  "orig_nbformat": 4
 },
 "nbformat": 4,
 "nbformat_minor": 2
}
