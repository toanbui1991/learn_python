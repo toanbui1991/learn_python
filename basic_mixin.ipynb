{
 "cells": [
  {
   "cell_type": "markdown",
   "metadata": {},
   "source": [
    "**Note about mixin in python:**\n",
    "- reference about mixin in python:https://www.pythontutorial.net/python-oop/python-mixin/\n",
    "- We have two Class Person (name), and Employee (name, skills, dependencies).\n",
    "- We have design that Employee is inheritant from Person.\n",
    "- __init__ method is method to initiate instance from class\n",
    "- we can use super.__init__(self, name) to build instance of Person which Employee inheritance from.\n",
    "- mixin in python is class which add functionality to class\n",
    "- how to use mixin class ClassName(MixinName, ParentClass)\n",
    "- In the example we define two mixin DictMixin, JsonMixin.\n",
    "- Mixin is class which combine with parent to add functionality. it still use self to reference to class instance."
   ]
  },
  {
   "cell_type": "markdown",
   "metadata": {},
   "source": [
    "**Example of using mixin in Django ModelViewSet:**\n",
    "- reference link: https://github.com/encode/django-rest-framework/blob/master/rest_framework/viewsets.py\n",
    "- ModelViewSet inheritance from GenericViewSet and add functionality use mixin concept (CreateModelMixin, RetrieveModelMixin, UpdateModelMixin, DestroyModelMixin, ListModelMixin)\n",
    "- ModelViewSet is View which have specified model and have a set of action base on that models.\n",
    "- ModelViewSet default methods: create, update, partial_update, destroy, list"
   ]
  },
  {
   "cell_type": "markdown",
   "metadata": {},
   "source": [
    "**Note about Model Mixin:**\n",
    "- reference link: https://github.com/encode/django-rest-framework/blob/master/rest_framework/mixins.py\n",
    "- mixin is class which do not have init method but have additional method for main class.\n",
    "- mixin still use self to reference to main class instance.\n",
    "- these class we some method like get_serializer, get_queryset and filter_queryset which from "
   ]
  }
 ],
 "metadata": {
  "language_info": {
   "name": "python"
  },
  "orig_nbformat": 4
 },
 "nbformat": 4,
 "nbformat_minor": 2
}
