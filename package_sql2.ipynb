{
 "cells": [
  {
   "cell_type": "code",
   "execution_count": 7,
   "metadata": {},
   "outputs": [
    {
     "name": "stdout",
     "output_type": "stream",
     "text": [
      "('01581', 'Westboro                                          ', 1)\n"
     ]
    }
   ],
   "source": [
    "#take some note about python sql package like: mysqlcient, pymssql, psycopg2\n",
    "import MySQLdb\n",
    "mysql_config = {'host': 'localhost', 'port': 3306, 'user': 'root', 'password': 'Buixuantoan@916263'}\n",
    "con = MySQLdb.connect(**mysql_config) #return Connection object\n",
    "query = \"\"\"SELECT * FROM northwind.Territories;\"\"\"\n",
    "cursor = con.cursor() #Connection.cursor() return Cursor object\n",
    "try:\n",
    "    cursor.execute(query)\n",
    "    data = cursor.fetchone() # return tuple\n",
    "    # cursor.fetchmany(5) # return tuple of tuple\n",
    "    # cursor.fetchall() # return tuple of tuple\n",
    "    con.commit()\n",
    "except Exception as error:\n",
    "    con.rollback()\n",
    "    print('Error: ', error)\n",
    "print(data)"
   ]
  },
  {
   "cell_type": "code",
   "execution_count": 4,
   "metadata": {},
   "outputs": [
    {
     "name": "stdout",
     "output_type": "stream",
     "text": [
      "(1, 'Beverages', 'Soft drinks, coffees, teas, beers, and ales', <memory at 0x0000022E94F8EA40>)\n"
     ]
    }
   ],
   "source": [
    "import psycopg2\n",
    "connection_config = {'host': 'localhost', 'port': '5433', 'user': 'postgres', 'password': 'Buixuantoan@916263'}\n",
    "connection = psycopg2.connect(**connection_config)\n",
    "cursor = connection.cursor()\n",
    "query = \"\"\"SELECT * FROM public.categories\"\"\"\n",
    "try: \n",
    "    cursor.execute(query)\n",
    "    data = cursor.fetchone() #return  tuple\n",
    "    con.commit()\n",
    "except Exception as error:\n",
    "    print('Error: ', error)\n",
    "    con.rollback()\n",
    "print(data)\n"
   ]
  },
  {
   "cell_type": "code",
   "execution_count": 11,
   "metadata": {},
   "outputs": [
    {
     "name": "stdout",
     "output_type": "stream",
     "text": [
      "(1, 'Beverages', 'Soft drinks, coffees, teas, beers, and ales')\n",
      "query with params: \n",
      "(8, 'Seafood', 'Seaweed and fish')\n"
     ]
    }
   ],
   "source": [
    "#use pymsyql to connect with sql server because it use standard python interfance for execute and executemany method\n",
    "import pymssql\n",
    "con_config = {\"host\": \"localhost\", \"port\": 1433, \"user\": \"sa\", \"password\": \"Buixuantoan@916263\", \"database\": \"Northwind\"}\n",
    "con = pymssql.connect(**con_config)\n",
    "cursor = con.cursor()\n",
    "query = \"\"\"SELECT CategoryID, CategoryName, Description FROM dbo.Categories\"\"\"\n",
    "try:\n",
    "    cursor.execute(query)\n",
    "    data = cursor.fetchone()\n",
    "    con.commit()\n",
    "except Exception as error:\n",
    "    print(\"Error: \", error)\n",
    "    con.rollback()\n",
    "print(data)\n",
    "#query with params\n",
    "query = \"\"\"SELECT CategoryID, CategoryName, Description FROM dbo.Categories WHERE CategoryName = %s\"\"\"\n",
    "params = ('Seafood')\n",
    "try:\n",
    "    cursor.execute(query, params)\n",
    "    data = cursor.fetchone()\n",
    "    con.commit()\n",
    "except Exception as error:\n",
    "    print(\"Error: \", error)\n",
    "    con.rollback()\n",
    "print('query with params: ')\n",
    "print(data)\n"
   ]
  },
  {
   "cell_type": "markdown",
   "metadata": {},
   "source": [
    "- to work with sql database like mysql, postgres, sql server we use package: mysqlcient, psycopg2 and pymssql\n",
    "- python sql client package have two important Class: Connection, Cursor\n",
    "- Connection with method: commit(), rollback(), close(), MySQLbd.connect(), Connection.cursor()\n",
    "- Cusor with method: execute(query, params), executemany(query, params)"
   ]
  }
 ],
 "metadata": {
  "interpreter": {
   "hash": "e997c254a1f8079c5997e54e250cb3627d598fa1a1d92bf10438cfce758154e6"
  },
  "kernelspec": {
   "display_name": "Python 3.10.1 ('venv': venv)",
   "language": "python",
   "name": "python3"
  },
  "language_info": {
   "codemirror_mode": {
    "name": "ipython",
    "version": 3
   },
   "file_extension": ".py",
   "mimetype": "text/x-python",
   "name": "python",
   "nbconvert_exporter": "python",
   "pygments_lexer": "ipython3",
   "version": "3.10.1"
  },
  "orig_nbformat": 4
 },
 "nbformat": 4,
 "nbformat_minor": 2
}
