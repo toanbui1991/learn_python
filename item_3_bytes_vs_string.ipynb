{
 "cells": [
  {
   "cell_type": "code",
   "execution_count": 3,
   "metadata": {},
   "outputs": [
    {
     "name": "stdout",
     "output_type": "stream",
     "text": [
      "bytes:  b'\\xc4\\x91\\xc3\\xa2y l\\xc3\\xa0 ti\\xe1\\xba\\xbfng vi\\xe1\\xbb\\x87t'\n",
      "decoded_string:  đây là tiếng việt\n"
     ]
    }
   ],
   "source": [
    "#bytes: is string presentation for computer\n",
    "#string: is text present for human to read\n",
    "# string.encode() vs bytes.decode(). encode change to something that humand can not read vs encode make it's humand readible\n",
    "string = 'đây là tiếng việt'\n",
    "random_bytes = string.encode() \n",
    "print('bytes: ', random_bytes)\n",
    "decoded_string = random_bytes.decode()\n",
    "print('decoded_string: ', decoded_string)"
   ]
  },
  {
   "cell_type": "code",
   "execution_count": 6,
   "metadata": {},
   "outputs": [],
   "source": [
    "#write string and bytes to file system.\n",
    "# file_name.bin is a file content bytes data whilte .txt is a text file\n",
    "# we have to know between read and write mode of bytes and string: 'r' vs 'rb', 'w' vs 'wb'\n",
    "with open('string.txt', 'w', encoding='utf-8') as file:\n",
    "    file.write(string)\n",
    "\n",
    "with open('bytes.bin', 'wb') as file:\n",
    "    file.write(random_bytes)"
   ]
  },
  {
   "cell_type": "code",
   "execution_count": 8,
   "metadata": {},
   "outputs": [
    {
     "name": "stdout",
     "output_type": "stream",
     "text": [
      "đây là tiếng việt\n",
      "b'\\xc4\\x91\\xc3\\xa2y l\\xc3\\xa0 ti\\xe1\\xba\\xbfng vi\\xe1\\xbb\\x87t'\n",
      "decoded_data:  đây là tiếng việt\n"
     ]
    }
   ],
   "source": [
    "#ues read method to read data from text file and bytes file\n",
    "with open('./string.txt', 'r', encoding='utf-8') as file:\n",
    "    data = file.read()\n",
    "print(data)\n",
    "\n",
    "with open('./bytes.bin', 'rb') as file:\n",
    "    data = file.read()\n",
    "print(data)\n",
    "decoded_data = data.decode()\n",
    "print('decoded_data: ', decoded_data)"
   ]
  },
  {
   "cell_type": "markdown",
   "metadata": {},
   "source": [
    "**Summary:**\n",
    "- bytes: computer string\n",
    "- str: human readible string\n",
    "- read and write mode: 'r' vs 'rb', 'w' vs 'wb'\n",
    "- use enconding parameter when working with string."
   ]
  },
  {
   "cell_type": "code",
   "execution_count": null,
   "metadata": {},
   "outputs": [],
   "source": []
  }
 ],
 "metadata": {
  "interpreter": {
   "hash": "e997c254a1f8079c5997e54e250cb3627d598fa1a1d92bf10438cfce758154e6"
  },
  "kernelspec": {
   "display_name": "Python 3.10.1 ('venv': venv)",
   "language": "python",
   "name": "python3"
  },
  "language_info": {
   "codemirror_mode": {
    "name": "ipython",
    "version": 3
   },
   "file_extension": ".py",
   "mimetype": "text/x-python",
   "name": "python",
   "nbconvert_exporter": "python",
   "pygments_lexer": "ipython3",
   "version": "3.10.1"
  },
  "orig_nbformat": 4
 },
 "nbformat": 4,
 "nbformat_minor": 2
}
