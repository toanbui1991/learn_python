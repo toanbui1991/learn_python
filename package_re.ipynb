{
 "cells": [
  {
   "cell_type": "code",
   "execution_count": 3,
   "metadata": {},
   "outputs": [
    {
     "name": "stdout",
     "output_type": "stream",
     "text": [
      "[1, 2, 3]\n"
     ]
    }
   ],
   "source": [
    "import re\n",
    "#rest findall method and group method of Match object\n",
    "string = \"name=One, age=1; name=Two, age=2; name=Three, age=3\"\n",
    "#findall return a list of match group, so findall we all what you need to find all match\n",
    "#search is method we need to find first match in string and then use group to find that value\n",
    "results = re.findall(r'(age=)(\\d+)', string) \n",
    "age_list = [int(x[1]) for x in results]\n",
    "print(age_list)"
   ]
  },
  {
   "cell_type": "code",
   "execution_count": null,
   "metadata": {},
   "outputs": [],
   "source": [
    "import re\n",
    "#method search vs match and Match object\n",
    "string = \"name: toan, age: 13; name: thang, age: 15\"\n",
    "data = re.findall(r'(age: )(\\d+)', string)\n",
    "data = [int(x[1]) for x in data]\n",
    "print(data)"
   ]
  },
  {
   "cell_type": "code",
   "execution_count": 5,
   "metadata": {},
   "outputs": [
    {
     "name": "stdout",
     "output_type": "stream",
     "text": [
      "results: ['file', 'file', 'file', 'files', 'files']\n",
      "results:  []\n",
      "this results is an empty list\n"
     ]
    }
   ],
   "source": [
    "#learn to use re package with quantifier\n",
    "#\n",
    "import re\n",
    "test_string = 'file_txttxt_filefile_files_files_name.txt'\n",
    "results = re.findall(r'files?', test_string)\n",
    "print('results: {}'.format(results))\n",
    "results = re.findall(r'do not existing', test_string)\n",
    "print('results: ', results)\n",
    "if not results:\n",
    "    print('this results is an empty list')"
   ]
  }
 ],
 "metadata": {
  "interpreter": {
   "hash": "e997c254a1f8079c5997e54e250cb3627d598fa1a1d92bf10438cfce758154e6"
  },
  "kernelspec": {
   "display_name": "Python 3.10.1 ('venv': venv)",
   "language": "python",
   "name": "python3"
  },
  "language_info": {
   "codemirror_mode": {
    "name": "ipython",
    "version": 3
   },
   "file_extension": ".py",
   "mimetype": "text/x-python",
   "name": "python",
   "nbconvert_exporter": "python",
   "pygments_lexer": "ipython3",
   "version": "3.10.1"
  },
  "orig_nbformat": 4
 },
 "nbformat": 4,
 "nbformat_minor": 2
}
