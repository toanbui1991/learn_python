{
 "cells": [
  {
   "cell_type": "code",
   "execution_count": null,
   "metadata": {},
   "outputs": [],
   "source": [
    "import MySQLdb\n",
    "from config import config\n",
    "import pandas as pd\n",
    "mysql_config = config.get('MYSQL_DB')\n",
    "con= MySQLdb.connect(**mysql_config) #return Connection object\n",
    "query = \"\"\"SELECT * FROM northwind.customers;\"\"\"\n",
    "cursor = con.cursor() #Connection.cursor() return Cursor object\n",
    "try: \n",
    "    cursor.execute(query)\n",
    "    # cursor.fetchone() # return tuple\n",
    "    # cursor.fetchmany(5) # return tuple of tuple\n",
    "    data = cursor.fetchall() # return tuple of tuple\n",
    "    con.commit()\n",
    "except Exception as e:\n",
    "    print('Error: ', e)\n",
    "    con.rollback()\n",
    "data = pd.DataFrame(data)\n",
    "print(data[:5])"
   ]
  }
 ],
 "metadata": {
  "language_info": {
   "name": "python"
  },
  "orig_nbformat": 4
 },
 "nbformat": 4,
 "nbformat_minor": 2
}
