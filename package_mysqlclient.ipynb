{
 "cells": [
  {
   "cell_type": "code",
   "execution_count": 4,
   "metadata": {},
   "outputs": [
    {
     "name": "stdout",
     "output_type": "stream",
     "text": [
      "      0                                   1                   2   \\\n",
      "0  ALFKI                 Alfreds Futterkiste        Maria Anders   \n",
      "1  ANATR  Ana Trujillo Emparedados y helados        Ana Trujillo   \n",
      "2  ANTON              Antonio Moreno Taquera      Antonio Moreno   \n",
      "3  AROUT                     Around the Horn        Thomas Hardy   \n",
      "4  BERGS                   Berglunds snabbkp  Christina Berglund   \n",
      "\n",
      "                     3                             4           5     6   \\\n",
      "0  Sales Representative                 Obere Str. 57      Berlin  None   \n",
      "1                 Owner  Avda. de la Constitucin 2222  Mxico D.F.  None   \n",
      "2                 Owner               Mataderos  2312  Mxico D.F.  None   \n",
      "3  Sales Representative               120 Hanover Sq.      London  None   \n",
      "4   Order Administrator                Berguvsvgen  8        Lule  None   \n",
      "\n",
      "         7        8               9               10  \n",
      "0     12209  Germany     030-0074321     030-0076545  \n",
      "1     05021   Mexico    (5) 555-4729    (5) 555-3745  \n",
      "2     05023   Mexico    (5) 555-3932            None  \n",
      "3   WA1 1DP       UK  (171) 555-7788  (171) 555-6750  \n",
      "4  S-958 22   Sweden   0921-12 34 65   0921-12 34 67  \n"
     ]
    }
   ],
   "source": [
    "import MySQLdb\n",
    "from config import config\n",
    "import pandas as pd\n",
    "mysql_config = config.get('MYSQL_DB')\n",
    "con= MySQLdb.connect(**mysql_config) #return Connection object\n",
    "query = \"\"\"SELECT * FROM northwind.customers;\"\"\"\n",
    "cursor = con.cursor() #Connection.cursor() return Cursor object\n",
    "try: \n",
    "    cursor.execute(query)\n",
    "    # cursor.fetchone() # return tuple\n",
    "    # cursor.fetchmany(5) # return tuple of tuple\n",
    "    data = cursor.fetchall() # return tuple of tuple\n",
    "    con.commit()\n",
    "except Exception as e:\n",
    "    print('Error: ', e)\n",
    "    con.rollback()\n",
    "data = pd.DataFrame(data)\n",
    "print(data[:5])"
   ]
  },
  {
   "cell_type": "code",
   "execution_count": null,
   "metadata": {},
   "outputs": [],
   "source": [
    "#example of cursor.execute(query, params)\n",
    "c=db.cursor()\n",
    "max_price=5\n",
    "c.execute(\"\"\"SELECT spam, eggs, sausage FROM breakfast\n",
    "          WHERE price < %s\"\"\", (max_price,))"
   ]
  },
  {
   "cell_type": "markdown",
   "metadata": {},
   "source": [
    "**Note about mysqlclient package:**\n",
    "- mysqlclient package is one of the best mysql client package.\n",
    "- it allow client to make query to the mysql database\n",
    "- we have important class like: Connection and Cursor\n",
    "- most of the action will be done by Cursor object.\n",
    "- Connection methods: commit() to make change to database, rollback() to rollback execution, cursor() to make Cursor instance\n",
    "- Cursor methods: execute(query, params), executemany"
   ]
  },
  {
   "cell_type": "code",
   "execution_count": null,
   "metadata": {},
   "outputs": [],
   "source": []
  }
 ],
 "metadata": {
  "interpreter": {
   "hash": "85774d010a0dc22b6556af7bb24f717f6461c8947f987e8f71a5fd4f667cdfb0"
  },
  "kernelspec": {
   "display_name": "Python 3.10.1 ('venv': venv)",
   "language": "python",
   "name": "python3"
  },
  "language_info": {
   "codemirror_mode": {
    "name": "ipython",
    "version": 3
   },
   "file_extension": ".py",
   "mimetype": "text/x-python",
   "name": "python",
   "nbconvert_exporter": "python",
   "pygments_lexer": "ipython3",
   "version": "3.10.1"
  },
  "orig_nbformat": 4
 },
 "nbformat": 4,
 "nbformat_minor": 2
}
