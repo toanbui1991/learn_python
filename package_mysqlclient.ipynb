{
 "cells": [
  {
   "cell_type": "code",
   "execution_count": null,
   "metadata": {},
   "outputs": [],
   "source": [
    "import MySQLdb\n",
    "import sshtunnel\n",
    "from config import config\n",
    "\n",
    "sshtunnel.SSH_TIMEOUT = 5.0\n",
    "sshtunnel.TUNNEL_TIMEOUT = 5.0\n",
    "\n",
    "with sshtunnel.SSHTunnelForwarder(\n",
    "    config['remote_machine']['hostname'],\n",
    "    ssh_username=config['remote_machine']['ssh_username'], \n",
    "    ssh_password=config['remote_machine']['ssh_password'],\n",
    "    remote_bind_address=(config['remote_machine']['msql_hostname'], 3306)\n",
    ") as tunnel:\n",
    "    con = MySQLdb.connect(\n",
    "        user=config['mysql_dev']['user'],\n",
    "        passwd=config['mysql_dev']['passwd'],\n",
    "        host='127.0.0.1', #have to set this exact value\n",
    "        port=tunnel.local_bind_port,\n",
    "        db=config['mysql_dev']['db'],\n",
    "    )\n",
    "    # Do stuff\n",
    "    query = \"\"\"INSERT INTO youtube_comment_stg (target_link, title, user_id, user_name, comment)\n",
    "    VALUES (%s, %s, %s, %s, %s);\n",
    "    \"\"\"\n",
    "    cursor = con.cursor() #Connection.cursor() return Cursor object\n",
    "    #prepare data for insert\n",
    "    data = data.replace(r'^\\s*$', pd.np.nan, regex=True)\n",
    "    data = data.where((pd.notnull(data)), None)\n",
    "    #params have to be list of tuple for executemany, each tuple is a row\n",
    "    #params have to be tuple for execute.\n",
    "    data = [tuple(row) for row in data.values] \n",
    "    try: \n",
    "        cursor.executemany(query, data)\n",
    "        con.commit()\n",
    "    except Exception as e:\n",
    "        print('Error: ', e)\n",
    "        con.rollback()\n",
    "        raise Exception(e)\n",
    "    data = pd.DataFrame(data)\n",
    "    con.close()"
   ]
<<<<<<< HEAD
  },
  {
   "cell_type": "code",
   "execution_count": null,
   "metadata": {},
   "outputs": [],
   "source": [
    "#example of cursor.execute(query, params)\n",
    "cursor=db.cursor()\n",
    "max_price=5\n",
    "cursor.execute(\"\"\"SELECT spam, eggs, sausage FROM breakfast\n",
    "          WHERE price < %s\"\"\", (max_price,))"
   ]
  },
  {
   "cell_type": "code",
   "execution_count": null,
   "metadata": {},
   "outputs": [],
   "source": [
    "#example of method executemany(query, params)\n",
    "# params is a tuple or list of tuples \n",
    "cursor.executemany(\n",
    "      \"\"\"INSERT INTO breakfast (name, spam, eggs, sausage, price)\n",
    "      VALUES (%s, %s, %s, %s, %s)\"\"\",\n",
    "      [\n",
    "      (\"Spam and Sausage Lover's Plate\", 5, 1, 8, 7.95 ),\n",
    "      (\"Not So Much Spam Plate\", 3, 2, 0, 3.95 ),\n",
    "      (\"Don't Wany ANY SPAM! Plate\", 0, 4, 3, 5.95 )\n",
    "      ] )"
   ]
  },
  {
   "cell_type": "markdown",
   "metadata": {},
   "source": [
    "**Note about mysqlclient package:**\n",
    "- mysqlclient package is one of the best mysql client package.\n",
    "- it allow client to make query to the mysql database\n",
    "- we have important class like: Connection and Cursor\n",
    "- most of the action will be done by Cursor object.\n",
    "- Connection methods: commit() to make change to database, rollback() to rollback execution, cursor() to make Cursor instance\n",
    "- Cursor methods: execute(query, params), executemany(query, params), fetchone(), fetchmany(n), fetchall()\n",
    "- remember to use %s for string interpolation in python and sql syntax"
   ]
  },
  {
   "cell_type": "code",
   "execution_count": null,
   "metadata": {},
   "outputs": [],
   "source": []
=======
>>>>>>> 67f751e63236d9bab7a5f3d910577d4b60921c87
  }
 ],
 "metadata": {
  "language_info": {
   "name": "python"
  },
  "orig_nbformat": 4
 },
 "nbformat": 4,
 "nbformat_minor": 2
}
