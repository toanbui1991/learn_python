{
 "cells": [
  {
   "cell_type": "code",
   "execution_count": null,
   "metadata": {},
   "outputs": [],
   "source": [
    "import MySQLdb\n",
    "import sshtunnel\n",
    "from config import config\n",
    "\n",
    "sshtunnel.SSH_TIMEOUT = 5.0\n",
    "sshtunnel.TUNNEL_TIMEOUT = 5.0\n",
    "\n",
    "with sshtunnel.SSHTunnelForwarder(\n",
    "    config['remote_machine']['hostname'],\n",
    "    ssh_username=config['remote_machine']['ssh_username'], \n",
    "    ssh_password=config['remote_machine']['ssh_password'],\n",
    "    remote_bind_address=(config['remote_machine']['msql_hostname'], 3306)\n",
    ") as tunnel:\n",
    "    con = MySQLdb.connect(\n",
    "        user=config['mysql_dev']['user'],\n",
    "        passwd=config['mysql_dev']['passwd'],\n",
    "        host='127.0.0.1', #have to set this exact value\n",
    "        port=tunnel.local_bind_port,\n",
    "        db=config['mysql_dev']['db'],\n",
    "    )\n",
    "    # Do stuff\n",
    "    query = \"\"\"INSERT INTO youtube_comment_stg (target_link, title, user_id, user_name, comment)\n",
    "    VALUES (%s, %s, %s, %s, %s);\n",
    "    \"\"\"\n",
    "    cursor = con.cursor() #Connection.cursor() return Cursor object\n",
    "    #prepare data for insert\n",
    "    data = data.replace(r'^\\s*$', pd.np.nan, regex=True)\n",
    "    data = data.where((pd.notnull(data)), None)\n",
    "    #params have to be list of tuple for executemany, each tuple is a row\n",
    "    #params have to be tuple for execute.\n",
    "    data = [tuple(row) for row in data.values] \n",
    "    try: \n",
    "        cursor.executemany(query, data)\n",
    "        con.commit()\n",
    "    except Exception as e:\n",
    "        print('Error: ', e)\n",
    "        con.rollback()\n",
    "        raise Exception(e)\n",
    "    data = pd.DataFrame(data)\n",
    "    con.close()"
   ]
  }
 ],
 "metadata": {
  "language_info": {
   "name": "python"
  },
  "orig_nbformat": 4
 },
 "nbformat": 4,
 "nbformat_minor": 2
}
