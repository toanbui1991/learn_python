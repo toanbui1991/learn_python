{
 "cells": [
  {
   "cell_type": "code",
   "execution_count": null,
   "metadata": {},
   "outputs": [],
   "source": [
    "#use decouple package to get environment varialbe from .env config file\n",
    "# from decouple import config\n",
    "# import MySQLdb\n",
    "# import pandas as pd\n",
    "\n",
    "# mysql_config = {'host': config('MYSQL_HOST'), 'port': int(config('MYSQL_PORT')), 'user': config('MYSQL_USER'), 'password': config('MYSQL_PASSWORD')}\n",
    "# con= MySQLdb.connect(**mysql_config) #return Connection object\n",
    "# query = \"\"\"SELECT * FROM northwind.Territories;\"\"\"\n",
    "# cursor = con.cursor() #Connection.cursor() return Cursor object\n",
    "# try: \n",
    "#     cursor.execute(query)\n",
    "#     # cursor.fetchone() # return tuple\n",
    "#     # cursor.fetchmany(5) # return tuple of tuple\n",
    "#     data = cursor.fetchall() # return tuple of tuple\n",
    "#     con.commit()\n",
    "# except Exception as e:\n",
    "#     print('Error: ', e)\n",
    "#     con.rollback()\n",
    "# data = pd.DataFrame(data)"
   ]
  },
  {
   "cell_type": "code",
   "execution_count": null,
   "metadata": {},
   "outputs": [],
   "source": [
    "#note about os.environ.get\n",
    "import os\n",
    "\n",
    "print('MYSQL_HOST: {}'.format(os.environ.get('MYSQL_HOST')))"
   ]
  },
  {
   "cell_type": "markdown",
   "metadata": {},
   "source": [
    "**Summary on decouple package:**\n",
    "- decouple have function config(key) which return string\n",
    "- decouple do not work with jupyter notebook\n",
    "- config information is store at .env file"
   ]
  }
 ],
 "metadata": {
  "interpreter": {
   "hash": "e997c254a1f8079c5997e54e250cb3627d598fa1a1d92bf10438cfce758154e6"
  },
  "kernelspec": {
   "display_name": "Python 3.10.1 ('venv': venv)",
   "language": "python",
   "name": "python3"
  },
  "language_info": {
   "codemirror_mode": {
    "name": "ipython",
    "version": 3
   },
   "file_extension": ".py",
   "mimetype": "text/x-python",
   "name": "python",
   "nbconvert_exporter": "python",
   "pygments_lexer": "ipython3",
   "version": "3.10.1"
  },
  "orig_nbformat": 4
 },
 "nbformat": 4,
 "nbformat_minor": 2
}
