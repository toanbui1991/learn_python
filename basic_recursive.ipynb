{
 "cells": [
  {
   "cell_type": "code",
   "execution_count": 3,
   "metadata": {},
   "outputs": [
    {
     "ename": "KeyboardInterrupt",
     "evalue": "",
     "output_type": "error",
     "traceback": [
      "\u001b[1;31m---------------------------------------------------------------------------\u001b[0m",
      "\u001b[1;31mKeyboardInterrupt\u001b[0m                         Traceback (most recent call last)",
      "\u001b[1;32mc:\\Users\\buixu\\Toan\\python_projects\\learn_python\\basic_recursive.ipynb Cell 1'\u001b[0m in \u001b[0;36m<cell line: 10>\u001b[1;34m()\u001b[0m\n\u001b[0;32m      <a href='vscode-notebook-cell:/c%3A/Users/buixu/Toan/python_projects/learn_python/basic_recursive.ipynb#ch0000000?line=7'>8</a>\u001b[0m         \u001b[39mreturn\u001b[39;00m fib(n\u001b[39m-\u001b[39m\u001b[39m2\u001b[39m) \u001b[39m+\u001b[39m fib(n\u001b[39m-\u001b[39m\u001b[39m1\u001b[39m)\n\u001b[0;32m      <a href='vscode-notebook-cell:/c%3A/Users/buixu/Toan/python_projects/learn_python/basic_recursive.ipynb#ch0000000?line=8'>9</a>\u001b[0m n \u001b[39m=\u001b[39m \u001b[39m50\u001b[39m\n\u001b[1;32m---> <a href='vscode-notebook-cell:/c%3A/Users/buixu/Toan/python_projects/learn_python/basic_recursive.ipynb#ch0000000?line=9'>10</a>\u001b[0m result \u001b[39m=\u001b[39m fib(n)\n\u001b[0;32m     <a href='vscode-notebook-cell:/c%3A/Users/buixu/Toan/python_projects/learn_python/basic_recursive.ipynb#ch0000000?line=10'>11</a>\u001b[0m \u001b[39mprint\u001b[39m(\u001b[39m'\u001b[39m\u001b[39mfib(\u001b[39m\u001b[39m{}\u001b[39;00m\u001b[39m): \u001b[39m\u001b[39m{}\u001b[39;00m\u001b[39m'\u001b[39m\u001b[39m.\u001b[39mformat(n, result))\n",
      "\u001b[1;32mc:\\Users\\buixu\\Toan\\python_projects\\learn_python\\basic_recursive.ipynb Cell 1'\u001b[0m in \u001b[0;36mfib\u001b[1;34m(n)\u001b[0m\n\u001b[0;32m      <a href='vscode-notebook-cell:/c%3A/Users/buixu/Toan/python_projects/learn_python/basic_recursive.ipynb#ch0000000?line=5'>6</a>\u001b[0m     \u001b[39mreturn\u001b[39;00m \u001b[39m1\u001b[39m\n\u001b[0;32m      <a href='vscode-notebook-cell:/c%3A/Users/buixu/Toan/python_projects/learn_python/basic_recursive.ipynb#ch0000000?line=6'>7</a>\u001b[0m \u001b[39melse\u001b[39;00m:\n\u001b[1;32m----> <a href='vscode-notebook-cell:/c%3A/Users/buixu/Toan/python_projects/learn_python/basic_recursive.ipynb#ch0000000?line=7'>8</a>\u001b[0m     \u001b[39mreturn\u001b[39;00m fib(n\u001b[39m-\u001b[39m\u001b[39m2\u001b[39m) \u001b[39m+\u001b[39m fib(n\u001b[39m-\u001b[39;49m\u001b[39m1\u001b[39;49m)\n",
      "\u001b[1;32mc:\\Users\\buixu\\Toan\\python_projects\\learn_python\\basic_recursive.ipynb Cell 1'\u001b[0m in \u001b[0;36mfib\u001b[1;34m(n)\u001b[0m\n\u001b[0;32m      <a href='vscode-notebook-cell:/c%3A/Users/buixu/Toan/python_projects/learn_python/basic_recursive.ipynb#ch0000000?line=5'>6</a>\u001b[0m     \u001b[39mreturn\u001b[39;00m \u001b[39m1\u001b[39m\n\u001b[0;32m      <a href='vscode-notebook-cell:/c%3A/Users/buixu/Toan/python_projects/learn_python/basic_recursive.ipynb#ch0000000?line=6'>7</a>\u001b[0m \u001b[39melse\u001b[39;00m:\n\u001b[1;32m----> <a href='vscode-notebook-cell:/c%3A/Users/buixu/Toan/python_projects/learn_python/basic_recursive.ipynb#ch0000000?line=7'>8</a>\u001b[0m     \u001b[39mreturn\u001b[39;00m fib(n\u001b[39m-\u001b[39;49m\u001b[39m2\u001b[39;49m) \u001b[39m+\u001b[39m fib(n\u001b[39m-\u001b[39m\u001b[39m1\u001b[39m)\n",
      "    \u001b[1;31m[... skipping similar frames: fib at line 8 (32 times)]\u001b[0m\n",
      "\u001b[1;32mc:\\Users\\buixu\\Toan\\python_projects\\learn_python\\basic_recursive.ipynb Cell 1'\u001b[0m in \u001b[0;36mfib\u001b[1;34m(n)\u001b[0m\n\u001b[0;32m      <a href='vscode-notebook-cell:/c%3A/Users/buixu/Toan/python_projects/learn_python/basic_recursive.ipynb#ch0000000?line=5'>6</a>\u001b[0m     \u001b[39mreturn\u001b[39;00m \u001b[39m1\u001b[39m\n\u001b[0;32m      <a href='vscode-notebook-cell:/c%3A/Users/buixu/Toan/python_projects/learn_python/basic_recursive.ipynb#ch0000000?line=6'>7</a>\u001b[0m \u001b[39melse\u001b[39;00m:\n\u001b[1;32m----> <a href='vscode-notebook-cell:/c%3A/Users/buixu/Toan/python_projects/learn_python/basic_recursive.ipynb#ch0000000?line=7'>8</a>\u001b[0m     \u001b[39mreturn\u001b[39;00m fib(n\u001b[39m-\u001b[39m\u001b[39m2\u001b[39m) \u001b[39m+\u001b[39m fib(n\u001b[39m-\u001b[39;49m\u001b[39m1\u001b[39;49m)\n",
      "\u001b[1;31mKeyboardInterrupt\u001b[0m: "
     ]
    }
   ],
   "source": [
    "def fib(n):\n",
    "\n",
    "    if n == 0:\n",
    "        return 0\n",
    "    elif n == 1:\n",
    "        return 1\n",
    "    else:\n",
    "        return fib(n-2) + fib(n-1)\n",
    "n = 50\n",
    "result = fib(n)\n",
    "print('fib({}): {}'.format(n, result))"
   ]
  }
 ],
 "metadata": {
  "interpreter": {
   "hash": "e997c254a1f8079c5997e54e250cb3627d598fa1a1d92bf10438cfce758154e6"
  },
  "kernelspec": {
   "display_name": "Python 3.10.1 ('venv': venv)",
   "language": "python",
   "name": "python3"
  },
  "language_info": {
   "codemirror_mode": {
    "name": "ipython",
    "version": 3
   },
   "file_extension": ".py",
   "mimetype": "text/x-python",
   "name": "python",
   "nbconvert_exporter": "python",
   "pygments_lexer": "ipython3",
   "version": "3.10.1"
  },
  "orig_nbformat": 4
 },
 "nbformat": 4,
 "nbformat_minor": 2
}
