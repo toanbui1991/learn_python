{
 "cells": [
  {
   "cell_type": "code",
   "execution_count": 2,
   "metadata": {},
   "outputs": [
    {
     "name": "stdout",
     "output_type": "stream",
     "text": [
      "Cube: 1000\n",
      "Square: 100\n",
      "Done!\n"
     ]
    }
   ],
   "source": [
    "import threading\n",
    "  \n",
    "def print_cube(num):\n",
    "    \"\"\"\n",
    "    function to print cube of given num\n",
    "    \"\"\"\n",
    "    print(\"Cube: {}\".format(num * num * num))\n",
    "  \n",
    "def print_square(num):\n",
    "    \"\"\"\n",
    "    function to print square of given num\n",
    "    \"\"\"\n",
    "    print(\"Square: {}\".format(num * num))\n",
    "  \n",
    "print('this is the  main thread')\n",
    "# creating thread\n",
    "t1 = threading.Thread(target=print_square, args=(10,))\n",
    "t2 = threading.Thread(target=print_cube, args=(10,))\n",
    "\n",
    "# start to execute function from other thread while the main thread of the current programm is running\n",
    "t2.start()\n",
    "t1.start()\n",
    "# starting thread 2\n",
    "\n",
    "\n",
    "# wait until thread 1 is completely executed\n",
    "t1.join()\n",
    "# wait until thread 2 is completely executed\n",
    "t2.join()\n",
    "\n",
    "# both threads completely executed\n",
    "print(\"Done!\")"
   ]
  },
  {
   "cell_type": "markdown",
   "metadata": {},
   "source": [
    "**Summary on threading:**\n",
    "- theading in python allow us to run multiple function at multiple thread. the main program will run on the main thread\n",
    "- Thread(target=func, args=tuple) to init thread object\n",
    "- thread.start(), thread.join(). start to start execute function on thread while join() thread signal for the main program to wait until it completed to execute next step.\n",
    "- thread application: multiple task can process parallel and then combine result. "
   ]
  }
 ],
 "metadata": {
  "interpreter": {
   "hash": "e997c254a1f8079c5997e54e250cb3627d598fa1a1d92bf10438cfce758154e6"
  },
  "kernelspec": {
   "display_name": "Python 3.10.1 ('venv': venv)",
   "language": "python",
   "name": "python3"
  },
  "language_info": {
   "codemirror_mode": {
    "name": "ipython",
    "version": 3
   },
   "file_extension": ".py",
   "mimetype": "text/x-python",
   "name": "python",
   "nbconvert_exporter": "python",
   "pygments_lexer": "ipython3",
   "version": "3.10.1"
  },
  "orig_nbformat": 4
 },
 "nbformat": 4,
 "nbformat_minor": 2
}
