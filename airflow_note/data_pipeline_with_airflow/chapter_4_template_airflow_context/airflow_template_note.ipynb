{
 "cells": [
  {
   "cell_type": "markdown",
   "metadata": {},
   "source": [
    "**Chapter 4, we discuss about how to use template in airflow**\n",
    "- templates is collection of variables, macros and filters which can use in the template\n",
    "- reference link about templates: https://airflow.apache.org/docs/apache-airflow/stable/templates-ref.html"
   ]
  },
  {
   "cell_type": "markdown",
   "metadata": {},
   "source": [
    "**Example 4.1 use template variable:**\n",
    "- in the example use template variable: execution_date\n",
    "- reference for other variable: https://airflow.apache.org/docs/apache-airflow/stable/templates-ref.html#variables\n",
    "- reference for the example which use execution_date variable: https://github.com/BasPH/data-pipelines-with-apache-airflow/blob/master/chapter04/dags/listing_4_1.py"
   ]
  },
  {
   "cell_type": "markdown",
   "metadata": {},
   "source": [
    "**Example 4.5 using execution_data template varialbe:**\n",
    "- use execution_date template variable to specify output file_name\n",
    "- example reference: https://github.com/BasPH/data-pipelines-with-apache-airflow/blob/master/chapter04/dags/listing_4_5.py"
   ]
  },
  {
   "cell_type": "markdown",
   "metadata": {},
   "source": [
    "**Example 4.15 data pipeline with tempalte variable**\n",
    "- task sequence: get_data >> extract_gz >> fetch_pageviews\n",
    "- get_data: will get file from the internet and save to a file. using request.urlretrieve\n",
    "- extract_gz: unzip file with gunzip command\n",
    "- fetch_pageviews: read data from local file and print result"
   ]
  }
 ],
 "metadata": {
  "language_info": {
   "name": "python"
  },
  "orig_nbformat": 4
 },
 "nbformat": 4,
 "nbformat_minor": 2
}
