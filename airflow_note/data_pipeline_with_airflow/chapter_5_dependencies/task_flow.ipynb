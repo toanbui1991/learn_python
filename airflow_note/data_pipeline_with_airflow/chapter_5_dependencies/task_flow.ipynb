{
 "cells": [
  {
   "cell_type": "markdown",
   "metadata": {},
   "source": [
    "**In the version 2: we can build dag with task flow api.**\n",
    "- use can use @dag, @tag decorator to turn python function into a task and dag."
   ]
  },
  {
   "cell_type": "code",
   "execution_count": null,
   "metadata": {},
   "outputs": [],
   "source": [
    "import json\n",
    "\n",
    "import pendulum\n",
    "\n",
    "from airflow.decorators import dag, task\n",
    "@dag(\n",
    "    schedule=None,\n",
    "    start_date=pendulum.datetime(2021, 1, 1, tz=\"UTC\"),\n",
    "    catchup=False,\n",
    "    tags=['example'],\n",
    ")\n",
    "def tutorial_taskflow_api():\n",
    "\n",
    "    @task()\n",
    "    def extract():\n",
    "        #turn string to dict\n",
    "        data_string = '{\"1001\": 301.27, \"1002\": 433.21, \"1003\": 502.22}'\n",
    "        order_data_dict = json.loads(data_string)\n",
    "        return order_data_dict\n",
    "    @task(multiple_outputs=True)\n",
    "    def transform(order_data_dict: dict):\n",
    "        #compute total of all values\n",
    "        total_order_value = 0\n",
    "        for value in order_data_dict.values():\n",
    "            total_order_value += value\n",
    "        return {\"total_order_value\": total_order_value}\n",
    "    @task()\n",
    "    def load(total_order_value: float):\n",
    "        #prin data\n",
    "        print(f\"Total order value is: {total_order_value:.2f}\")\n",
    "    #using dag, task decorator and then input as normal function to buid dag\n",
    "    #it is better to just follow origin Dag and Tag class approach.\n",
    "    order_data = extract()\n",
    "    order_summary = transform(order_data)\n",
    "    load(order_summary[\"total_order_value\"])\n",
    "tutorial_taskflow_api()"
   ]
  }
 ],
 "metadata": {
  "language_info": {
   "name": "python"
  },
  "orig_nbformat": 4
 },
 "nbformat": 4,
 "nbformat_minor": 2
}
