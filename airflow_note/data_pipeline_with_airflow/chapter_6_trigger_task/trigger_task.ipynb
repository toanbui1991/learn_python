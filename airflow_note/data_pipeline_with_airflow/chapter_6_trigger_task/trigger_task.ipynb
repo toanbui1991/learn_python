{
 "cells": [
  {
   "cell_type": "markdown",
   "metadata": {},
   "source": [
    "**Sensor to control trigger for task.**\n",
    "- we can use Sensor to check for condition before trigger downstream task\n",
    "    - PythonSensor: waits for python callable return True\n",
    "    - FileSensor: waits for file or folder to land in the file system."
   ]
  },
  {
   "cell_type": "code",
   "execution_count": null,
   "metadata": {},
   "outputs": [],
   "source": [
    "from pathlib import Path\n",
    "\n",
    "import airflow.utils.dates\n",
    "from airflow import DAG\n",
    "from airflow.operators.dummy import DummyOperator\n",
    "from airflow.sensors.python import PythonSensor\n",
    "\n",
    "dag = DAG(\n",
    "    dag_id=\"figure_6_11\",\n",
    "    start_date=airflow.utils.dates.days_ago(3),\n",
    "    schedule_interval=\"0 16 * * *\",\n",
    "    description=\"A batch workflow for ingesting supermarket promotions data, demonstrating the PythonSensor.\",\n",
    "    default_args={\"depends_on_past\": True},\n",
    ")\n",
    "def _wait_for_supermarket(supermarket_id_):\n",
    "    supermarket_path = Path(\"/data/\" + supermarket_id_)\n",
    "    data_files = supermarket_path.glob(\"data-*.csv\")\n",
    "    success_file = supermarket_path / \"_SUCCESS\"\n",
    "    return data_files and success_file.exists()\n",
    "\n",
    "\n",
    "for supermarket_id in range(1, 5):\n",
    "    #using PythonSensor\n",
    "    wait = PythonSensor(\n",
    "        task_id=f\"wait_for_supermarket_{supermarket_id}\",\n",
    "        python_callable=_wait_for_supermarket,\n",
    "        op_kwargs={\"supermarket_id_\": f\"supermarket{supermarket_id}\"},\n",
    "        timeout=600,\n",
    "        dag=dag,\n",
    "    )\n",
    "    copy = DummyOperator(task_id=f\"copy_to_raw_supermarket_{supermarket_id}\", dag=dag)\n",
    "    process = DummyOperator(task_id=f\"process_supermarket_{supermarket_id}\", dag=dag)\n",
    "    create_metrics = DummyOperator(task_id=f\"create_metrics_{supermarket_id}\", dag=dag)\n",
    "    #using python sensor instance. wait for data we have files and file path exists\n",
    "    wait >> copy >> process >> create_metrics"
   ]
  }
 ],
 "metadata": {
  "language_info": {
   "name": "python"
  },
  "orig_nbformat": 4
 },
 "nbformat": 4,
 "nbformat_minor": 2
}
