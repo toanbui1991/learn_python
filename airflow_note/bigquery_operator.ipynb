{
 "cells": [
  {
   "cell_type": "markdown",
   "metadata": {},
   "source": [
    "**Airflow Operator**\n",
    "- airflow operator is the tools which airflow use to build task in different system\n",
    "- in this note we will discuss about airflow BigQuery Operator"
   ]
  },
  {
   "cell_type": "markdown",
   "metadata": {},
   "source": [
    "**Manage bigquery table with bigquery operator:**\n",
    "- create native table\n",
    "- create external table\n",
    "- fetch data from table\n",
    "- upsert table\n",
    "- update table schema\n",
    "- delete table"
   ]
  },
  {
   "cell_type": "markdown",
   "metadata": {},
   "source": [
    "**Create native table**"
   ]
  },
  {
   "cell_type": "markdown",
   "metadata": {},
   "source": [
    "**Create external table:**\n"
   ]
  },
  {
   "cell_type": "markdown",
   "metadata": {},
   "source": [
    "**Fetch data from table:**\n",
    "- this operator will return a list of tuple and each tuple is a row in the table\n",
    "- BigQueryGetDataOperator, BigQueryGetDataAsynceOperator\n",
    "- this operator only get data from a given table. Therefor it input is: task_id, dataset_id, table_id, max_results, selected_fields, bigquery_conn_id"
   ]
  },
  {
   "cell_type": "markdown",
   "metadata": {},
   "source": [
    "**Upsert table:**\n",
    "- upsert table means update exist table or create new one\n",
    "- input parameters: task_id, dataset_id, table_resource (request json put must include tableId)\n",
    "- operator name: BigQueryUpsertTableOperator\n",
    "- reference: https://airflow.apache.org/docs/apache-airflow-providers-google/stable/operators/cloud/bigquery.html#upsert-table"
   ]
  },
  {
   "cell_type": "markdown",
   "metadata": {},
   "source": [
    "**Update Table Schema:**\n",
    "- update schema of a table\n",
    "- operator name: BigQueryUpdateTableSchemaOperator\n",
    "- parameter input: task_id, dataset_id, table_id, schema_fields_update\n",
    "- reference: https://airflow.apache.org/docs/apache-airflow-providers-google/stable/operators/cloud/bigquery.html#update-table-schema"
   ]
  },
  {
   "cell_type": "markdown",
   "metadata": {},
   "source": [
    "**Delete Table:**\n",
    "- to delete table, view, materialized view\n",
    "- operator name: BigQueryDeleteTable\n",
    "- input parameter: task_id, deletion_dataset_table\n",
    "- reference: https://airflow.apache.org/docs/apache-airflow-providers-google/stable/operators/cloud/bigquery.html#delete-table"
   ]
  },
  {
   "cell_type": "markdown",
   "metadata": {},
   "source": [
    "**Execute query job:**\n",
    "- execute query in bigquery\n",
    "- operator name: BigqueryInsertJobOperator, BigqueryInsertJobAsyncOperator,\n",
    "- input parameter: task_id, configuration.\n",
    "- https://airflow.apache.org/docs/apache-airflow-providers-google/stable/operators/cloud/bigquery.html#execute-bigquery-jobs\n",
    "- BigQuery job api docs reference: https://cloud.google.com/bigquery/docs/reference/rest/v2/jobs\n",
    "- the most important is configuration is body request. one property is query."
   ]
  },
  {
   "cell_type": "markdown",
   "metadata": {},
   "source": [
    "**Validate data:**\n",
    "- check if query result have data\n",
    "- compare result to pass value\n",
    "- compare metric over time\n",
    "- check columns with predefined tests\n",
    "- check table level quality"
   ]
  },
  {
   "cell_type": "markdown",
   "metadata": {},
   "source": [
    "**Check if query result have data:**\n",
    "- operator name: BigQueryCheckOperator, BigQueryCheckAsyncOperator\n",
    "- to check the query have data\n",
    "- idea: given the query, and expect the query return one row or tax the first row. each element in the first row is valuated just one of them the check will be fail\n",
    "- reference: https://airflow.apache.org/docs/apache-airflow-providers-google/stable/operators/cloud/bigquery.html#check-if-query-result-has-data\n",
    "- input parameters: task_id, query"
   ]
  },
  {
   "cell_type": "markdown",
   "metadata": {},
   "source": [
    "**Check query result with pass value:**\n",
    "- operator name: BigQueryValueCheckOperator, BigQueryValueCheckAsyncOperator\n",
    "- to check a gain return value from query, this operator expected return single row\n",
    "- input parameter: task_id, query, pass_value\n",
    "- reference: https://airflow.apache.org/docs/apache-airflow-providers-google/stable/operators/cloud/bigquery.html#compare-query-result-to-pass-value"
   ]
  },
  {
   "cell_type": "markdown",
   "metadata": {},
   "source": [
    "**Compare metrics over time:**\n",
    "- operator name: BigqueryIntervalCheckOperator, BigqueryIntervalCheckAsyncOperator\n",
    "- to check in the different betweent the current data with previous one (days_back)\n",
    "- reference: https://airflow.apache.org/docs/apache-airflow-providers-google/stable/operators/cloud/bigquery.html#compare-metrics-over-time\n",
    "- in the example, we check that their is 50 percent or less different between current data vs the previous date data\n",
    "- input parameters: task_id, table, days_back, metrics_threshold"
   ]
  },
  {
   "cell_type": "markdown",
   "metadata": {},
   "source": [
    "**Check column with predefined test:**\n",
    "- operator name: BigQueryColumnCheckOperator\n",
    "- to do different type of test on a specific column\n",
    "- this operator is a child class of SQLColumnCheckOperator\n",
    "- reference for BigQueryCheckOperator: https://airflow.apache.org/docs/apache-airflow-providers-google/stable/operators/cloud/bigquery.html#check-columns-with-predefined-tests\n",
    "- reference for SQLColumnCheckOperator: https://airflow.apache.org/docs/apache-airflow-providers-common-sql/stable/operators.html#howto-operator-sqlcolumncheckoperator\n",
    "- type of columns check:\n",
    "  - null_check (check number of null value in column),\n",
    "  -  distinct_check (check count() number of element that are distinct),\n",
    "  -  unique_check (check number of distinct value vs number of row in column),\n",
    "  -  min (check min value in column),\n",
    "  -  max (check max value in column)"
   ]
  },
  {
   "cell_type": "code",
   "execution_count": null,
   "metadata": {
    "vscode": {
     "languageId": "plaintext"
    }
   },
   "outputs": [],
   "source": [
    "column_mapping = {\n",
    "    \"col_name\": {\n",
    "        \"null_check\": {\n",
    "            \"equal_to\": 0,\n",
    "        },\n",
    "        \"min\": {\n",
    "            \"greater_than\": 5,\n",
    "            \"leq_to\": 10,\n",
    "            \"tolerance\": 0.2,\n",
    "        },\n",
    "        \"max\": {\"less_than\": 1000, \"geq_to\": 10, \"tolerance\": 0.01},\n",
    "    }\n",
    "}"
   ]
  }
 ],
 "metadata": {
  "language_info": {
   "name": "python"
  },
  "orig_nbformat": 4
 },
 "nbformat": 4,
 "nbformat_minor": 2
}
