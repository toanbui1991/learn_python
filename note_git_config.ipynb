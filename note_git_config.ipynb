{
 "cells": [
  {
   "cell_type": "code",
   "execution_count": null,
   "metadata": {},
   "outputs": [],
   "source": [
    "#to reduce the number of time we need to type user name and password we use credential.helper\n",
    "#command: git config credential.helper store\n",
    "# when you push new code credential.helper will store username and passwod to local\n",
    "# when make push again git will use that username, password to do authentication"
   ]
  },
  {
   "cell_type": "code",
   "execution_count": null,
   "metadata": {},
   "outputs": [],
   "source": [
    "#note about git to remove git add file\n",
    "#command: git rm --cached <file_name>"
   ]
  },
  {
   "cell_type": "code",
   "execution_count": null,
   "metadata": {},
   "outputs": [],
   "source": [
    "#note about the different between git access toke vs git deploy key\n",
    "#access token is key at account level, which allow user to do all acction (push, pull, create new remote repo)\n",
    "#deploy key is key at repo level, which allow third party software to authenticate using ssh interface. deploy key is just your public key."
   ]
  }
 ],
 "metadata": {
  "language_info": {
   "name": "python"
  },
  "orig_nbformat": 4
 },
 "nbformat": 4,
 "nbformat_minor": 2
}
