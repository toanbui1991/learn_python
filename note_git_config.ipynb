{
 "cells": [
  {
   "cell_type": "code",
   "execution_count": null,
   "metadata": {},
   "outputs": [],
   "source": [
    "#to reduce the number of time we need to type user name and password we use credential.helper\n",
    "#command: git config credential.helper store\n",
    "# when you push new code credential.helper will store username and passwod to local\n",
    "# when make push again git will use that username, password to do authentication"
   ]
  },
  {
   "cell_type": "code",
   "execution_count": null,
   "metadata": {},
   "outputs": [],
   "source": [
    "#note about git to remove git add file\n",
    "#command: git rm --cached <file_name>"
   ]
  },
  {
   "cell_type": "code",
   "execution_count": null,
   "metadata": {},
   "outputs": [],
   "source": [
    "#note about the different between git access toke vs git deploy key\n",
    "#access token is key at account level, which allow user to do all acction (push, pull, create new remote repo)\n",
    "#deploy key is key at repo level, which allow third party software to authenticate using ssh interface. deploy key is just your public key."
   ]
  },
  {
   "cell_type": "code",
   "execution_count": null,
   "metadata": {},
   "outputs": [],
   "source": [
    "#Note about git merge: allow us two merge code from feature branch to main branch. which means combine code base from feature branch to main branch\n",
    "#Example: given that, we are in main branch. command: git merge feature_one, will merge (or combine) code base from feature_onr to main branch.\n",
    "    #After operation can be success or fail because of conflict. if success we have to commit change with command: git commit -m \"$message\".\n",
    "    #And, after commit we push to remote server to make permanent change in remote repo\n",
    "\n",
    "#Note about git conflict in merge operation:\n",
    "    # after we do merge operation from feature branch to main branch, if both branch have the same file with different content. it will cause conflict.\n",
    "    # when have conflict, we have to read the log to see where is the conflict and fix it by change the content of both main branch and feature branch so that it is the same\n",
    "    # on main branch, git commit -m 'fix conflict' to commit change. then, run git push to push change to server\n",
    "\n",
    "#Note about why do we need git add to add to staging, and then git commit, and then git push:\n",
    "    # git design git add for local management, git push to push change to remote and git commit to make sure user know what they are doing, and for log purpose.\n",
    "\n",
    "#Note about how to avoid config when merge:\n",
    "    # one developer work in one branch at on folder only. do not have multiple developer working with the same file\n",
    "    # if we have shared file in root folder, be careful to edit shared file want know know to resolve conflit\n",
    "\n",
    "#Note about git fetch\n",
    "    # git fetch will download commits, files and refs from remote to your local repo.      \n",
    "\n",
    "\n",
    "# Example, about how to keep your feature branch up-to-date with main branch\n",
    "    #git checkout main_branch. to move to the main_branch\n",
    "    #git fetch -p origin. to update your local repo with remote\n",
    "    #git merge origin/main. to mege your local main with remote main\n",
    "    #git checkout feature_branh. to move to feature_branch\n",
    "    #git merge main. to merge between main branch to feature branch. we have to commit change\n",
    "    #git push origin feature_branch. push change into your feature branch"
   ]
  }
 ],
 "metadata": {
  "language_info": {
   "name": "python"
  },
  "orig_nbformat": 4
 },
 "nbformat": 4,
 "nbformat_minor": 2
}
