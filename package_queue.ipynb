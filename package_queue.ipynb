{
 "cells": [
  {
   "cell_type": "code",
   "execution_count": 1,
   "metadata": {},
   "outputs": [
    {
     "name": "stdout",
     "output_type": "stream",
     "text": [
      "Working on 0\n",
      "Finished 0\n",
      "Working on 1\n",
      "Finished 1\n",
      "Working on 2\n",
      "Finished 2\n",
      "Working on 3\n",
      "Finished 3\n",
      "Working on 4\n",
      "Finished 4\n",
      "Working on 5\n",
      "Finished 5\n",
      "Working on 6\n",
      "Finished 6\n",
      "Working on 7\n",
      "Finished 7\n",
      "Working on 8\n",
      "Finished 8\n",
      "Working on 9\n",
      "Finished 9\n",
      "Working on 10\n",
      "Finished 10\n",
      "Working on 11\n",
      "Finished 11\n",
      "Working on 12\n",
      "Finished 12\n",
      "Working on 13\n",
      "Finished 13\n",
      "Working on 14\n",
      "Finished 14\n",
      "Working on 15\n",
      "Finished 15\n",
      "Working on 16\n",
      "Finished 16\n",
      "Working on 17\n",
      "Finished 17\n",
      "Working on 18\n",
      "Finished 18\n",
      "Working on 19\n",
      "Finished 19\n",
      "Working on 20\n",
      "Finished 20\n",
      "Working on 21\n",
      "Finished 21\n",
      "Working on 22\n",
      "Finished 22\n",
      "Working on 23\n",
      "Finished 23\n",
      "Working on 24\n",
      "Finished 24\n",
      "Working on 25\n",
      "Finished 25\n",
      "Working on 26\n",
      "Finished 26\n",
      "Working on 27\n",
      "Finished 27\n",
      "Working on 28\n",
      "Finished 28\n",
      "Working on 29\n",
      "Finished 29\n",
      "All work completed\n"
     ]
    }
   ],
   "source": [
    "import threading\n",
    "import queue\n",
    "\n",
    "q = queue.Queue()\n",
    "\n",
    "# queue method: queue.put, queue.get, queue.task_done, queue.join\n",
    "def worker():\n",
    "    while True:\n",
    "        item = q.get() #return single item from queue\n",
    "        print(f'Working on {item}')\n",
    "        print(f'Finished {item}')\n",
    "        q.task_done()\n",
    "\n",
    "# Turn-on the worker thread.\n",
    "threading.Thread(target=worker, daemon=True).start()\n",
    "\n",
    "# Send thirty task requests to the worker.\n",
    "for item in range(30):\n",
    "    q.put(item) #put single item into que\n",
    "\n",
    "# Block until all tasks are done.\n",
    "q.join()\n",
    "print('All work completed')"
   ]
  },
  {
   "cell_type": "code",
   "execution_count": 2,
   "metadata": {},
   "outputs": [
    {
     "name": "stdout",
     "output_type": "stream",
     "text": [
      "1\n",
      "2\n",
      "3\n",
      "4\n"
     ]
    }
   ],
   "source": [
    "list_item = [1, 2, 3, 4]\n",
    "for item in iter(list_item):\n",
    "    print(item)"
   ]
  }
 ],
 "metadata": {
  "kernelspec": {
   "display_name": "Python 3.8.10 64-bit",
   "language": "python",
   "name": "python3"
  },
  "language_info": {
   "codemirror_mode": {
    "name": "ipython",
    "version": 3
   },
   "file_extension": ".py",
   "mimetype": "text/x-python",
   "name": "python",
   "nbconvert_exporter": "python",
   "pygments_lexer": "ipython3",
   "version": "3.8.10"
  },
  "orig_nbformat": 4,
  "vscode": {
   "interpreter": {
    "hash": "916dbcbb3f70747c44a77c7bcd40155683ae19c65e1c03b4aa3499c5328201f1"
   }
  }
 },
 "nbformat": 4,
 "nbformat_minor": 2
}
