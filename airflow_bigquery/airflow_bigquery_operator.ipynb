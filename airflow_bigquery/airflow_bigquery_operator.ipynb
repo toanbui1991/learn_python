{
 "cells": [
  {
   "cell_type": "markdown",
   "metadata": {},
   "source": [
    "**In this reading section, we discuss about airflow with bigquery operator:**\n",
    "- manage datasets\n",
    "- manage tables\n",
    "- execute bigquery job\n",
    "- validate data\n",
    "- sensors"
   ]
  },
  {
   "cell_type": "markdown",
   "metadata": {},
   "source": [
    "**Manage tables:**\n",
    "- create native table:\n",
    "    - BigQueryCreateEmptyTableOperator\n",
    "    - reference: https://airflow.apache.org/docs/apache-airflow-providers-google/stable/operators/cloud/bigquery.html#create-native-table\n",
    "    - to create native empty bigquery table. we need to specified schema of table\n",
    "    - apply of this operator in bigquery: creat native empty table, create view from table, create materialized view\n",
    "    - create view by specified view parameter \n",
    "    - create materialized view by specified materialized view"
   ]
  }
 ],
 "metadata": {
  "language_info": {
   "name": "python"
  },
  "orig_nbformat": 4
 },
 "nbformat": 4,
 "nbformat_minor": 2
}
