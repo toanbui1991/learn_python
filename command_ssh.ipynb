{
 "cells": [
  {
   "cell_type": "markdown",
   "metadata": {},
   "source": [
    "**Note about openssh:**\n",
    "- openssh is command line interface which help you access remote server\n",
    "- to acess remote server use command: ssh -i /path/to/private_key username@remote_machine_ip\n",
    "- generate keys with command: ssh_genkey -t rsa -b 4096\n",
    "- concept of private key vs public key: private key is the key that store in your local machine, public key is key store in your remote machine. when make request your remote machine will compare between public key vs private key to do the authentication.\n",
    "- copy public key to remote machine with command: scp local_path_public_key username@remote_machine_ip:remote_path\n",
    "- cat to public key to authorized_keys: cat id_rsa.pub >> authorized_keys\n",
    "- change .ssh and it's files permission using command chmod: chmod 700 ~/.ssh and chmod\n",
    "- or we can use command: ssh-copy-id "
   ]
  }
 ],
 "metadata": {
  "language_info": {
   "name": "python"
  },
  "orig_nbformat": 4
 },
 "nbformat": 4,
 "nbformat_minor": 2
}
