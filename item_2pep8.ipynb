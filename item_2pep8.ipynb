{
 "cells": [
  {
   "cell_type": "code",
   "execution_count": 1,
   "metadata": {},
   "outputs": [],
   "source": [
    "#if we  use python we have to use pep8 convention\n",
    "#Naming:\n",
    "#function, variable, attributes name: lowercase_underscore\n",
    "#protected instance attribute: _leading_underscore\n",
    "#private instance attribute: __double_leading_underscore\n",
    "# protected vs private: access from Class which is Child of \n",
    "#class name with CapitalizedWord\n",
    "#constant with  ALL_CAPS\n",
    "#instance method should use self as the first parameter.\n",
    "#class method should use cls as the first parameter\n"
   ]
  },
  {
   "cell_type": "markdown",
   "metadata": {},
   "source": [
    "**Expression and Statement**\n",
    "- identity check with (if a is not b) instead of (if not a is b).\n",
    "- check empty value like [] or '' with (if not my_list) instead of  using len (if len(my_list) == 0)\n",
    "- check non empy value liek [1, 2] or 'some string' with (if mylist) instead of (if len(my_list) > 0)\n",
    "- avoid use single if, for, while and except statement. try to expand for more clearity.\n",
    "- allways put import at the top of the file\n",
    "- allways try to import package from full name module like: from datetime import datetime\n",
    "\n"
   ]
  },
  {
   "cell_type": "code",
   "execution_count": null,
   "metadata": {},
   "outputs": [],
   "source": []
  },
  {
   "cell_type": "markdown",
   "metadata": {},
   "source": []
  }
 ],
 "metadata": {
  "interpreter": {
   "hash": "e997c254a1f8079c5997e54e250cb3627d598fa1a1d92bf10438cfce758154e6"
  },
  "kernelspec": {
   "display_name": "Python 3 (ipykernel)",
   "language": "python",
   "name": "python3"
  },
  "language_info": {
   "codemirror_mode": {
    "name": "ipython",
    "version": 3
   },
   "file_extension": ".py",
   "mimetype": "text/x-python",
   "name": "python",
   "nbconvert_exporter": "python",
   "pygments_lexer": "ipython3",
   "version": "3.10.1"
  }
 },
 "nbformat": 4,
 "nbformat_minor": 4
}
